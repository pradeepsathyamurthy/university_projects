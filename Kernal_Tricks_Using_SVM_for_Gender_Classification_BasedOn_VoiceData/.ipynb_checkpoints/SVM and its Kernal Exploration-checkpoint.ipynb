{
 "cells": [
  {
   "cell_type": "markdown",
   "metadata": {},
   "source": [
    "# <font color='blue'>Author: Pradeep Sathyamurthy </font>\n",
    "# <font color='blue'>Date Started: Oct 15, 2017</font>\n",
    "# <font color='blue'>Last Modified Date: Oct 28, 2017</font>\n",
    "# <font color='blue'>Topic Focussed: SVM Kernals</font>\n",
    "# <font color='blue'>Dataset: Voice Dataset for Gender Regonition from <a href='https://www.kaggle.com/primaryobjects/voicegender'> Kaggle </a></font>"
   ]
  },
  {
   "cell_type": "markdown",
   "metadata": {},
   "source": [
    "# Introduction:\n",
    "### <font color='green'> 1. SVM is a kernal trick which can be used for both supervised and unsupervised learning. </font>\n",
    "### <font color='green'> 2. As part of this case study I am going to apply SVM for a supervised learning as I am aware of the class labels to be classified.</font>\n",
    "### <font color='green'> 3. Thus in this notebook I will be using the voice dataset obtained from URL sighted below to classify if the parameters for a particular instances is a male or a female</font>\n",
    "\n",
    "\n",
    "# Objective of case study:\n",
    "### <font color='green'> 1. My main objective is to apply SVM and its different kernals and observe how the margin defined helps in improving the classification accuracy</font>\n",
    "### <font color='green'> 2. I will try to tune different parameters in Kernal and choose the best tuning parameter wrt SVM to  classify the dataset </font> \n",
    "### <font color='green'> 3. I will also apply different classification techniques and compare the results obtained from these with result obtained from SVM classifier </font> \n",
    "\n",
    "# Steps involved in this case study\n",
    "### <font color='red'> 1. Data Manipulation </font>\n",
    "### <font color='red'> 2. Setting a benchmark accuracy for classifiers using Raw Data & Naive Bayes</font>\n",
    "### <font color='red'> 3. Exploratory Data Analysis </font>\n",
    "### <font color='red'> 4. Data Munging and Partition </font>\n",
    "### <font color='red'> 5. Validating the cleaned dataset with benchmark accuracy obtained</font>\n",
    "### <font color='red'> 6. Core Model Building - Applying Different Kernals for SVM </font>\n",
    "####      <font color='brown'>6.1. Linear Kernal SVM </font>\n",
    "####      <font color='brown'>6.2. RBF Kernal SVM </font>\n",
    "####      <font color='brown'>6.3. Polynomial Kernal SVM </font>\n",
    "####      <font color='brown'>6.4. Sigmoidal Kernal SVM </font>\n",
    "### <font color='red'> 7. Perfomance Evaluation on Different Kernals for SVM with 10-fold cross validation </font>\n",
    "####      <font color='brown'>7.1. Evaluation on Linear Kernal SVM </font>\n",
    "####      <font color='brown'>7.2. Evaluation on RBF Kernal SVM </font>\n",
    "####      <font color='brown'>7.3. Evaluation on Polynomial Kernal SVM </font>\n",
    "####      <font color='brown'>7.4. Evaluation on Sigmoidal Kernal SVM </font>\n",
    "### <font color='red'> 8. Parameter tuning on Different Kernals for SVM with 10-fold cross validation </font>\n",
    "####      <font color='brown'>8.1. Tuning on Linear Kernal SVM </font>\n",
    "####      <font color='brown'>8.2. Tuning on RBF Kernal SVM </font>\n",
    "####      <font color='brown'>8.3. Tuning on Polynomial Kernal SVM </font>\n",
    "### <font color='red'> 9. Choosing best Kernals Parameters with grid search</font>\n",
    "### <font color='red'> 10. Visualization of kernal Margin and boundries considereing on two columns meanfun & sp.ent </font>\n",
    "### <font color='red'> 11. Building a Decision Tree </font>\n",
    "### <font color='red'> 12. Building a KNN model </font>\n",
    "### <font color='red'> 13. Comparing individual classifier results</font>\n",
    "### <font color='red'> 14. Ensemble Learning</font>\n",
    "### <font color='red'> 15. Reporting and Discussing final results</font>\n",
    "### <font color='red'> 16. Final Model</font>"
   ]
  },
  {
   "cell_type": "markdown",
   "metadata": {},
   "source": [
    "# Dataset URL: \n",
    "\n",
    "http://www.primaryobjects.com/2016/06/22/identifying-the-gender-of-a-voice-using-machine-learning/"
   ]
  },
  {
   "cell_type": "markdown",
   "metadata": {},
   "source": [
    "# Importing Packages:"
   ]
  },
  {
   "cell_type": "code",
   "execution_count": 195,
   "metadata": {
    "collapsed": false
   },
   "outputs": [],
   "source": [
    "import pandas as pd # for data handling\n",
    "import numpy as np # for data manipulation \n",
    "import sklearn as sk\n",
    "from matplotlib import pyplot as plt # for plotting\n",
    "from sklearn.preprocessing import LabelEncoder # For encoding class variables\n",
    "from sklearn.model_selection import train_test_split # for train and test split\n",
    "from sklearn.svm import SVC # to built svm model\n",
    "from sklearn import svm # inherits other SVM objects\n",
    "from sklearn import metrics # to calculate classifiers accuracy\n",
    "from sklearn.model_selection import cross_val_score # to perform cross validation\n",
    "from sklearn.preprocessing import StandardScaler # to perform standardization\n",
    "from sklearn.model_selection import GridSearchCV # to perform grid search for all classifiers\n",
    "from sklearn import tree # to perform decision tree classification\n",
    "from sklearn import neighbors # to perform knn\n",
    "from sklearn import naive_bayes # to perform Naive Bayes\n",
    "from sklearn.metrics import classification_report # produce classifier reports\n",
    "from sklearn.ensemble import RandomForestClassifier # to perform ensemble bagging - random forest\n",
    "from sklearn.ensemble import AdaBoostClassifier # to perform ensemble boosting\n",
    "from sklearn.metrics import roc_curve, auc # to plot ROC Curve\n",
    "% matplotlib inline"
   ]
  },
  {
   "cell_type": "code",
   "execution_count": 2,
   "metadata": {
    "collapsed": false
   },
   "outputs": [
    {
     "data": {
      "text/plain": [
       "'D:\\\\Courses\\\\CSC529 - Python\\\\Case_Study2\\\\final'"
      ]
     },
     "execution_count": 2,
     "metadata": {},
     "output_type": "execute_result"
    }
   ],
   "source": [
    "%pwd"
   ]
  },
  {
   "cell_type": "code",
   "execution_count": 3,
   "metadata": {
    "collapsed": false
   },
   "outputs": [
    {
     "name": "stdout",
     "output_type": "stream",
     "text": [
      " Volume in drive D is DATA\n",
      " Volume Serial Number is 3048-DECC\n",
      "\n",
      " Directory of D:\\Courses\\CSC529 - Python\\Case_Study2\\final\n",
      "\n",
      "28-10-2017  13:24    <DIR>          .\n",
      "28-10-2017  13:24    <DIR>          ..\n",
      "28-10-2017  13:24    <DIR>          .ipynb_checkpoints\n",
      "28-10-2017  13:24           681,491 SVM and its Kernal Exploration.ipynb\n",
      "26-08-2016  09:29         1,065,381 voice.csv\n",
      "               2 File(s)      1,746,872 bytes\n",
      "               3 Dir(s)  487,571,648,512 bytes free\n"
     ]
    }
   ],
   "source": [
    "%ls"
   ]
  },
  {
   "cell_type": "markdown",
   "metadata": {},
   "source": [
    "# Step-1: Data Manipulation"
   ]
  },
  {
   "cell_type": "markdown",
   "metadata": {},
   "source": [
    "### <font color='green'>Reading Data: </font>"
   ]
  },
  {
   "cell_type": "code",
   "execution_count": 4,
   "metadata": {
    "collapsed": false
   },
   "outputs": [
    {
     "data": {
      "text/plain": [
       "(3168, 21)"
      ]
     },
     "execution_count": 4,
     "metadata": {},
     "output_type": "execute_result"
    }
   ],
   "source": [
    "# Reding the data as pandas dataframe\n",
    "data_raw = pd.read_csv('voice.csv',sep=',')\n",
    "data_raw.shape"
   ]
  },
  {
   "cell_type": "code",
   "execution_count": 5,
   "metadata": {
    "collapsed": false
   },
   "outputs": [
    {
     "data": {
      "text/html": [
       "<div>\n",
       "<table border=\"1\" class=\"dataframe\">\n",
       "  <thead>\n",
       "    <tr style=\"text-align: right;\">\n",
       "      <th></th>\n",
       "      <th>meanfreq</th>\n",
       "      <th>sd</th>\n",
       "      <th>median</th>\n",
       "      <th>Q25</th>\n",
       "      <th>Q75</th>\n",
       "      <th>IQR</th>\n",
       "      <th>skew</th>\n",
       "      <th>kurt</th>\n",
       "      <th>sp.ent</th>\n",
       "      <th>sfm</th>\n",
       "      <th>...</th>\n",
       "      <th>centroid</th>\n",
       "      <th>meanfun</th>\n",
       "      <th>minfun</th>\n",
       "      <th>maxfun</th>\n",
       "      <th>meandom</th>\n",
       "      <th>mindom</th>\n",
       "      <th>maxdom</th>\n",
       "      <th>dfrange</th>\n",
       "      <th>modindx</th>\n",
       "      <th>label</th>\n",
       "    </tr>\n",
       "  </thead>\n",
       "  <tbody>\n",
       "    <tr>\n",
       "      <th>0</th>\n",
       "      <td>0.059781</td>\n",
       "      <td>0.064241</td>\n",
       "      <td>0.032027</td>\n",
       "      <td>0.015071</td>\n",
       "      <td>0.090193</td>\n",
       "      <td>0.075122</td>\n",
       "      <td>12.863462</td>\n",
       "      <td>274.402906</td>\n",
       "      <td>0.893369</td>\n",
       "      <td>0.491918</td>\n",
       "      <td>...</td>\n",
       "      <td>0.059781</td>\n",
       "      <td>0.084279</td>\n",
       "      <td>0.015702</td>\n",
       "      <td>0.275862</td>\n",
       "      <td>0.007812</td>\n",
       "      <td>0.007812</td>\n",
       "      <td>0.007812</td>\n",
       "      <td>0.000000</td>\n",
       "      <td>0.000000</td>\n",
       "      <td>male</td>\n",
       "    </tr>\n",
       "    <tr>\n",
       "      <th>1</th>\n",
       "      <td>0.066009</td>\n",
       "      <td>0.067310</td>\n",
       "      <td>0.040229</td>\n",
       "      <td>0.019414</td>\n",
       "      <td>0.092666</td>\n",
       "      <td>0.073252</td>\n",
       "      <td>22.423285</td>\n",
       "      <td>634.613855</td>\n",
       "      <td>0.892193</td>\n",
       "      <td>0.513724</td>\n",
       "      <td>...</td>\n",
       "      <td>0.066009</td>\n",
       "      <td>0.107937</td>\n",
       "      <td>0.015826</td>\n",
       "      <td>0.250000</td>\n",
       "      <td>0.009014</td>\n",
       "      <td>0.007812</td>\n",
       "      <td>0.054688</td>\n",
       "      <td>0.046875</td>\n",
       "      <td>0.052632</td>\n",
       "      <td>male</td>\n",
       "    </tr>\n",
       "    <tr>\n",
       "      <th>2</th>\n",
       "      <td>0.077316</td>\n",
       "      <td>0.083829</td>\n",
       "      <td>0.036718</td>\n",
       "      <td>0.008701</td>\n",
       "      <td>0.131908</td>\n",
       "      <td>0.123207</td>\n",
       "      <td>30.757155</td>\n",
       "      <td>1024.927705</td>\n",
       "      <td>0.846389</td>\n",
       "      <td>0.478905</td>\n",
       "      <td>...</td>\n",
       "      <td>0.077316</td>\n",
       "      <td>0.098706</td>\n",
       "      <td>0.015656</td>\n",
       "      <td>0.271186</td>\n",
       "      <td>0.007990</td>\n",
       "      <td>0.007812</td>\n",
       "      <td>0.015625</td>\n",
       "      <td>0.007812</td>\n",
       "      <td>0.046512</td>\n",
       "      <td>male</td>\n",
       "    </tr>\n",
       "  </tbody>\n",
       "</table>\n",
       "<p>3 rows × 21 columns</p>\n",
       "</div>"
      ],
      "text/plain": [
       "   meanfreq        sd    median       Q25       Q75       IQR       skew  \\\n",
       "0  0.059781  0.064241  0.032027  0.015071  0.090193  0.075122  12.863462   \n",
       "1  0.066009  0.067310  0.040229  0.019414  0.092666  0.073252  22.423285   \n",
       "2  0.077316  0.083829  0.036718  0.008701  0.131908  0.123207  30.757155   \n",
       "\n",
       "          kurt    sp.ent       sfm  ...    centroid   meanfun    minfun  \\\n",
       "0   274.402906  0.893369  0.491918  ...    0.059781  0.084279  0.015702   \n",
       "1   634.613855  0.892193  0.513724  ...    0.066009  0.107937  0.015826   \n",
       "2  1024.927705  0.846389  0.478905  ...    0.077316  0.098706  0.015656   \n",
       "\n",
       "     maxfun   meandom    mindom    maxdom   dfrange   modindx  label  \n",
       "0  0.275862  0.007812  0.007812  0.007812  0.000000  0.000000   male  \n",
       "1  0.250000  0.009014  0.007812  0.054688  0.046875  0.052632   male  \n",
       "2  0.271186  0.007990  0.007812  0.015625  0.007812  0.046512   male  \n",
       "\n",
       "[3 rows x 21 columns]"
      ]
     },
     "execution_count": 5,
     "metadata": {},
     "output_type": "execute_result"
    }
   ],
   "source": [
    "# Verifying if all records are read \n",
    "data_raw.head(3)"
   ]
  },
  {
   "cell_type": "code",
   "execution_count": 6,
   "metadata": {
    "collapsed": false
   },
   "outputs": [
    {
     "name": "stdout",
     "output_type": "stream",
     "text": [
      "Index(['meanfreq', 'sd', 'median', 'Q25', 'Q75', 'IQR', 'skew', 'kurt',\n",
      "       'sp.ent', 'sfm', 'mode', 'centroid', 'meanfun', 'minfun', 'maxfun',\n",
      "       'meandom', 'mindom', 'maxdom', 'dfrange', 'modindx', 'label'],\n",
      "      dtype='object')\n"
     ]
    }
   ],
   "source": [
    "# having the headers handy\n",
    "columns = data_raw.columns\n",
    "print(columns)"
   ]
  },
  {
   "cell_type": "markdown",
   "metadata": {},
   "source": [
    "### <font color='green'>Data Types of Features: </font>"
   ]
  },
  {
   "cell_type": "code",
   "execution_count": 7,
   "metadata": {
    "collapsed": false
   },
   "outputs": [
    {
     "data": {
      "text/html": [
       "<div>\n",
       "<table border=\"1\" class=\"dataframe\">\n",
       "  <thead>\n",
       "    <tr style=\"text-align: right;\">\n",
       "      <th></th>\n",
       "      <th>Attribute Name</th>\n",
       "      <th>Data Type</th>\n",
       "    </tr>\n",
       "  </thead>\n",
       "  <tbody>\n",
       "    <tr>\n",
       "      <th>0</th>\n",
       "      <td>meanfreq</td>\n",
       "      <td>float64</td>\n",
       "    </tr>\n",
       "    <tr>\n",
       "      <th>1</th>\n",
       "      <td>sd</td>\n",
       "      <td>float64</td>\n",
       "    </tr>\n",
       "    <tr>\n",
       "      <th>2</th>\n",
       "      <td>median</td>\n",
       "      <td>float64</td>\n",
       "    </tr>\n",
       "    <tr>\n",
       "      <th>3</th>\n",
       "      <td>Q25</td>\n",
       "      <td>float64</td>\n",
       "    </tr>\n",
       "    <tr>\n",
       "      <th>4</th>\n",
       "      <td>Q75</td>\n",
       "      <td>float64</td>\n",
       "    </tr>\n",
       "    <tr>\n",
       "      <th>5</th>\n",
       "      <td>IQR</td>\n",
       "      <td>float64</td>\n",
       "    </tr>\n",
       "    <tr>\n",
       "      <th>6</th>\n",
       "      <td>skew</td>\n",
       "      <td>float64</td>\n",
       "    </tr>\n",
       "    <tr>\n",
       "      <th>7</th>\n",
       "      <td>kurt</td>\n",
       "      <td>float64</td>\n",
       "    </tr>\n",
       "    <tr>\n",
       "      <th>8</th>\n",
       "      <td>sp.ent</td>\n",
       "      <td>float64</td>\n",
       "    </tr>\n",
       "    <tr>\n",
       "      <th>9</th>\n",
       "      <td>sfm</td>\n",
       "      <td>float64</td>\n",
       "    </tr>\n",
       "    <tr>\n",
       "      <th>10</th>\n",
       "      <td>mode</td>\n",
       "      <td>float64</td>\n",
       "    </tr>\n",
       "    <tr>\n",
       "      <th>11</th>\n",
       "      <td>centroid</td>\n",
       "      <td>float64</td>\n",
       "    </tr>\n",
       "    <tr>\n",
       "      <th>12</th>\n",
       "      <td>meanfun</td>\n",
       "      <td>float64</td>\n",
       "    </tr>\n",
       "    <tr>\n",
       "      <th>13</th>\n",
       "      <td>minfun</td>\n",
       "      <td>float64</td>\n",
       "    </tr>\n",
       "    <tr>\n",
       "      <th>14</th>\n",
       "      <td>maxfun</td>\n",
       "      <td>float64</td>\n",
       "    </tr>\n",
       "    <tr>\n",
       "      <th>15</th>\n",
       "      <td>meandom</td>\n",
       "      <td>float64</td>\n",
       "    </tr>\n",
       "    <tr>\n",
       "      <th>16</th>\n",
       "      <td>mindom</td>\n",
       "      <td>float64</td>\n",
       "    </tr>\n",
       "    <tr>\n",
       "      <th>17</th>\n",
       "      <td>maxdom</td>\n",
       "      <td>float64</td>\n",
       "    </tr>\n",
       "    <tr>\n",
       "      <th>18</th>\n",
       "      <td>dfrange</td>\n",
       "      <td>float64</td>\n",
       "    </tr>\n",
       "    <tr>\n",
       "      <th>19</th>\n",
       "      <td>modindx</td>\n",
       "      <td>float64</td>\n",
       "    </tr>\n",
       "    <tr>\n",
       "      <th>20</th>\n",
       "      <td>label</td>\n",
       "      <td>object</td>\n",
       "    </tr>\n",
       "  </tbody>\n",
       "</table>\n",
       "</div>"
      ],
      "text/plain": [
       "   Attribute Name Data Type\n",
       "0        meanfreq   float64\n",
       "1              sd   float64\n",
       "2          median   float64\n",
       "3             Q25   float64\n",
       "4             Q75   float64\n",
       "5             IQR   float64\n",
       "6            skew   float64\n",
       "7            kurt   float64\n",
       "8          sp.ent   float64\n",
       "9             sfm   float64\n",
       "10           mode   float64\n",
       "11       centroid   float64\n",
       "12        meanfun   float64\n",
       "13         minfun   float64\n",
       "14         maxfun   float64\n",
       "15        meandom   float64\n",
       "16         mindom   float64\n",
       "17         maxdom   float64\n",
       "18        dfrange   float64\n",
       "19        modindx   float64\n",
       "20          label    object"
      ]
     },
     "execution_count": 7,
     "metadata": {},
     "output_type": "execute_result"
    }
   ],
   "source": [
    "# Data type\n",
    "df = pd.DataFrame(data_raw.dtypes,columns=['Data Type'])\n",
    "df = df.reset_index()\n",
    "df.columns = ['Attribute Name','Data Type']\n",
    "df"
   ]
  },
  {
   "cell_type": "markdown",
   "metadata": {},
   "source": [
    "### <font color='green'>Checking for Missing Values: </font>"
   ]
  },
  {
   "cell_type": "code",
   "execution_count": 9,
   "metadata": {
    "collapsed": false
   },
   "outputs": [
    {
     "name": "stdout",
     "output_type": "stream",
     "text": [
      "No missing records\n"
     ]
    }
   ],
   "source": [
    "# Checking for any missing values in data and other junk values if any\n",
    "if data_raw.isnull() is True:\n",
    "    print('There are missing records')\n",
    "else:\n",
    "    print('No missing records')"
   ]
  },
  {
   "cell_type": "markdown",
   "metadata": {},
   "source": [
    "### <font color='green'>Seperating Independent and Target Variables: </font>"
   ]
  },
  {
   "cell_type": "code",
   "execution_count": 46,
   "metadata": {
    "collapsed": false
   },
   "outputs": [
    {
     "name": "stdout",
     "output_type": "stream",
     "text": [
      "Independent var: \n",
      "    meanfreq        sd    median       Q25       Q75       IQR       skew  \\\n",
      "0  0.059781  0.064241  0.032027  0.015071  0.090193  0.075122  12.863462   \n",
      "1  0.066009  0.067310  0.040229  0.019414  0.092666  0.073252  22.423285   \n",
      "2  0.077316  0.083829  0.036718  0.008701  0.131908  0.123207  30.757155   \n",
      "\n",
      "          kurt    sp.ent       sfm  mode  centroid   meanfun    minfun  \\\n",
      "0   274.402906  0.893369  0.491918   0.0  0.059781  0.084279  0.015702   \n",
      "1   634.613855  0.892193  0.513724   0.0  0.066009  0.107937  0.015826   \n",
      "2  1024.927705  0.846389  0.478905   0.0  0.077316  0.098706  0.015656   \n",
      "\n",
      "     maxfun   meandom    mindom    maxdom   dfrange   modindx  \n",
      "0  0.275862  0.007812  0.007812  0.007812  0.000000  0.000000  \n",
      "1  0.250000  0.009014  0.007812  0.054688  0.046875  0.052632  \n",
      "2  0.271186  0.007990  0.007812  0.015625  0.007812  0.046512   \n",
      "\n",
      "Dependent var: \n",
      " 0    male\n",
      "1    male\n",
      "2    male\n",
      "Name: label, dtype: object\n",
      "sample values of target values:\n",
      " [1 1 1]\n"
     ]
    }
   ],
   "source": [
    "# let us seperate the independent and dependent variables seperately\n",
    "data_x = data_raw[columns[0:20]].copy()\n",
    "data_y = data_raw[columns[-1]].copy()\n",
    "print('Independent var: \\n',data_x.head(3),'\\n')\n",
    "print('Dependent var: \\n',data_y.head(3))"
   ]
  },
  {
   "cell_type": "markdown",
   "metadata": {},
   "source": [
    "### <font color='green'>Target Variable Encoding: </font>"
   ]
  },
  {
   "cell_type": "code",
   "execution_count": null,
   "metadata": {
    "collapsed": true
   },
   "outputs": [],
   "source": [
    "# encoding the target variable from categorical values to binary form\n",
    "encode_obj = LabelEncoder()\n",
    "data_y = encode_obj.fit_transform(data_y)\n",
    "print('sample values of target values:\\n',data_y[0:3])"
   ]
  },
  {
   "cell_type": "markdown",
   "metadata": {},
   "source": [
    "### <font color='red'> Inference: </font>\n",
    "#### 1. All independent variables are continuous in nature\n",
    "#### 2. While the target variables seems binary in nature of typr str\n",
    "#### 3. There are totally 3168 rows with 21 columns\n",
    "#### 4. There are no missing values in any of the record."
   ]
  },
  {
   "cell_type": "markdown",
   "metadata": {},
   "source": [
    "# Step-2: Setting a benchmark accuracy for classifiers using Raw Data & Naive Bayes "
   ]
  },
  {
   "cell_type": "code",
   "execution_count": 47,
   "metadata": {
    "collapsed": false
   },
   "outputs": [],
   "source": [
    "# Let us do a 80-20 split\n",
    "test_x_train,test_x_test,test_y_train,test_y_test = train_test_split(data_x,data_y,train_size=0.8,test_size=0.2,random_state=1)"
   ]
  },
  {
   "cell_type": "code",
   "execution_count": 48,
   "metadata": {
    "collapsed": false
   },
   "outputs": [
    {
     "name": "stdout",
     "output_type": "stream",
     "text": [
      "Accuracy obtained from train-test split on training data is: 0.876479873717\n",
      "Accuracy obtained from train-test split on testing data is: 0.869085173502\n"
     ]
    }
   ],
   "source": [
    "nbclf = naive_bayes.GaussianNB()\n",
    "nbclf = nbclf.fit(test_x_train, test_y_train)\n",
    "nbpreds_test = nbclf.predict(test_x_test)\n",
    "print('Accuracy obtained from train-test split on training data is:',nbclf.score(test_x_train, test_y_train))\n",
    "print('Accuracy obtained from train-test split on testing data is:',nbclf.score(test_x_test, test_y_test))"
   ]
  },
  {
   "cell_type": "code",
   "execution_count": 49,
   "metadata": {
    "collapsed": false
   },
   "outputs": [
    {
     "name": "stdout",
     "output_type": "stream",
     "text": [
      "Accuracy obtained from 10-fold cross validation on actual raw data is: 0.856713239392\n"
     ]
    }
   ],
   "source": [
    "test_eval_result = cross_val_score(nbclf, data_x, data_y, cv=10, scoring='accuracy')\n",
    "print('Accuracy obtained from 10-fold cross validation on actual raw data is:',test_eval_result.mean())"
   ]
  },
  {
   "cell_type": "markdown",
   "metadata": {},
   "source": [
    "### <font color='red'> Inference: </font>\n",
    "#### 1. Naive Bayes is a naive method which uses the probablistic theory to classify a target table\n",
    "#### 2. Since, it has a fast computation power in training a data and testing it, we can use it as a base method to validate our dataset\n",
    "#### 3. Accuracy obtained from this can be set as a bench mark for any classifier that we will start to work going forward\n",
    "#### 4. <font color='brown'> Using the raw data and classifying the dataset with Naive implementation with cross validation i obtained an accuracy of 0.85671 </font>\n",
    "#### 5. Thus, any data clean up we do further or any classifier model we build should not decrease the accuracy that we obtained here and it must always yeald a high or atleast an accuracy equal to 0.85671, else we will discard the data cleaning done or classifier built to classify the target variable."
   ]
  },
  {
   "cell_type": "markdown",
   "metadata": {},
   "source": [
    "# Step-3: Exploratory Data Analysis (EDA)"
   ]
  },
  {
   "cell_type": "code",
   "execution_count": 50,
   "metadata": {
    "collapsed": false
   },
   "outputs": [
    {
     "data": {
      "text/plain": [
       "(array([  67.,  121.,  127.,  227.,  479.,  755.,  532.,  500.,  271.,   89.]),\n",
       " array([  2.28758170e-04,   2.49405762e-02,   4.96523943e-02,\n",
       "          7.43642124e-02,   9.90760304e-02,   1.23787848e-01,\n",
       "          1.48499667e-01,   1.73211485e-01,   1.97923303e-01,\n",
       "          2.22635121e-01,   2.47346939e-01]),\n",
       " <a list of 10 Patch objects>)"
      ]
     },
     "execution_count": 50,
     "metadata": {},
     "output_type": "execute_result"
    },
    {
     "data": {
      "image/png": "[encoded data removed]",
      "text/plain": [
       "<matplotlib.figure.Figure at 0x247b7e677f0>"
      ]
     },
     "metadata": {},
     "output_type": "display_data"
    }
   ],
   "source": [
    "### plotting the independent variables\n",
    "plt.subplot(221)\n",
    "plt.hist(data_x['meanfreq'])\n",
    "plt.subplot(222)\n",
    "plt.hist(data_x['sd'])\n",
    "plt.subplot(223)\n",
    "plt.hist(data_x['median'])\n",
    "plt.subplot(224)\n",
    "plt.hist(data_x['Q25'])"
   ]
  },
  {
   "cell_type": "markdown",
   "metadata": {},
   "source": [
    "#### 1. Variables meanfreq, sd, median, Q25 are normally distributed"
   ]
  },
  {
   "cell_type": "code",
   "execution_count": 51,
   "metadata": {
    "collapsed": false
   },
   "outputs": [
    {
     "data": {
      "text/plain": [
       "(array([ 3037.,    23.,    13.,    13.,    20.,    20.,    21.,    12.,\n",
       "            5.,     4.]),\n",
       " array([    2.06845549,   132.82289868,   263.57734187,   394.33178505,\n",
       "          525.08622824,   655.84067143,   786.59511462,   917.34955781,\n",
       "         1048.10400099,  1178.85844418,  1309.61288737]),\n",
       " <a list of 10 Patch objects>)"
      ]
     },
     "execution_count": 51,
     "metadata": {},
     "output_type": "execute_result"
    },
    {
     "data": {
      "image/png": "[encoded data removed]",
      "text/plain": [
       "<matplotlib.figure.Figure at 0x247b80e4048>"
      ]
     },
     "metadata": {},
     "output_type": "display_data"
    }
   ],
   "source": [
    "plt.subplot(221)\n",
    "plt.hist(data_x['Q75'])\n",
    "plt.subplot(222)\n",
    "plt.hist(data_x['IQR'])\n",
    "plt.subplot(223)\n",
    "plt.hist(data_x['skew'])\n",
    "plt.subplot(224)\n",
    "plt.hist(data_x['kurt'])"
   ]
  },
  {
   "cell_type": "code",
   "execution_count": 52,
   "metadata": {
    "collapsed": false
   },
   "outputs": [
    {
     "name": "stdout",
     "output_type": "stream",
     "text": [
      "Mean and Median value for Q75 is:  [0.22476496141497235, 0.22568421491103252]\n",
      "Mean and Median value for IQR is:  [0.0843093709296532, 0.09427995391705071]\n"
     ]
    }
   ],
   "source": [
    "print('Mean and Median value for Q75 is: ',[data_x.Q75.mean(), data_x.Q75.median()])\n",
    "print('Mean and Median value for IQR is: ',[data_x.IQR.mean(), data_x.IQR.median()])"
   ]
  },
  {
   "cell_type": "markdown",
   "metadata": {},
   "source": [
    "#### 1. From above visualization and summary stats we can say Q75 is normally distributed\n",
    "#### 2. While IQR, skew and kurt are skewed to right"
   ]
  },
  {
   "cell_type": "code",
   "execution_count": 53,
   "metadata": {
    "collapsed": false
   },
   "outputs": [
    {
     "data": {
      "text/plain": [
       "(array([   4.,    8.,   35.,  101.,  225.,  502.,  876.,  925.,  347.,  145.]),\n",
       " array([ 0.03936334,  0.06053938,  0.08171543,  0.10289147,  0.12406751,\n",
       "         0.14524355,  0.16641959,  0.18759563,  0.20877168,  0.22994772,\n",
       "         0.25112376]),\n",
       " <a list of 10 Patch objects>)"
      ]
     },
     "execution_count": 53,
     "metadata": {},
     "output_type": "execute_result"
    },
    {
     "data": {
      "image/png": "[encoded data removed]",
      "text/plain": [
       "<matplotlib.figure.Figure at 0x247b83c41d0>"
      ]
     },
     "metadata": {},
     "output_type": "display_data"
    }
   ],
   "source": [
    "plt.subplot(221)\n",
    "plt.hist(data_x['sp.ent'])\n",
    "plt.subplot(222)\n",
    "plt.hist(data_x['sfm'])\n",
    "plt.subplot(223)\n",
    "plt.hist(data_x['mode'])\n",
    "plt.subplot(224)\n",
    "plt.hist(data_x['centroid'])"
   ]
  },
  {
   "cell_type": "code",
   "execution_count": 54,
   "metadata": {
    "collapsed": false
   },
   "outputs": [
    {
     "name": "stdout",
     "output_type": "stream",
     "text": [
      "Mean and Median value for Mode is:  [0.1652817967518845, 0.18659863945578248]\n"
     ]
    }
   ],
   "source": [
    "print('Mean and Median value for Mode is: ',[data_x['mode'].mean(), data_x['mode'].median()])"
   ]
  },
  {
   "cell_type": "markdown",
   "metadata": {},
   "source": [
    "#### 1. sp.ent, s.fm, centroid are normally distributed\n",
    "#### 2. While mode is skewed"
   ]
  },
  {
   "cell_type": "code",
   "execution_count": 55,
   "metadata": {
    "collapsed": false
   },
   "outputs": [
    {
     "data": {
      "text/plain": [
       "(array([ 576.,  645.,  634.,  533.,  404.,  203.,  113.,   41.,   16.,    3.]),\n",
       " array([ 0.0078125 ,  0.30279948,  0.59778646,  0.89277344,  1.18776042,\n",
       "         1.4827474 ,  1.77773438,  2.07272135,  2.36770833,  2.66269531,\n",
       "         2.95768229]),\n",
       " <a list of 10 Patch objects>)"
      ]
     },
     "execution_count": 55,
     "metadata": {},
     "output_type": "execute_result"
    },
    {
     "data": {
      "image/png": "[encoded data removed]",
      "text/plain": [
       "<matplotlib.figure.Figure at 0x247b85f6780>"
      ]
     },
     "metadata": {},
     "output_type": "display_data"
    }
   ],
   "source": [
    "plt.subplot(221)\n",
    "plt.hist(data_x['meanfun'])\n",
    "plt.subplot(222)\n",
    "plt.hist(data_x['minfun'])\n",
    "plt.subplot(223)\n",
    "plt.hist(data_x['maxfun'])\n",
    "plt.subplot(224)\n",
    "plt.hist(data_x['meandom'])"
   ]
  },
  {
   "cell_type": "markdown",
   "metadata": {},
   "source": [
    "#### 1. Variables meanfun is normally distributed\n",
    "#### 2. While variables minfun, maxfun, meandom are skewed"
   ]
  },
  {
   "cell_type": "code",
   "execution_count": 56,
   "metadata": {
    "collapsed": false
   },
   "outputs": [
    {
     "data": {
      "text/plain": [
       "(array([  653.,  1545.,   514.,   248.,    96.,    56.,    30.,    16.,\n",
       "            4.,     6.]),\n",
       " array([ 0.        ,  0.09323741,  0.18647482,  0.27971223,  0.37294964,\n",
       "         0.46618705,  0.55942446,  0.65266187,  0.74589928,  0.83913669,\n",
       "         0.9323741 ]),\n",
       " <a list of 10 Patch objects>)"
      ]
     },
     "execution_count": 56,
     "metadata": {},
     "output_type": "execute_result"
    },
    {
     "data": {
      "image/png": "[encoded data removed]",
      "text/plain": [
       "<matplotlib.figure.Figure at 0x247b97ebeb8>"
      ]
     },
     "metadata": {},
     "output_type": "display_data"
    }
   ],
   "source": [
    "plt.subplot(221)\n",
    "plt.hist(data_x['mindom'])\n",
    "plt.subplot(222)\n",
    "plt.hist(data_x['maxdom'])\n",
    "plt.subplot(223)\n",
    "plt.hist(data_x['dfrange'])\n",
    "plt.subplot(224)\n",
    "plt.hist(data_x['modindx'])"
   ]
  },
  {
   "cell_type": "markdown",
   "metadata": {},
   "source": [
    "#### 1. Variables modindx is normally distributed\n",
    "#### 2. While variables mindom, maxdom and dfrange are skewed"
   ]
  },
  {
   "cell_type": "code",
   "execution_count": 57,
   "metadata": {
    "collapsed": false
   },
   "outputs": [
    {
     "data": {
      "text/html": [
       "<div>\n",
       "<table border=\"1\" class=\"dataframe\">\n",
       "  <thead>\n",
       "    <tr style=\"text-align: right;\">\n",
       "      <th></th>\n",
       "      <th>meanfreq</th>\n",
       "      <th>sd</th>\n",
       "      <th>median</th>\n",
       "      <th>Q25</th>\n",
       "      <th>Q75</th>\n",
       "      <th>IQR</th>\n",
       "      <th>skew</th>\n",
       "      <th>kurt</th>\n",
       "      <th>sp.ent</th>\n",
       "      <th>sfm</th>\n",
       "      <th>mode</th>\n",
       "      <th>centroid</th>\n",
       "      <th>meanfun</th>\n",
       "      <th>minfun</th>\n",
       "      <th>maxfun</th>\n",
       "      <th>meandom</th>\n",
       "      <th>mindom</th>\n",
       "      <th>maxdom</th>\n",
       "      <th>dfrange</th>\n",
       "      <th>modindx</th>\n",
       "    </tr>\n",
       "  </thead>\n",
       "  <tbody>\n",
       "    <tr>\n",
       "      <th>mean</th>\n",
       "      <td>0.180907</td>\n",
       "      <td>0.057126</td>\n",
       "      <td>0.185621</td>\n",
       "      <td>0.140456</td>\n",
       "      <td>0.224765</td>\n",
       "      <td>0.084309</td>\n",
       "      <td>3.140168</td>\n",
       "      <td>36.568461</td>\n",
       "      <td>0.895127</td>\n",
       "      <td>0.408216</td>\n",
       "      <td>0.165282</td>\n",
       "      <td>0.180907</td>\n",
       "      <td>0.142807</td>\n",
       "      <td>0.036802</td>\n",
       "      <td>0.258842</td>\n",
       "      <td>0.829211</td>\n",
       "      <td>0.052647</td>\n",
       "      <td>5.047277</td>\n",
       "      <td>4.994630</td>\n",
       "      <td>0.173752</td>\n",
       "    </tr>\n",
       "    <tr>\n",
       "      <th>median</th>\n",
       "      <td>0.184838</td>\n",
       "      <td>0.059155</td>\n",
       "      <td>0.190032</td>\n",
       "      <td>0.140286</td>\n",
       "      <td>0.225684</td>\n",
       "      <td>0.094280</td>\n",
       "      <td>2.197101</td>\n",
       "      <td>8.318463</td>\n",
       "      <td>0.901767</td>\n",
       "      <td>0.396335</td>\n",
       "      <td>0.186599</td>\n",
       "      <td>0.184838</td>\n",
       "      <td>0.140519</td>\n",
       "      <td>0.046110</td>\n",
       "      <td>0.271186</td>\n",
       "      <td>0.765795</td>\n",
       "      <td>0.023438</td>\n",
       "      <td>4.992188</td>\n",
       "      <td>4.945312</td>\n",
       "      <td>0.139357</td>\n",
       "    </tr>\n",
       "  </tbody>\n",
       "</table>\n",
       "</div>"
      ],
      "text/plain": [
       "        meanfreq        sd    median       Q25       Q75       IQR      skew  \\\n",
       "mean    0.180907  0.057126  0.185621  0.140456  0.224765  0.084309  3.140168   \n",
       "median  0.184838  0.059155  0.190032  0.140286  0.225684  0.094280  2.197101   \n",
       "\n",
       "             kurt    sp.ent       sfm      mode  centroid   meanfun    minfun  \\\n",
       "mean    36.568461  0.895127  0.408216  0.165282  0.180907  0.142807  0.036802   \n",
       "median   8.318463  0.901767  0.396335  0.186599  0.184838  0.140519  0.046110   \n",
       "\n",
       "          maxfun   meandom    mindom    maxdom   dfrange   modindx  \n",
       "mean    0.258842  0.829211  0.052647  5.047277  4.994630  0.173752  \n",
       "median  0.271186  0.765795  0.023438  4.992188  4.945312  0.139357  "
      ]
     },
     "execution_count": 57,
     "metadata": {},
     "output_type": "execute_result"
    }
   ],
   "source": [
    "# let us do a descriptive statistics\n",
    "means = data_x.describe().loc['mean']\n",
    "medians = data_x.describe().loc['50%']\n",
    "pd.DataFrame([means,medians], index=['mean','median'])"
   ]
  },
  {
   "cell_type": "code",
   "execution_count": 58,
   "metadata": {
    "collapsed": false
   },
   "outputs": [
    {
     "name": "stdout",
     "output_type": "stream",
     "text": [
      "1    1584\n",
      "0    1584\n",
      "dtype: int64\n"
     ]
    },
    {
     "data": {
      "text/plain": [
       "<matplotlib.axes._subplots.AxesSubplot at 0x247b8699550>"
      ]
     },
     "execution_count": 58,
     "metadata": {},
     "output_type": "execute_result"
    },
    {
     "data": {
      "image/png": "[encoded data removed]",
      "text/plain": [
       "<matplotlib.figure.Figure at 0x247b5e71a20>"
      ]
     },
     "metadata": {},
     "output_type": "display_data"
    }
   ],
   "source": [
    "# Distribution of target variables\n",
    "print(pd.Series(data_y).value_counts())\n",
    "pd.Series(data_y).value_counts().plot(kind='bar', title='Bar graph of Number of male and female users')"
   ]
  },
  {
   "cell_type": "markdown",
   "metadata": {},
   "source": [
    "### <font color='red'> Inference: </font>\n",
    "#### 1. Lets explain the skeweness in data from above visualization and summary stats\n",
    "#### 2. Irrespectve to viz of histogram, we can also infer those attributes with mean and median values almost equal have gaussian distribution.\n",
    "#### 3. Thus, variables meanfreq, sd, median, Q25, Q75, sp.ent, sfm, centroid, meanfun are Normally distributed\n",
    "#### 4. Variables skew, kurt, minfun, maxfun, meandom, mindom, maxdom, dfrange, midindex, IQR, mode are skewed\n",
    "#### <font color='brown'> 5. Exceptable range of voice freq for a human as per wiki is between 0.085 and 0.255KHz  and hence we will remove any values from the dataset below 0.085 and above 0.255 assuming it to be a outlier based on domain knowledge</font> \n",
    "#### 6. Our target variables (1 = Male and 0 = Female) are symmetrical in nature with equal count of 1584 records for both Male and Female"
   ]
  },
  {
   "cell_type": "markdown",
   "metadata": {},
   "source": [
    "# Step-4: Data Munging and Partition"
   ]
  },
  {
   "cell_type": "markdown",
   "metadata": {},
   "source": [
    "### <font color='green'>Data Cleaning: </font>\n",
    "\n",
    "#### 1.Exceptable range of voice freq for a human as per wiki is between 0.085 and 0.255KHz and hence we will identify the variable which has this frequncy information and remove them assuming it to be a outlier based on domain knowledge\n",
    "#### 2.In our data set meanfun is the variable which have the value of Fundamental frequency\n",
    "#### 3. As per the sitation given in  <a href='https://en.wikipedia.org/wiki/Voice_frequency'>wiki </a> we can say that typical adult male will have a fundamental frequency from 85 to 180 Hz and typical adult female from 165 to 255 Hz\n",
    "#### 4. Thus, from given dataset, <font color='brown'> we will filter values based on meanfun whose values less than 0.085 and greater than 0.18 for male and values less than 0.165 and greater than 0.255 for female and consider them as outliers and remove them.</font>"
   ]
  },
  {
   "cell_type": "code",
   "execution_count": 59,
   "metadata": {
    "collapsed": false
   },
   "outputs": [
    {
     "data": {
      "text/plain": [
       "(3168, 21)"
      ]
     },
     "execution_count": 59,
     "metadata": {},
     "output_type": "execute_result"
    }
   ],
   "source": [
    "# Actual Raw Data size\n",
    "data_raw.shape"
   ]
  },
  {
   "cell_type": "code",
   "execution_count": 60,
   "metadata": {
    "collapsed": false
   },
   "outputs": [
    {
     "data": {
      "text/plain": [
       "(70, 21)"
      ]
     },
     "execution_count": 60,
     "metadata": {},
     "output_type": "execute_result"
    }
   ],
   "source": [
    "# Filtering ouliers from male category\n",
    "male_funFreq_outlier_index = data_raw[((data_raw['meanfun'] < 0.085) | (data_raw['meanfun'] > 0.180)) & \n",
    "                                      (data_raw['label'] == 'male')].index\n",
    "male_funFreq_outlier_index = list(male_funFreq_outlier_index)\n",
    "data_raw[((data_raw['meanfun'] < 0.085) | (data_raw['meanfun'] > 0.180)) & (data_raw['label'] == 'male')].shape"
   ]
  },
  {
   "cell_type": "code",
   "execution_count": 61,
   "metadata": {
    "collapsed": false
   },
   "outputs": [
    {
     "data": {
      "text/plain": [
       "(640, 21)"
      ]
     },
     "execution_count": 61,
     "metadata": {},
     "output_type": "execute_result"
    }
   ],
   "source": [
    "# Filtering ouliers from female category\n",
    "female_funFreq_outlier_index = data_raw[((data_raw['meanfun'] < 0.165) | (data_raw['meanfun'] > 0.255)) & \n",
    "                                        (data_raw['label'] == 'female')].index\n",
    "female_funFreq_outlier_index = list(female_funFreq_outlier_index)\n",
    "data_raw[((data_raw['meanfun'] < 0.165) | (data_raw['meanfun'] > 0.255)) & (data_raw['label'] == 'female')].shape"
   ]
  },
  {
   "cell_type": "code",
   "execution_count": 62,
   "metadata": {
    "collapsed": false
   },
   "outputs": [
    {
     "data": {
      "text/plain": [
       "710"
      ]
     },
     "execution_count": 62,
     "metadata": {},
     "output_type": "execute_result"
    }
   ],
   "source": [
    "index_to_remove = male_funFreq_outlier_index + female_funFreq_outlier_index\n",
    "len(index_to_remove)"
   ]
  },
  {
   "cell_type": "code",
   "execution_count": 63,
   "metadata": {
    "collapsed": false
   },
   "outputs": [
    {
     "data": {
      "text/plain": [
       "(2458, 20)"
      ]
     },
     "execution_count": 63,
     "metadata": {},
     "output_type": "execute_result"
    }
   ],
   "source": [
    "# Thus, we need to remove 710 rows from both data_x and data_y using the index obtained from above filters\n",
    "# Preparing final dataset for model building\n",
    "data_x = data_x.drop(index_to_remove,axis=0)\n",
    "data_x.shape"
   ]
  },
  {
   "cell_type": "code",
   "execution_count": 65,
   "metadata": {
    "collapsed": false
   },
   "outputs": [
    {
     "data": {
      "text/plain": [
       "(2458,)"
      ]
     },
     "execution_count": 65,
     "metadata": {},
     "output_type": "execute_result"
    }
   ],
   "source": [
    "# Target dataset\n",
    "data_y = pd.Series(data_y).drop(index_to_remove,axis=0)\n",
    "data_y.shape"
   ]
  },
  {
   "cell_type": "code",
   "execution_count": 69,
   "metadata": {
    "collapsed": false
   },
   "outputs": [
    {
     "name": "stdout",
     "output_type": "stream",
     "text": [
      "1    1514\n",
      "0     944\n",
      "dtype: int64\n"
     ]
    },
    {
     "data": {
      "text/plain": [
       "<matplotlib.axes._subplots.AxesSubplot at 0x247b8773748>"
      ]
     },
     "execution_count": 69,
     "metadata": {},
     "output_type": "execute_result"
    },
    {
     "data": {
      "image/png": "[encoded data removed]",
      "text/plain": [
       "<matplotlib.figure.Figure at 0x247b7e632e8>"
      ]
     },
     "metadata": {},
     "output_type": "display_data"
    }
   ],
   "source": [
    "# Distribution of target variables after cleanup\n",
    "print(data_y.value_counts())\n",
    "data_y.value_counts().plot(kind='bar', title='Target variable after cleanup (1/0=Male/Female)')"
   ]
  },
  {
   "cell_type": "markdown",
   "metadata": {},
   "source": [
    "### <font color='green'>Normalization: </font>\n",
    "#### 1. In this dataset meanfreq, median, Q25, Q75, IQR are the only variables associated with unit kHz\n",
    "#### 2. let us normalize these variables to make them unit free\n",
    "#### 3. we will apply the z-score normalization for meanfreq, median, Q25, Q75\n",
    "#### 4. we will apply min-max normalization for IQR"
   ]
  },
  {
   "cell_type": "code",
   "execution_count": 70,
   "metadata": {
    "collapsed": false
   },
   "outputs": [],
   "source": [
    "# Z-score Normalization\n",
    "z_score_norm = lambda colname: (data_x[colname]- data_x[colname].mean())/(data_x[colname].std())\n",
    "min_max_norm = lambda colname: (data_x[colname]- data_x[colname].min())/(data_x[colname].max()-data_x[colname].min())"
   ]
  },
  {
   "cell_type": "markdown",
   "metadata": {},
   "source": [
    "### <font color='green'>Creating Partially Normalized Data </font>"
   ]
  },
  {
   "cell_type": "code",
   "execution_count": 72,
   "metadata": {
    "collapsed": false
   },
   "outputs": [],
   "source": [
    "data_x1 = data_x.copy()\n",
    "data_x1['z_meanfreq'] = z_score_norm('meanfreq')\n",
    "data_x1['z_median'] = z_score_norm('median')\n",
    "data_x1['z_Q25'] = z_score_norm('Q25')\n",
    "data_x1['z_Q75'] = z_score_norm('Q75')\n",
    "data_x1['Norm_IQR'] = min_max_norm('IQR')"
   ]
  },
  {
   "cell_type": "code",
   "execution_count": 73,
   "metadata": {
    "collapsed": false
   },
   "outputs": [],
   "source": [
    "# Lets now drop the original column from data_x as we have these as backup in data_raw dataframe\n",
    "data_x1 = data_x1.drop(['meanfreq','median','Q25','Q75','IQR'],axis=1)"
   ]
  },
  {
   "cell_type": "code",
   "execution_count": 74,
   "metadata": {
    "collapsed": false
   },
   "outputs": [
    {
     "data": {
      "text/html": [
       "<div>\n",
       "<table border=\"1\" class=\"dataframe\">\n",
       "  <thead>\n",
       "    <tr style=\"text-align: right;\">\n",
       "      <th></th>\n",
       "      <th>sd</th>\n",
       "      <th>skew</th>\n",
       "      <th>kurt</th>\n",
       "      <th>sp.ent</th>\n",
       "      <th>sfm</th>\n",
       "      <th>mode</th>\n",
       "      <th>centroid</th>\n",
       "      <th>meanfun</th>\n",
       "      <th>minfun</th>\n",
       "      <th>maxfun</th>\n",
       "      <th>meandom</th>\n",
       "      <th>mindom</th>\n",
       "      <th>maxdom</th>\n",
       "      <th>dfrange</th>\n",
       "      <th>modindx</th>\n",
       "      <th>z_meanfreq</th>\n",
       "      <th>z_median</th>\n",
       "      <th>z_Q25</th>\n",
       "      <th>z_Q75</th>\n",
       "      <th>Norm_IQR</th>\n",
       "    </tr>\n",
       "  </thead>\n",
       "  <tbody>\n",
       "    <tr>\n",
       "      <th>1</th>\n",
       "      <td>0.067310</td>\n",
       "      <td>22.423285</td>\n",
       "      <td>634.613855</td>\n",
       "      <td>0.892193</td>\n",
       "      <td>0.513724</td>\n",
       "      <td>0.000000</td>\n",
       "      <td>0.066009</td>\n",
       "      <td>0.107937</td>\n",
       "      <td>0.015826</td>\n",
       "      <td>0.250000</td>\n",
       "      <td>0.009014</td>\n",
       "      <td>0.007812</td>\n",
       "      <td>0.054688</td>\n",
       "      <td>0.046875</td>\n",
       "      <td>0.052632</td>\n",
       "      <td>-3.720840</td>\n",
       "      <td>-3.828504</td>\n",
       "      <td>-2.355691</td>\n",
       "      <td>-5.781683</td>\n",
       "      <td>0.246961</td>\n",
       "    </tr>\n",
       "    <tr>\n",
       "      <th>2</th>\n",
       "      <td>0.083829</td>\n",
       "      <td>30.757155</td>\n",
       "      <td>1024.927705</td>\n",
       "      <td>0.846389</td>\n",
       "      <td>0.478905</td>\n",
       "      <td>0.000000</td>\n",
       "      <td>0.077316</td>\n",
       "      <td>0.098706</td>\n",
       "      <td>0.015656</td>\n",
       "      <td>0.271186</td>\n",
       "      <td>0.007990</td>\n",
       "      <td>0.007812</td>\n",
       "      <td>0.015625</td>\n",
       "      <td>0.007812</td>\n",
       "      <td>0.046512</td>\n",
       "      <td>-3.354719</td>\n",
       "      <td>-3.920638</td>\n",
       "      <td>-2.570261</td>\n",
       "      <td>-4.094335</td>\n",
       "      <td>0.457148</td>\n",
       "    </tr>\n",
       "    <tr>\n",
       "      <th>3</th>\n",
       "      <td>0.072111</td>\n",
       "      <td>1.232831</td>\n",
       "      <td>4.177296</td>\n",
       "      <td>0.963322</td>\n",
       "      <td>0.727232</td>\n",
       "      <td>0.083878</td>\n",
       "      <td>0.151228</td>\n",
       "      <td>0.088965</td>\n",
       "      <td>0.017798</td>\n",
       "      <td>0.250000</td>\n",
       "      <td>0.201497</td>\n",
       "      <td>0.007812</td>\n",
       "      <td>0.562500</td>\n",
       "      <td>0.554688</td>\n",
       "      <td>0.247119</td>\n",
       "      <td>-0.961373</td>\n",
       "      <td>-0.737091</td>\n",
       "      <td>-0.810072</td>\n",
       "      <td>-0.824403</td>\n",
       "      <td>0.407358</td>\n",
       "    </tr>\n",
       "  </tbody>\n",
       "</table>\n",
       "</div>"
      ],
      "text/plain": [
       "         sd       skew         kurt    sp.ent       sfm      mode  centroid  \\\n",
       "1  0.067310  22.423285   634.613855  0.892193  0.513724  0.000000  0.066009   \n",
       "2  0.083829  30.757155  1024.927705  0.846389  0.478905  0.000000  0.077316   \n",
       "3  0.072111   1.232831     4.177296  0.963322  0.727232  0.083878  0.151228   \n",
       "\n",
       "    meanfun    minfun    maxfun   meandom    mindom    maxdom   dfrange  \\\n",
       "1  0.107937  0.015826  0.250000  0.009014  0.007812  0.054688  0.046875   \n",
       "2  0.098706  0.015656  0.271186  0.007990  0.007812  0.015625  0.007812   \n",
       "3  0.088965  0.017798  0.250000  0.201497  0.007812  0.562500  0.554688   \n",
       "\n",
       "    modindx  z_meanfreq  z_median     z_Q25     z_Q75  Norm_IQR  \n",
       "1  0.052632   -3.720840 -3.828504 -2.355691 -5.781683  0.246961  \n",
       "2  0.046512   -3.354719 -3.920638 -2.570261 -4.094335  0.457148  \n",
       "3  0.247119   -0.961373 -0.737091 -0.810072 -0.824403  0.407358  "
      ]
     },
     "execution_count": 74,
     "metadata": {},
     "output_type": "execute_result"
    }
   ],
   "source": [
    "data_x1.head(3)"
   ]
  },
  {
   "cell_type": "code",
   "execution_count": 75,
   "metadata": {
    "collapsed": false
   },
   "outputs": [
    {
     "data": {
      "text/plain": [
       "(array([ 476.,  299.,  126.,  660.,  639.,  125.,  107.,   16.,    1.,    9.]),\n",
       " array([ 0. ,  0.1,  0.2,  0.3,  0.4,  0.5,  0.6,  0.7,  0.8,  0.9,  1. ]),\n",
       " <a list of 10 Patch objects>)"
      ]
     },
     "execution_count": 75,
     "metadata": {},
     "output_type": "execute_result"
    },
    {
     "data": {
      "image/png": "[encoded data removed]",
      "text/plain": [
       "<matplotlib.figure.Figure at 0x247b996e588>"
      ]
     },
     "metadata": {},
     "output_type": "display_data"
    }
   ],
   "source": [
    "# Plotting the normalized columns\n",
    "# we could see that z-score norm variables have mean 0 and standard deviation 1\n",
    "# And the min-max norm varibales value are confined between 0-1 and stays positive\n",
    "plt.subplot(231)\n",
    "plt.hist(data_x1['z_meanfreq'])\n",
    "plt.subplot(232)\n",
    "plt.hist(data_x1['z_median'])\n",
    "plt.subplot(233)\n",
    "plt.hist(data_x1['z_Q25'])\n",
    "plt.subplot(234)\n",
    "plt.hist(data_x1['z_Q75'])\n",
    "plt.subplot(235)\n",
    "plt.hist(data_x1['Norm_IQR'])"
   ]
  },
  {
   "cell_type": "markdown",
   "metadata": {},
   "source": [
    "### <font color='green'>Handling Multicollinearity: </font>"
   ]
  },
  {
   "cell_type": "code",
   "execution_count": 76,
   "metadata": {
    "collapsed": false
   },
   "outputs": [
    {
     "data": {
      "text/html": [
       "<div>\n",
       "<table border=\"1\" class=\"dataframe\">\n",
       "  <thead>\n",
       "    <tr style=\"text-align: right;\">\n",
       "      <th></th>\n",
       "      <th>sd</th>\n",
       "      <th>skew</th>\n",
       "      <th>kurt</th>\n",
       "      <th>sp.ent</th>\n",
       "      <th>sfm</th>\n",
       "      <th>mode</th>\n",
       "      <th>centroid</th>\n",
       "      <th>meanfun</th>\n",
       "      <th>minfun</th>\n",
       "      <th>maxfun</th>\n",
       "      <th>meandom</th>\n",
       "      <th>mindom</th>\n",
       "      <th>maxdom</th>\n",
       "      <th>dfrange</th>\n",
       "      <th>modindx</th>\n",
       "      <th>z_meanfreq</th>\n",
       "      <th>z_median</th>\n",
       "      <th>z_Q25</th>\n",
       "      <th>z_Q75</th>\n",
       "      <th>Norm_IQR</th>\n",
       "    </tr>\n",
       "  </thead>\n",
       "  <tbody>\n",
       "    <tr>\n",
       "      <th>sd</th>\n",
       "      <td>1.000000</td>\n",
       "      <td>0.268792</td>\n",
       "      <td>0.305891</td>\n",
       "      <td>0.748671</td>\n",
       "      <td>0.841054</td>\n",
       "      <td>-0.518399</td>\n",
       "      <td>-0.761064</td>\n",
       "      <td>-0.466995</td>\n",
       "      <td>-0.334265</td>\n",
       "      <td>-0.128949</td>\n",
       "      <td>-0.445008</td>\n",
       "      <td>-0.371717</td>\n",
       "      <td>-0.447752</td>\n",
       "      <td>-0.441069</td>\n",
       "      <td>0.124674</td>\n",
       "      <td>-0.761064</td>\n",
       "      <td>-0.593734</td>\n",
       "      <td>-0.864655</td>\n",
       "      <td>-0.217083</td>\n",
       "      <td>0.899810</td>\n",
       "    </tr>\n",
       "    <tr>\n",
       "      <th>skew</th>\n",
       "      <td>0.268792</td>\n",
       "      <td>1.000000</td>\n",
       "      <td>0.978731</td>\n",
       "      <td>-0.186965</td>\n",
       "      <td>0.052345</td>\n",
       "      <td>-0.404677</td>\n",
       "      <td>-0.292907</td>\n",
       "      <td>-0.080008</td>\n",
       "      <td>-0.174601</td>\n",
       "      <td>-0.034663</td>\n",
       "      <td>-0.308871</td>\n",
       "      <td>-0.068304</td>\n",
       "      <td>-0.270584</td>\n",
       "      <td>-0.269368</td>\n",
       "      <td>-0.130912</td>\n",
       "      <td>-0.292907</td>\n",
       "      <td>-0.254069</td>\n",
       "      <td>-0.280212</td>\n",
       "      <td>-0.211600</td>\n",
       "      <td>0.214066</td>\n",
       "    </tr>\n",
       "    <tr>\n",
       "      <th>kurt</th>\n",
       "      <td>0.305891</td>\n",
       "      <td>0.978731</td>\n",
       "      <td>1.000000</td>\n",
       "      <td>-0.103409</td>\n",
       "      <td>0.098550</td>\n",
       "      <td>-0.377308</td>\n",
       "      <td>-0.295208</td>\n",
       "      <td>-0.119739</td>\n",
       "      <td>-0.179806</td>\n",
       "      <td>-0.015390</td>\n",
       "      <td>-0.283337</td>\n",
       "      <td>-0.105741</td>\n",
       "      <td>-0.248240</td>\n",
       "      <td>-0.246347</td>\n",
       "      <td>-0.173645</td>\n",
       "      <td>-0.295208</td>\n",
       "      <td>-0.245334</td>\n",
       "      <td>-0.311618</td>\n",
       "      <td>-0.167253</td>\n",
       "      <td>0.275422</td>\n",
       "    </tr>\n",
       "    <tr>\n",
       "      <th>sp.ent</th>\n",
       "      <td>0.748671</td>\n",
       "      <td>-0.186965</td>\n",
       "      <td>-0.103409</td>\n",
       "      <td>1.000000</td>\n",
       "      <td>0.882300</td>\n",
       "      <td>-0.345448</td>\n",
       "      <td>-0.653044</td>\n",
       "      <td>-0.558854</td>\n",
       "      <td>-0.319500</td>\n",
       "      <td>-0.157173</td>\n",
       "      <td>-0.302235</td>\n",
       "      <td>-0.318209</td>\n",
       "      <td>-0.325037</td>\n",
       "      <td>-0.319313</td>\n",
       "      <td>0.166691</td>\n",
       "      <td>-0.653044</td>\n",
       "      <td>-0.544028</td>\n",
       "      <td>-0.699490</td>\n",
       "      <td>-0.244650</td>\n",
       "      <td>0.690033</td>\n",
       "    </tr>\n",
       "    <tr>\n",
       "      <th>sfm</th>\n",
       "      <td>0.841054</td>\n",
       "      <td>0.052345</td>\n",
       "      <td>0.098550</td>\n",
       "      <td>0.882300</td>\n",
       "      <td>1.000000</td>\n",
       "      <td>-0.487812</td>\n",
       "      <td>-0.798872</td>\n",
       "      <td>-0.434546</td>\n",
       "      <td>-0.349963</td>\n",
       "      <td>-0.193208</td>\n",
       "      <td>-0.412508</td>\n",
       "      <td>-0.312801</td>\n",
       "      <td>-0.410816</td>\n",
       "      <td>-0.405195</td>\n",
       "      <td>0.190494</td>\n",
       "      <td>-0.798872</td>\n",
       "      <td>-0.681039</td>\n",
       "      <td>-0.787767</td>\n",
       "      <td>-0.419489</td>\n",
       "      <td>0.698088</td>\n",
       "    </tr>\n",
       "    <tr>\n",
       "      <th>mode</th>\n",
       "      <td>-0.518399</td>\n",
       "      <td>-0.404677</td>\n",
       "      <td>-0.377308</td>\n",
       "      <td>-0.345448</td>\n",
       "      <td>-0.487812</td>\n",
       "      <td>1.000000</td>\n",
       "      <td>0.703159</td>\n",
       "      <td>0.305558</td>\n",
       "      <td>0.353356</td>\n",
       "      <td>0.170668</td>\n",
       "      <td>0.475223</td>\n",
       "      <td>0.209490</td>\n",
       "      <td>0.456170</td>\n",
       "      <td>0.452416</td>\n",
       "      <td>-0.214109</td>\n",
       "      <td>0.703159</td>\n",
       "      <td>0.710436</td>\n",
       "      <td>0.602051</td>\n",
       "      <td>0.536980</td>\n",
       "      <td>-0.414729</td>\n",
       "    </tr>\n",
       "    <tr>\n",
       "      <th>centroid</th>\n",
       "      <td>-0.761064</td>\n",
       "      <td>-0.292907</td>\n",
       "      <td>-0.295208</td>\n",
       "      <td>-0.653044</td>\n",
       "      <td>-0.798872</td>\n",
       "      <td>0.703159</td>\n",
       "      <td>1.000000</td>\n",
       "      <td>0.474303</td>\n",
       "      <td>0.371094</td>\n",
       "      <td>0.255896</td>\n",
       "      <td>0.547437</td>\n",
       "      <td>0.252269</td>\n",
       "      <td>0.524504</td>\n",
       "      <td>0.519982</td>\n",
       "      <td>-0.233599</td>\n",
       "      <td>1.000000</td>\n",
       "      <td>0.927085</td>\n",
       "      <td>0.925011</td>\n",
       "      <td>0.758994</td>\n",
       "      <td>-0.673457</td>\n",
       "    </tr>\n",
       "    <tr>\n",
       "      <th>meanfun</th>\n",
       "      <td>-0.466995</td>\n",
       "      <td>-0.080008</td>\n",
       "      <td>-0.119739</td>\n",
       "      <td>-0.558854</td>\n",
       "      <td>-0.434546</td>\n",
       "      <td>0.305558</td>\n",
       "      <td>0.474303</td>\n",
       "      <td>1.000000</td>\n",
       "      <td>0.345183</td>\n",
       "      <td>0.325146</td>\n",
       "      <td>0.246622</td>\n",
       "      <td>0.163801</td>\n",
       "      <td>0.257634</td>\n",
       "      <td>0.254693</td>\n",
       "      <td>-0.088519</td>\n",
       "      <td>0.474303</td>\n",
       "      <td>0.423266</td>\n",
       "      <td>0.552781</td>\n",
       "      <td>0.192549</td>\n",
       "      <td>-0.545740</td>\n",
       "    </tr>\n",
       "    <tr>\n",
       "      <th>minfun</th>\n",
       "      <td>-0.334265</td>\n",
       "      <td>-0.174601</td>\n",
       "      <td>-0.179806</td>\n",
       "      <td>-0.319500</td>\n",
       "      <td>-0.349963</td>\n",
       "      <td>0.353356</td>\n",
       "      <td>0.371094</td>\n",
       "      <td>0.345183</td>\n",
       "      <td>1.000000</td>\n",
       "      <td>0.175142</td>\n",
       "      <td>0.305936</td>\n",
       "      <td>0.123851</td>\n",
       "      <td>0.232142</td>\n",
       "      <td>0.229921</td>\n",
       "      <td>0.043800</td>\n",
       "      <td>0.371094</td>\n",
       "      <td>0.336728</td>\n",
       "      <td>0.336769</td>\n",
       "      <td>0.236711</td>\n",
       "      <td>-0.266933</td>\n",
       "    </tr>\n",
       "    <tr>\n",
       "      <th>maxfun</th>\n",
       "      <td>-0.128949</td>\n",
       "      <td>-0.034663</td>\n",
       "      <td>-0.015390</td>\n",
       "      <td>-0.157173</td>\n",
       "      <td>-0.193208</td>\n",
       "      <td>0.170668</td>\n",
       "      <td>0.255896</td>\n",
       "      <td>0.325146</td>\n",
       "      <td>0.175142</td>\n",
       "      <td>1.000000</td>\n",
       "      <td>0.320966</td>\n",
       "      <td>-0.239510</td>\n",
       "      <td>0.341457</td>\n",
       "      <td>0.345801</td>\n",
       "      <td>-0.393378</td>\n",
       "      <td>0.255896</td>\n",
       "      <td>0.237218</td>\n",
       "      <td>0.208284</td>\n",
       "      <td>0.250017</td>\n",
       "      <td>-0.108211</td>\n",
       "    </tr>\n",
       "    <tr>\n",
       "      <th>meandom</th>\n",
       "      <td>-0.445008</td>\n",
       "      <td>-0.308871</td>\n",
       "      <td>-0.283337</td>\n",
       "      <td>-0.302235</td>\n",
       "      <td>-0.412508</td>\n",
       "      <td>0.475223</td>\n",
       "      <td>0.547437</td>\n",
       "      <td>0.246622</td>\n",
       "      <td>0.305936</td>\n",
       "      <td>0.320966</td>\n",
       "      <td>1.000000</td>\n",
       "      <td>0.072956</td>\n",
       "      <td>0.801566</td>\n",
       "      <td>0.800298</td>\n",
       "      <td>-0.222662</td>\n",
       "      <td>0.547437</td>\n",
       "      <td>0.488135</td>\n",
       "      <td>0.473966</td>\n",
       "      <td>0.417383</td>\n",
       "      <td>-0.329437</td>\n",
       "    </tr>\n",
       "    <tr>\n",
       "      <th>mindom</th>\n",
       "      <td>-0.371717</td>\n",
       "      <td>-0.068304</td>\n",
       "      <td>-0.105741</td>\n",
       "      <td>-0.318209</td>\n",
       "      <td>-0.312801</td>\n",
       "      <td>0.209490</td>\n",
       "      <td>0.252269</td>\n",
       "      <td>0.163801</td>\n",
       "      <td>0.123851</td>\n",
       "      <td>-0.239510</td>\n",
       "      <td>0.072956</td>\n",
       "      <td>1.000000</td>\n",
       "      <td>0.012371</td>\n",
       "      <td>-0.005680</td>\n",
       "      <td>0.203165</td>\n",
       "      <td>0.252269</td>\n",
       "      <td>0.218869</td>\n",
       "      <td>0.313023</td>\n",
       "      <td>0.011247</td>\n",
       "      <td>-0.362716</td>\n",
       "    </tr>\n",
       "    <tr>\n",
       "      <th>maxdom</th>\n",
       "      <td>-0.447752</td>\n",
       "      <td>-0.270584</td>\n",
       "      <td>-0.248240</td>\n",
       "      <td>-0.325037</td>\n",
       "      <td>-0.410816</td>\n",
       "      <td>0.456170</td>\n",
       "      <td>0.524504</td>\n",
       "      <td>0.257634</td>\n",
       "      <td>0.232142</td>\n",
       "      <td>0.341457</td>\n",
       "      <td>0.801566</td>\n",
       "      <td>0.012371</td>\n",
       "      <td>1.000000</td>\n",
       "      <td>0.999837</td>\n",
       "      <td>-0.462587</td>\n",
       "      <td>0.524504</td>\n",
       "      <td>0.460816</td>\n",
       "      <td>0.468190</td>\n",
       "      <td>0.377937</td>\n",
       "      <td>-0.344284</td>\n",
       "    </tr>\n",
       "    <tr>\n",
       "      <th>dfrange</th>\n",
       "      <td>-0.441069</td>\n",
       "      <td>-0.269368</td>\n",
       "      <td>-0.246347</td>\n",
       "      <td>-0.319313</td>\n",
       "      <td>-0.405195</td>\n",
       "      <td>0.452416</td>\n",
       "      <td>0.519982</td>\n",
       "      <td>0.254693</td>\n",
       "      <td>0.229921</td>\n",
       "      <td>0.345801</td>\n",
       "      <td>0.800298</td>\n",
       "      <td>-0.005680</td>\n",
       "      <td>0.999837</td>\n",
       "      <td>1.000000</td>\n",
       "      <td>-0.466282</td>\n",
       "      <td>0.519982</td>\n",
       "      <td>0.456893</td>\n",
       "      <td>0.462568</td>\n",
       "      <td>0.377757</td>\n",
       "      <td>-0.337758</td>\n",
       "    </tr>\n",
       "    <tr>\n",
       "      <th>modindx</th>\n",
       "      <td>0.124674</td>\n",
       "      <td>-0.130912</td>\n",
       "      <td>-0.173645</td>\n",
       "      <td>0.166691</td>\n",
       "      <td>0.190494</td>\n",
       "      <td>-0.214109</td>\n",
       "      <td>-0.233599</td>\n",
       "      <td>-0.088519</td>\n",
       "      <td>0.043800</td>\n",
       "      <td>-0.393378</td>\n",
       "      <td>-0.222662</td>\n",
       "      <td>0.203165</td>\n",
       "      <td>-0.462587</td>\n",
       "      <td>-0.466282</td>\n",
       "      <td>1.000000</td>\n",
       "      <td>-0.233599</td>\n",
       "      <td>-0.230005</td>\n",
       "      <td>-0.163478</td>\n",
       "      <td>-0.239054</td>\n",
       "      <td>0.061426</td>\n",
       "    </tr>\n",
       "    <tr>\n",
       "      <th>z_meanfreq</th>\n",
       "      <td>-0.761064</td>\n",
       "      <td>-0.292907</td>\n",
       "      <td>-0.295208</td>\n",
       "      <td>-0.653044</td>\n",
       "      <td>-0.798872</td>\n",
       "      <td>0.703159</td>\n",
       "      <td>1.000000</td>\n",
       "      <td>0.474303</td>\n",
       "      <td>0.371094</td>\n",
       "      <td>0.255896</td>\n",
       "      <td>0.547437</td>\n",
       "      <td>0.252269</td>\n",
       "      <td>0.524504</td>\n",
       "      <td>0.519982</td>\n",
       "      <td>-0.233599</td>\n",
       "      <td>1.000000</td>\n",
       "      <td>0.927085</td>\n",
       "      <td>0.925011</td>\n",
       "      <td>0.758994</td>\n",
       "      <td>-0.673457</td>\n",
       "    </tr>\n",
       "    <tr>\n",
       "      <th>z_median</th>\n",
       "      <td>-0.593734</td>\n",
       "      <td>-0.254069</td>\n",
       "      <td>-0.245334</td>\n",
       "      <td>-0.544028</td>\n",
       "      <td>-0.681039</td>\n",
       "      <td>0.710436</td>\n",
       "      <td>0.927085</td>\n",
       "      <td>0.423266</td>\n",
       "      <td>0.336728</td>\n",
       "      <td>0.237218</td>\n",
       "      <td>0.488135</td>\n",
       "      <td>0.218869</td>\n",
       "      <td>0.460816</td>\n",
       "      <td>0.456893</td>\n",
       "      <td>-0.230005</td>\n",
       "      <td>0.927085</td>\n",
       "      <td>1.000000</td>\n",
       "      <td>0.784584</td>\n",
       "      <td>0.742905</td>\n",
       "      <td>-0.516798</td>\n",
       "    </tr>\n",
       "    <tr>\n",
       "      <th>z_Q25</th>\n",
       "      <td>-0.864655</td>\n",
       "      <td>-0.280212</td>\n",
       "      <td>-0.311618</td>\n",
       "      <td>-0.699490</td>\n",
       "      <td>-0.787767</td>\n",
       "      <td>0.602051</td>\n",
       "      <td>0.925011</td>\n",
       "      <td>0.552781</td>\n",
       "      <td>0.336769</td>\n",
       "      <td>0.208284</td>\n",
       "      <td>0.473966</td>\n",
       "      <td>0.313023</td>\n",
       "      <td>0.468190</td>\n",
       "      <td>0.462568</td>\n",
       "      <td>-0.163478</td>\n",
       "      <td>0.925011</td>\n",
       "      <td>0.784584</td>\n",
       "      <td>1.000000</td>\n",
       "      <td>0.533413</td>\n",
       "      <td>-0.885662</td>\n",
       "    </tr>\n",
       "    <tr>\n",
       "      <th>z_Q75</th>\n",
       "      <td>-0.217083</td>\n",
       "      <td>-0.211600</td>\n",
       "      <td>-0.167253</td>\n",
       "      <td>-0.244650</td>\n",
       "      <td>-0.419489</td>\n",
       "      <td>0.536980</td>\n",
       "      <td>0.758994</td>\n",
       "      <td>0.192549</td>\n",
       "      <td>0.236711</td>\n",
       "      <td>0.250017</td>\n",
       "      <td>0.417383</td>\n",
       "      <td>0.011247</td>\n",
       "      <td>0.377937</td>\n",
       "      <td>0.377757</td>\n",
       "      <td>-0.239054</td>\n",
       "      <td>0.758994</td>\n",
       "      <td>0.742905</td>\n",
       "      <td>0.533413</td>\n",
       "      <td>1.000000</td>\n",
       "      <td>-0.079667</td>\n",
       "    </tr>\n",
       "    <tr>\n",
       "      <th>Norm_IQR</th>\n",
       "      <td>0.899810</td>\n",
       "      <td>0.214066</td>\n",
       "      <td>0.275422</td>\n",
       "      <td>0.690033</td>\n",
       "      <td>0.698088</td>\n",
       "      <td>-0.414729</td>\n",
       "      <td>-0.673457</td>\n",
       "      <td>-0.545740</td>\n",
       "      <td>-0.266933</td>\n",
       "      <td>-0.108211</td>\n",
       "      <td>-0.329437</td>\n",
       "      <td>-0.362716</td>\n",
       "      <td>-0.344284</td>\n",
       "      <td>-0.337758</td>\n",
       "      <td>0.061426</td>\n",
       "      <td>-0.673457</td>\n",
       "      <td>-0.516798</td>\n",
       "      <td>-0.885662</td>\n",
       "      <td>-0.079667</td>\n",
       "      <td>1.000000</td>\n",
       "    </tr>\n",
       "  </tbody>\n",
       "</table>\n",
       "</div>"
      ],
      "text/plain": [
       "                  sd      skew      kurt    sp.ent       sfm      mode  \\\n",
       "sd          1.000000  0.268792  0.305891  0.748671  0.841054 -0.518399   \n",
       "skew        0.268792  1.000000  0.978731 -0.186965  0.052345 -0.404677   \n",
       "kurt        0.305891  0.978731  1.000000 -0.103409  0.098550 -0.377308   \n",
       "sp.ent      0.748671 -0.186965 -0.103409  1.000000  0.882300 -0.345448   \n",
       "sfm         0.841054  0.052345  0.098550  0.882300  1.000000 -0.487812   \n",
       "mode       -0.518399 -0.404677 -0.377308 -0.345448 -0.487812  1.000000   \n",
       "centroid   -0.761064 -0.292907 -0.295208 -0.653044 -0.798872  0.703159   \n",
       "meanfun    -0.466995 -0.080008 -0.119739 -0.558854 -0.434546  0.305558   \n",
       "minfun     -0.334265 -0.174601 -0.179806 -0.319500 -0.349963  0.353356   \n",
       "maxfun     -0.128949 -0.034663 -0.015390 -0.157173 -0.193208  0.170668   \n",
       "meandom    -0.445008 -0.308871 -0.283337 -0.302235 -0.412508  0.475223   \n",
       "mindom     -0.371717 -0.068304 -0.105741 -0.318209 -0.312801  0.209490   \n",
       "maxdom     -0.447752 -0.270584 -0.248240 -0.325037 -0.410816  0.456170   \n",
       "dfrange    -0.441069 -0.269368 -0.246347 -0.319313 -0.405195  0.452416   \n",
       "modindx     0.124674 -0.130912 -0.173645  0.166691  0.190494 -0.214109   \n",
       "z_meanfreq -0.761064 -0.292907 -0.295208 -0.653044 -0.798872  0.703159   \n",
       "z_median   -0.593734 -0.254069 -0.245334 -0.544028 -0.681039  0.710436   \n",
       "z_Q25      -0.864655 -0.280212 -0.311618 -0.699490 -0.787767  0.602051   \n",
       "z_Q75      -0.217083 -0.211600 -0.167253 -0.244650 -0.419489  0.536980   \n",
       "Norm_IQR    0.899810  0.214066  0.275422  0.690033  0.698088 -0.414729   \n",
       "\n",
       "            centroid   meanfun    minfun    maxfun   meandom    mindom  \\\n",
       "sd         -0.761064 -0.466995 -0.334265 -0.128949 -0.445008 -0.371717   \n",
       "skew       -0.292907 -0.080008 -0.174601 -0.034663 -0.308871 -0.068304   \n",
       "kurt       -0.295208 -0.119739 -0.179806 -0.015390 -0.283337 -0.105741   \n",
       "sp.ent     -0.653044 -0.558854 -0.319500 -0.157173 -0.302235 -0.318209   \n",
       "sfm        -0.798872 -0.434546 -0.349963 -0.193208 -0.412508 -0.312801   \n",
       "mode        0.703159  0.305558  0.353356  0.170668  0.475223  0.209490   \n",
       "centroid    1.000000  0.474303  0.371094  0.255896  0.547437  0.252269   \n",
       "meanfun     0.474303  1.000000  0.345183  0.325146  0.246622  0.163801   \n",
       "minfun      0.371094  0.345183  1.000000  0.175142  0.305936  0.123851   \n",
       "maxfun      0.255896  0.325146  0.175142  1.000000  0.320966 -0.239510   \n",
       "meandom     0.547437  0.246622  0.305936  0.320966  1.000000  0.072956   \n",
       "mindom      0.252269  0.163801  0.123851 -0.239510  0.072956  1.000000   \n",
       "maxdom      0.524504  0.257634  0.232142  0.341457  0.801566  0.012371   \n",
       "dfrange     0.519982  0.254693  0.229921  0.345801  0.800298 -0.005680   \n",
       "modindx    -0.233599 -0.088519  0.043800 -0.393378 -0.222662  0.203165   \n",
       "z_meanfreq  1.000000  0.474303  0.371094  0.255896  0.547437  0.252269   \n",
       "z_median    0.927085  0.423266  0.336728  0.237218  0.488135  0.218869   \n",
       "z_Q25       0.925011  0.552781  0.336769  0.208284  0.473966  0.313023   \n",
       "z_Q75       0.758994  0.192549  0.236711  0.250017  0.417383  0.011247   \n",
       "Norm_IQR   -0.673457 -0.545740 -0.266933 -0.108211 -0.329437 -0.362716   \n",
       "\n",
       "              maxdom   dfrange   modindx  z_meanfreq  z_median     z_Q25  \\\n",
       "sd         -0.447752 -0.441069  0.124674   -0.761064 -0.593734 -0.864655   \n",
       "skew       -0.270584 -0.269368 -0.130912   -0.292907 -0.254069 -0.280212   \n",
       "kurt       -0.248240 -0.246347 -0.173645   -0.295208 -0.245334 -0.311618   \n",
       "sp.ent     -0.325037 -0.319313  0.166691   -0.653044 -0.544028 -0.699490   \n",
       "sfm        -0.410816 -0.405195  0.190494   -0.798872 -0.681039 -0.787767   \n",
       "mode        0.456170  0.452416 -0.214109    0.703159  0.710436  0.602051   \n",
       "centroid    0.524504  0.519982 -0.233599    1.000000  0.927085  0.925011   \n",
       "meanfun     0.257634  0.254693 -0.088519    0.474303  0.423266  0.552781   \n",
       "minfun      0.232142  0.229921  0.043800    0.371094  0.336728  0.336769   \n",
       "maxfun      0.341457  0.345801 -0.393378    0.255896  0.237218  0.208284   \n",
       "meandom     0.801566  0.800298 -0.222662    0.547437  0.488135  0.473966   \n",
       "mindom      0.012371 -0.005680  0.203165    0.252269  0.218869  0.313023   \n",
       "maxdom      1.000000  0.999837 -0.462587    0.524504  0.460816  0.468190   \n",
       "dfrange     0.999837  1.000000 -0.466282    0.519982  0.456893  0.462568   \n",
       "modindx    -0.462587 -0.466282  1.000000   -0.233599 -0.230005 -0.163478   \n",
       "z_meanfreq  0.524504  0.519982 -0.233599    1.000000  0.927085  0.925011   \n",
       "z_median    0.460816  0.456893 -0.230005    0.927085  1.000000  0.784584   \n",
       "z_Q25       0.468190  0.462568 -0.163478    0.925011  0.784584  1.000000   \n",
       "z_Q75       0.377937  0.377757 -0.239054    0.758994  0.742905  0.533413   \n",
       "Norm_IQR   -0.344284 -0.337758  0.061426   -0.673457 -0.516798 -0.885662   \n",
       "\n",
       "               z_Q75  Norm_IQR  \n",
       "sd         -0.217083  0.899810  \n",
       "skew       -0.211600  0.214066  \n",
       "kurt       -0.167253  0.275422  \n",
       "sp.ent     -0.244650  0.690033  \n",
       "sfm        -0.419489  0.698088  \n",
       "mode        0.536980 -0.414729  \n",
       "centroid    0.758994 -0.673457  \n",
       "meanfun     0.192549 -0.545740  \n",
       "minfun      0.236711 -0.266933  \n",
       "maxfun      0.250017 -0.108211  \n",
       "meandom     0.417383 -0.329437  \n",
       "mindom      0.011247 -0.362716  \n",
       "maxdom      0.377937 -0.344284  \n",
       "dfrange     0.377757 -0.337758  \n",
       "modindx    -0.239054  0.061426  \n",
       "z_meanfreq  0.758994 -0.673457  \n",
       "z_median    0.742905 -0.516798  \n",
       "z_Q25       0.533413 -0.885662  \n",
       "z_Q75       1.000000 -0.079667  \n",
       "Norm_IQR   -0.079667  1.000000  "
      ]
     },
     "execution_count": 76,
     "metadata": {},
     "output_type": "execute_result"
    }
   ],
   "source": [
    "# let us see the correlation in data\n",
    "corr_mat = data_x1.corr()\n",
    "corr_mat"
   ]
  },
  {
   "cell_type": "code",
   "execution_count": 77,
   "metadata": {
    "collapsed": false
   },
   "outputs": [
    {
     "name": "stdout",
     "output_type": "stream",
     "text": [
      "column skew  correlates strongly with:  Index(['kurt'], dtype='object')\n",
      "column kurt  correlates strongly with:  Index(['skew'], dtype='object')\n",
      "column centroid  correlates strongly with:  Index(['z_meanfreq', 'z_median', 'z_Q25'], dtype='object')\n",
      "column maxdom  correlates strongly with:  Index(['dfrange'], dtype='object')\n",
      "column dfrange  correlates strongly with:  Index(['maxdom'], dtype='object')\n",
      "column z_meanfreq  correlates strongly with:  Index(['centroid', 'z_median', 'z_Q25'], dtype='object')\n",
      "column z_median  correlates strongly with:  Index(['centroid', 'z_meanfreq'], dtype='object')\n",
      "column z_Q25  correlates strongly with:  Index(['centroid', 'z_meanfreq'], dtype='object')\n"
     ]
    }
   ],
   "source": [
    "for names in corr_mat.index:\n",
    "    if len(corr_mat[(corr_mat.loc[names] > 0.9) & (corr_mat.loc[names].index != names)].index) > 0:\n",
    "        print('column', names,' correlates strongly with: ',corr_mat[(corr_mat.loc[names] > 0.9) & \n",
    "                                                                     (corr_mat.loc[names].index != names)].index)"
   ]
  },
  {
   "cell_type": "code",
   "execution_count": 78,
   "metadata": {
    "collapsed": false
   },
   "outputs": [
    {
     "data": {
      "text/html": [
       "<div>\n",
       "<table border=\"1\" class=\"dataframe\">\n",
       "  <thead>\n",
       "    <tr style=\"text-align: right;\">\n",
       "      <th></th>\n",
       "      <th>Column Name</th>\n",
       "      <th>Correlated with</th>\n",
       "    </tr>\n",
       "  </thead>\n",
       "  <tbody>\n",
       "    <tr>\n",
       "      <th>0</th>\n",
       "      <td>skew</td>\n",
       "      <td>kurt</td>\n",
       "    </tr>\n",
       "    <tr>\n",
       "      <th>1</th>\n",
       "      <td>kurt</td>\n",
       "      <td>skew</td>\n",
       "    </tr>\n",
       "    <tr>\n",
       "      <th>2</th>\n",
       "      <td>centroid</td>\n",
       "      <td>[z_meanfreq, z_median, z_Q25]</td>\n",
       "    </tr>\n",
       "    <tr>\n",
       "      <th>3</th>\n",
       "      <td>maxdom</td>\n",
       "      <td>[dfrange]</td>\n",
       "    </tr>\n",
       "    <tr>\n",
       "      <th>4</th>\n",
       "      <td>dfrange</td>\n",
       "      <td>[maxdom]</td>\n",
       "    </tr>\n",
       "    <tr>\n",
       "      <th>5</th>\n",
       "      <td>z_meanfreq</td>\n",
       "      <td>[centroid, z_median, z_Q25]</td>\n",
       "    </tr>\n",
       "    <tr>\n",
       "      <th>6</th>\n",
       "      <td>z_median</td>\n",
       "      <td>[centroid, z_meanfreq]</td>\n",
       "    </tr>\n",
       "    <tr>\n",
       "      <th>7</th>\n",
       "      <td>z_Q25</td>\n",
       "      <td>[centroid, z_meanfreq]</td>\n",
       "    </tr>\n",
       "  </tbody>\n",
       "</table>\n",
       "</div>"
      ],
      "text/plain": [
       "  Column Name                Correlated with\n",
       "0        skew                           kurt\n",
       "1        kurt                           skew\n",
       "2    centroid  [z_meanfreq, z_median, z_Q25]\n",
       "3      maxdom                      [dfrange]\n",
       "4     dfrange                       [maxdom]\n",
       "5  z_meanfreq    [centroid, z_median, z_Q25]\n",
       "6    z_median         [centroid, z_meanfreq]\n",
       "7       z_Q25         [centroid, z_meanfreq]"
      ]
     },
     "execution_count": 78,
     "metadata": {},
     "output_type": "execute_result"
    }
   ],
   "source": [
    "corr_df = pd.DataFrame([{'Column Name':'skew', 'Correlated with':'kurt'},\n",
    "                        {'Column Name':'kurt', 'Correlated with':'skew'},\n",
    "                        {'Column Name':'centroid', 'Correlated with':['z_meanfreq', 'z_median', 'z_Q25']},\n",
    "                        {'Column Name':'maxdom', 'Correlated with':['dfrange']},\n",
    "                        {'Column Name':'dfrange', 'Correlated with':['maxdom']},\n",
    "                        {'Column Name':'z_meanfreq', 'Correlated with':['centroid', 'z_median', 'z_Q25']},\n",
    "                        {'Column Name':'z_median', 'Correlated with':['centroid', 'z_meanfreq']},\n",
    "                        {'Column Name':'z_Q25', 'Correlated with':['centroid', 'z_meanfreq']},\n",
    "                        ])\n",
    "corr_df"
   ]
  },
  {
   "cell_type": "code",
   "execution_count": 79,
   "metadata": {
    "collapsed": false
   },
   "outputs": [
    {
     "data": {
      "text/html": [
       "<div>\n",
       "<table border=\"1\" class=\"dataframe\">\n",
       "  <thead>\n",
       "    <tr style=\"text-align: right;\">\n",
       "      <th></th>\n",
       "      <th>sd</th>\n",
       "      <th>skew</th>\n",
       "      <th>sp.ent</th>\n",
       "      <th>sfm</th>\n",
       "      <th>mode</th>\n",
       "      <th>meanfun</th>\n",
       "      <th>minfun</th>\n",
       "      <th>maxfun</th>\n",
       "      <th>meandom</th>\n",
       "      <th>mindom</th>\n",
       "      <th>maxdom</th>\n",
       "      <th>modindx</th>\n",
       "      <th>z_median</th>\n",
       "      <th>z_Q25</th>\n",
       "      <th>z_Q75</th>\n",
       "      <th>Norm_IQR</th>\n",
       "    </tr>\n",
       "  </thead>\n",
       "  <tbody>\n",
       "    <tr>\n",
       "      <th>1</th>\n",
       "      <td>0.067310</td>\n",
       "      <td>22.423285</td>\n",
       "      <td>0.892193</td>\n",
       "      <td>0.513724</td>\n",
       "      <td>0.000000</td>\n",
       "      <td>0.107937</td>\n",
       "      <td>0.015826</td>\n",
       "      <td>0.250000</td>\n",
       "      <td>0.009014</td>\n",
       "      <td>0.007812</td>\n",
       "      <td>0.054688</td>\n",
       "      <td>0.052632</td>\n",
       "      <td>-3.828504</td>\n",
       "      <td>-2.355691</td>\n",
       "      <td>-5.781683</td>\n",
       "      <td>0.246961</td>\n",
       "    </tr>\n",
       "    <tr>\n",
       "      <th>2</th>\n",
       "      <td>0.083829</td>\n",
       "      <td>30.757155</td>\n",
       "      <td>0.846389</td>\n",
       "      <td>0.478905</td>\n",
       "      <td>0.000000</td>\n",
       "      <td>0.098706</td>\n",
       "      <td>0.015656</td>\n",
       "      <td>0.271186</td>\n",
       "      <td>0.007990</td>\n",
       "      <td>0.007812</td>\n",
       "      <td>0.015625</td>\n",
       "      <td>0.046512</td>\n",
       "      <td>-3.920638</td>\n",
       "      <td>-2.570261</td>\n",
       "      <td>-4.094335</td>\n",
       "      <td>0.457148</td>\n",
       "    </tr>\n",
       "    <tr>\n",
       "      <th>3</th>\n",
       "      <td>0.072111</td>\n",
       "      <td>1.232831</td>\n",
       "      <td>0.963322</td>\n",
       "      <td>0.727232</td>\n",
       "      <td>0.083878</td>\n",
       "      <td>0.088965</td>\n",
       "      <td>0.017798</td>\n",
       "      <td>0.250000</td>\n",
       "      <td>0.201497</td>\n",
       "      <td>0.007812</td>\n",
       "      <td>0.562500</td>\n",
       "      <td>0.247119</td>\n",
       "      <td>-0.737091</td>\n",
       "      <td>-0.810072</td>\n",
       "      <td>-0.824403</td>\n",
       "      <td>0.407358</td>\n",
       "    </tr>\n",
       "  </tbody>\n",
       "</table>\n",
       "</div>"
      ],
      "text/plain": [
       "         sd       skew    sp.ent       sfm      mode   meanfun    minfun  \\\n",
       "1  0.067310  22.423285  0.892193  0.513724  0.000000  0.107937  0.015826   \n",
       "2  0.083829  30.757155  0.846389  0.478905  0.000000  0.098706  0.015656   \n",
       "3  0.072111   1.232831  0.963322  0.727232  0.083878  0.088965  0.017798   \n",
       "\n",
       "     maxfun   meandom    mindom    maxdom   modindx  z_median     z_Q25  \\\n",
       "1  0.250000  0.009014  0.007812  0.054688  0.052632 -3.828504 -2.355691   \n",
       "2  0.271186  0.007990  0.007812  0.015625  0.046512 -3.920638 -2.570261   \n",
       "3  0.250000  0.201497  0.007812  0.562500  0.247119 -0.737091 -0.810072   \n",
       "\n",
       "      z_Q75  Norm_IQR  \n",
       "1 -5.781683  0.246961  \n",
       "2 -4.094335  0.457148  \n",
       "3 -0.824403  0.407358  "
      ]
     },
     "execution_count": 79,
     "metadata": {},
     "output_type": "execute_result"
    }
   ],
   "source": [
    "# Thus we see high correlation exist between above variables, \n",
    "# thus let us create a dataset by removing variables that create high Variance Inflation Factor\n",
    "# Thus, removing kurt, Centroid, dfrange, z_meanfreq\n",
    "data_x2 = data_x1.drop(['kurt', 'centroid', 'dfrange', 'z_meanfreq'],axis=1).copy()\n",
    "data_x2.head(3)"
   ]
  },
  {
   "cell_type": "markdown",
   "metadata": {},
   "source": [
    "### <font color='green'>Creating Completely Normalized Dataset - All columns are normalized </font>"
   ]
  },
  {
   "cell_type": "code",
   "execution_count": 83,
   "metadata": {
    "collapsed": false
   },
   "outputs": [],
   "source": [
    "# let me not do any dimentionality reduction and do z-score normalization on all independent variables\n",
    "xDataStdardized = StandardScaler()\n",
    "xDataStdardized.fit(data_x)\n",
    "data_x3 = xDataStdardized.transform(data_x).copy()"
   ]
  },
  {
   "cell_type": "code",
   "execution_count": 90,
   "metadata": {
    "collapsed": false
   },
   "outputs": [
    {
     "data": {
      "text/plain": [
       "Index(['meanfreq', 'sd', 'median', 'Q25', 'Q75', 'IQR', 'skew', 'kurt',\n",
       "       'sp.ent', 'sfm', 'mode', 'centroid', 'meanfun', 'minfun', 'maxfun',\n",
       "       'meandom', 'mindom', 'maxdom', 'dfrange', 'modindx'],\n",
       "      dtype='object')"
      ]
     },
     "execution_count": 90,
     "metadata": {},
     "output_type": "execute_result"
    }
   ],
   "source": [
    "columns[0:20]"
   ]
  },
  {
   "cell_type": "code",
   "execution_count": 91,
   "metadata": {
    "collapsed": false
   },
   "outputs": [
    {
     "data": {
      "text/html": [
       "<div>\n",
       "<table border=\"1\" class=\"dataframe\">\n",
       "  <thead>\n",
       "    <tr style=\"text-align: right;\">\n",
       "      <th></th>\n",
       "      <th>meanfreq</th>\n",
       "      <th>sd</th>\n",
       "      <th>median</th>\n",
       "      <th>Q25</th>\n",
       "      <th>Q75</th>\n",
       "      <th>IQR</th>\n",
       "      <th>skew</th>\n",
       "      <th>kurt</th>\n",
       "      <th>sp.ent</th>\n",
       "      <th>sfm</th>\n",
       "      <th>mode</th>\n",
       "      <th>centroid</th>\n",
       "      <th>meanfun</th>\n",
       "      <th>minfun</th>\n",
       "      <th>maxfun</th>\n",
       "      <th>meandom</th>\n",
       "      <th>mindom</th>\n",
       "      <th>maxdom</th>\n",
       "      <th>dfrange</th>\n",
       "      <th>modindx</th>\n",
       "    </tr>\n",
       "  </thead>\n",
       "  <tbody>\n",
       "    <tr>\n",
       "      <th>0</th>\n",
       "      <td>-3.721597</td>\n",
       "      <td>0.544377</td>\n",
       "      <td>-3.829283</td>\n",
       "      <td>-2.356170</td>\n",
       "      <td>-5.782859</td>\n",
       "      <td>-0.397800</td>\n",
       "      <td>5.075036</td>\n",
       "      <td>4.855087</td>\n",
       "      <td>-0.102172</td>\n",
       "      <td>0.554202</td>\n",
       "      <td>-2.145988</td>\n",
       "      <td>-3.721597</td>\n",
       "      <td>-1.004514</td>\n",
       "      <td>-1.135221</td>\n",
       "      <td>-0.305371</td>\n",
       "      <td>-1.659948</td>\n",
       "      <td>-0.683626</td>\n",
       "      <td>-1.471597</td>\n",
       "      <td>-1.459346</td>\n",
       "      <td>-0.995844</td>\n",
       "    </tr>\n",
       "    <tr>\n",
       "      <th>1</th>\n",
       "      <td>-3.355401</td>\n",
       "      <td>1.537541</td>\n",
       "      <td>-3.921435</td>\n",
       "      <td>-2.570784</td>\n",
       "      <td>-4.095168</td>\n",
       "      <td>0.781574</td>\n",
       "      <td>7.236841</td>\n",
       "      <td>7.993543</td>\n",
       "      <td>-1.089783</td>\n",
       "      <td>0.363138</td>\n",
       "      <td>-2.145988</td>\n",
       "      <td>-3.355401</td>\n",
       "      <td>-1.275017</td>\n",
       "      <td>-1.143789</td>\n",
       "      <td>0.389022</td>\n",
       "      <td>-1.662045</td>\n",
       "      <td>-0.683626</td>\n",
       "      <td>-1.483124</td>\n",
       "      <td>-1.470873</td>\n",
       "      <td>-1.045086</td>\n",
       "    </tr>\n",
       "    <tr>\n",
       "      <th>2</th>\n",
       "      <td>-0.961569</td>\n",
       "      <td>0.832992</td>\n",
       "      <td>-0.737241</td>\n",
       "      <td>-0.810237</td>\n",
       "      <td>-0.824571</td>\n",
       "      <td>0.502200</td>\n",
       "      <td>-0.421765</td>\n",
       "      <td>-0.214160</td>\n",
       "      <td>1.431488</td>\n",
       "      <td>1.725800</td>\n",
       "      <td>-1.079112</td>\n",
       "      <td>-0.961569</td>\n",
       "      <td>-1.560500</td>\n",
       "      <td>-1.036055</td>\n",
       "      <td>-0.305371</td>\n",
       "      <td>-1.266012</td>\n",
       "      <td>-0.683626</td>\n",
       "      <td>-1.321742</td>\n",
       "      <td>-1.309482</td>\n",
       "      <td>0.569030</td>\n",
       "    </tr>\n",
       "  </tbody>\n",
       "</table>\n",
       "</div>"
      ],
      "text/plain": [
       "   meanfreq        sd    median       Q25       Q75       IQR      skew  \\\n",
       "0 -3.721597  0.544377 -3.829283 -2.356170 -5.782859 -0.397800  5.075036   \n",
       "1 -3.355401  1.537541 -3.921435 -2.570784 -4.095168  0.781574  7.236841   \n",
       "2 -0.961569  0.832992 -0.737241 -0.810237 -0.824571  0.502200 -0.421765   \n",
       "\n",
       "       kurt    sp.ent       sfm      mode  centroid   meanfun    minfun  \\\n",
       "0  4.855087 -0.102172  0.554202 -2.145988 -3.721597 -1.004514 -1.135221   \n",
       "1  7.993543 -1.089783  0.363138 -2.145988 -3.355401 -1.275017 -1.143789   \n",
       "2 -0.214160  1.431488  1.725800 -1.079112 -0.961569 -1.560500 -1.036055   \n",
       "\n",
       "     maxfun   meandom    mindom    maxdom   dfrange   modindx  \n",
       "0 -0.305371 -1.659948 -0.683626 -1.471597 -1.459346 -0.995844  \n",
       "1  0.389022 -1.662045 -0.683626 -1.483124 -1.470873 -1.045086  \n",
       "2 -0.305371 -1.266012 -0.683626 -1.321742 -1.309482  0.569030  "
      ]
     },
     "execution_count": 91,
     "metadata": {},
     "output_type": "execute_result"
    }
   ],
   "source": [
    "data_x3 = pd.DataFrame(data_x3, columns=columns[0:20])\n",
    "data_x3.head(3)"
   ]
  },
  {
   "cell_type": "markdown",
   "metadata": {},
   "source": [
    "### <font color='green'>Data Partition </font>"
   ]
  },
  {
   "cell_type": "code",
   "execution_count": 92,
   "metadata": {
    "collapsed": false
   },
   "outputs": [],
   "source": [
    "# Let us do a 80-20 split on raw dataset\n",
    "data_x_train,data_x_test,data_y_train,data_y_test = train_test_split(data_x,data_y,train_size=0.8,test_size=0.2,random_state=1)"
   ]
  },
  {
   "cell_type": "code",
   "execution_count": 93,
   "metadata": {
    "collapsed": true
   },
   "outputs": [],
   "source": [
    "# let us do a 80-20 split on dimention reduced dataset too\n",
    "data_x2_train,data_x2_test,data_y2_train,data_y2_test=train_test_split(data_x2,data_y,train_size=0.8,test_size=0.2,random_state=1)"
   ]
  },
  {
   "cell_type": "code",
   "execution_count": 94,
   "metadata": {
    "collapsed": true
   },
   "outputs": [],
   "source": [
    "# let us do a 80-20 split on raw dataset which was only normalized\n",
    "data_x3_train,data_x3_test,data_y3_train,data_y3_test=train_test_split(data_x3,data_y,train_size=0.8,test_size=0.2,random_state=1)"
   ]
  },
  {
   "cell_type": "code",
   "execution_count": 95,
   "metadata": {
    "collapsed": false
   },
   "outputs": [
    {
     "data": {
      "text/plain": [
       "(1966, 20)"
      ]
     },
     "execution_count": 95,
     "metadata": {},
     "output_type": "execute_result"
    }
   ],
   "source": [
    "# let us check the size\n",
    "data_x_train.shape"
   ]
  },
  {
   "cell_type": "code",
   "execution_count": 96,
   "metadata": {
    "collapsed": false
   },
   "outputs": [
    {
     "data": {
      "text/plain": [
       "(492, 20)"
      ]
     },
     "execution_count": 96,
     "metadata": {},
     "output_type": "execute_result"
    }
   ],
   "source": [
    "data_x_test.shape"
   ]
  },
  {
   "cell_type": "code",
   "execution_count": 97,
   "metadata": {
    "collapsed": false
   },
   "outputs": [
    {
     "data": {
      "text/plain": [
       "(1966,)"
      ]
     },
     "execution_count": 97,
     "metadata": {},
     "output_type": "execute_result"
    }
   ],
   "source": [
    "data_y_train.shape"
   ]
  },
  {
   "cell_type": "code",
   "execution_count": 98,
   "metadata": {
    "collapsed": false
   },
   "outputs": [
    {
     "data": {
      "text/plain": [
       "(1966, 16)"
      ]
     },
     "execution_count": 98,
     "metadata": {},
     "output_type": "execute_result"
    }
   ],
   "source": [
    "# let is cross check the size of dimention reduced data set too \n",
    "data_x2_train.shape"
   ]
  },
  {
   "cell_type": "code",
   "execution_count": 99,
   "metadata": {
    "collapsed": false
   },
   "outputs": [
    {
     "data": {
      "text/plain": [
       "(492, 16)"
      ]
     },
     "execution_count": 99,
     "metadata": {},
     "output_type": "execute_result"
    }
   ],
   "source": [
    "data_x2_test.shape"
   ]
  },
  {
   "cell_type": "code",
   "execution_count": 100,
   "metadata": {
    "collapsed": false
   },
   "outputs": [
    {
     "data": {
      "text/plain": [
       "(1966, 20)"
      ]
     },
     "execution_count": 100,
     "metadata": {},
     "output_type": "execute_result"
    }
   ],
   "source": [
    "# let is cross check the size of normalized raw data set too \n",
    "data_x3_train.shape"
   ]
  },
  {
   "cell_type": "code",
   "execution_count": 101,
   "metadata": {
    "collapsed": false
   },
   "outputs": [
    {
     "data": {
      "text/plain": [
       "(492, 20)"
      ]
     },
     "execution_count": 101,
     "metadata": {},
     "output_type": "execute_result"
    }
   ],
   "source": [
    "data_x3_test.shape"
   ]
  },
  {
   "cell_type": "markdown",
   "metadata": {},
   "source": [
    "### <font color='red'> Inference: </font>\n",
    "#### 1. I treated the variables with units making them unit free by standardizing them\n",
    "#### 2. z-score normalization for meanfreq, median, Q25, Q75 was done\n",
    "#### 3. min-max normalization was done for IQR variable\n",
    "#### 4. correlation between independent variables was checked to handle the multicollinearity issues\n",
    "#### 5. correlation between two variables greater than 0.9 are considered to be heavily coreelated and with respective VIF factor\n",
    "#### 6. Variables  kurt, Centroid, dfrange, z_meanfreq was removed from dataset and this was maintained as a whole new dataset\n",
    "#### 7. Target variable was converted to numeric male as 1 and female as 0 using sklearn preprocessing pack  n labelencoder object\n",
    "#### 8. Data partition was done based on sklearns model_selection package using train_test_split object\n",
    "#### 9. Thus I have 4 dataset treated from raw data:\n",
    "###### a.data_x_train\n",
    "###### b.data_x_test\n",
    "###### c.data_y_train\n",
    "###### d.data_y_test\n",
    "#### 10. I have 4 dataset treated from raw data and dimentionality reduced:\n",
    "###### a.data_x2_train\n",
    "###### b.data_x2_test\n",
    "###### c.data_y2_train\n",
    "###### d.data_y2_test\n",
    "#### 11. I have 4 dataset treated from raw data with all independent variables normalized:\n",
    "###### a.data_x3_train\n",
    "###### b.data_x3_test\n",
    "###### c.data_y3_train\n",
    "###### d.data_y3_test"
   ]
  },
  {
   "cell_type": "markdown",
   "metadata": {},
   "source": [
    "# Step-5: Validating the cleaned dataset with benchmark accuracy obtained"
   ]
  },
  {
   "cell_type": "code",
   "execution_count": 102,
   "metadata": {
    "collapsed": false
   },
   "outputs": [],
   "source": [
    "# defining the Naive Bayes object\n",
    "nbclf = naive_bayes.GaussianNB()"
   ]
  },
  {
   "cell_type": "markdown",
   "metadata": {},
   "source": [
    "#### 1. NB Cross Validation on Treated raw dataset"
   ]
  },
  {
   "cell_type": "code",
   "execution_count": 103,
   "metadata": {
    "collapsed": false
   },
   "outputs": [
    {
     "name": "stdout",
     "output_type": "stream",
     "text": [
      "Mean accuracy with 10 fold cross validation on Naive Bayes with treated data:  0.948427662563\n"
     ]
    }
   ],
   "source": [
    "# lets do a 10 fold Cross validation to make sure the accuracy obtained above\n",
    "nbclf = nbclf.fit(data_x_train, data_y_train)\n",
    "nbpreds_test = nbclf.predict(data_x_test)\n",
    "nb_eval_result1 = cross_val_score(nbclf, data_x, data_y, cv=10, scoring='accuracy')\n",
    "print('Mean accuracy with 10 fold cross validation on Naive Bayes with treated data: ',nb_eval_result1.mean())"
   ]
  },
  {
   "cell_type": "markdown",
   "metadata": {},
   "source": [
    "#### 2. NB Cross Validation on Treated, partially normalized and dimension reduced dataset (This can at times help in building best SVM)"
   ]
  },
  {
   "cell_type": "code",
   "execution_count": 104,
   "metadata": {
    "collapsed": false
   },
   "outputs": [
    {
     "name": "stdout",
     "output_type": "stream",
     "text": [
      "Mean accuracy with 10 fold cross validation on Naive Bayes with dimention reduced data:  0.969572833182\n"
     ]
    }
   ],
   "source": [
    "# lets do a 10 fold Cross validation to make sure the accuracy obtained above\n",
    "nbclf = nbclf.fit(data_x2_train, data_y2_train)\n",
    "nbpreds_test = nbclf.predict(data_x2_test)\n",
    "nb_eval_result2 = cross_val_score(nbclf, data_x2, data_y, cv=10, scoring='accuracy')\n",
    "print('Mean accuracy with 10 fold cross validation on Naive Bayes with dimention reduced data: ',nb_eval_result2.mean())"
   ]
  },
  {
   "cell_type": "markdown",
   "metadata": {},
   "source": [
    "#### 3. NB Cross Validation on Treated and Completely Normalized dataset"
   ]
  },
  {
   "cell_type": "code",
   "execution_count": 105,
   "metadata": {
    "collapsed": false
   },
   "outputs": [
    {
     "name": "stdout",
     "output_type": "stream",
     "text": [
      "Mean accuracy with 10 fold cross validation on Naive Bayes with Normalized data:  0.952900933653\n"
     ]
    }
   ],
   "source": [
    "# lets do a 10 fold Cross validation to make sure the accuracy obtained above\n",
    "nbclf = nbclf.fit(data_x3_train, data_y3_train)\n",
    "nbpreds_test = nbclf.predict(data_x3_test)\n",
    "nb_eval_result3 = cross_val_score(nbclf, data_x3, data_y, cv=10, scoring='accuracy')\n",
    "print('Mean accuracy with 10 fold cross validation on Naive Bayes with Normalized data: ',nb_eval_result3.mean())"
   ]
  },
  {
   "cell_type": "code",
   "execution_count": 207,
   "metadata": {
    "collapsed": false
   },
   "outputs": [
    {
     "data": {
      "text/html": [
       "<div>\n",
       "<table border=\"1\" class=\"dataframe\">\n",
       "  <thead>\n",
       "    <tr style=\"text-align: right;\">\n",
       "      <th></th>\n",
       "      <th>Dataset</th>\n",
       "      <th>Accuracy</th>\n",
       "    </tr>\n",
       "  </thead>\n",
       "  <tbody>\n",
       "    <tr>\n",
       "      <th>0</th>\n",
       "      <td>Partially Normalized</td>\n",
       "      <td>0.948428</td>\n",
       "    </tr>\n",
       "    <tr>\n",
       "      <th>1</th>\n",
       "      <td>Dimention Reduced</td>\n",
       "      <td>0.969573</td>\n",
       "    </tr>\n",
       "    <tr>\n",
       "      <th>2</th>\n",
       "      <td>Completely Normalized</td>\n",
       "      <td>0.952901</td>\n",
       "    </tr>\n",
       "  </tbody>\n",
       "</table>\n",
       "</div>"
      ],
      "text/plain": [
       "                 Dataset  Accuracy\n",
       "0   Partially Normalized  0.948428\n",
       "1      Dimention Reduced  0.969573\n",
       "2  Completely Normalized  0.952901"
      ]
     },
     "execution_count": 207,
     "metadata": {},
     "output_type": "execute_result"
    }
   ],
   "source": [
    "validation_result = pd.DataFrame([{'Dataset':'Partially Normalized', 'Accuracy':nb_eval_result1.mean()},\n",
    "                                    {'Dataset':'Dimention Reduced', 'Accuracy':nb_eval_result2.mean()},\n",
    "                                    {'Dataset':'Completely Normalized', 'Accuracy':nb_eval_result3.mean()}], \n",
    "                                 columns=['Dataset','Accuracy'])\n",
    "validation_result"
   ]
  },
  {
   "cell_type": "markdown",
   "metadata": {},
   "source": [
    "### <font color='red'> Inference: </font>\n",
    "#### 1. <font color='brown'> Naive bayes classifier after data tretment produce an avg accuracy of 0.95 being the data is normalized or not normalized </font>\n",
    "#### 2. <font color='brown'> we see a significant increase in accuracy from 0.85671 to 0.952 after we clean the data </font>\n",
    "#### 3. We see the data with dimention reduced and data which are completely normalized works better than raw treated dataset.\n",
    "#### 4. However, this can be considered as a base classifier at this point and above result makes sure that our data clean up holds good and we havent removed any influential datas from dataset.\n",
    "#### 5. This also set a new benchmark for any complex classifier that will be built further\n",
    "#### 6. Thus, accuracy of 0.95 can be set as a bench mark accuracy value for this dataset which is cleaned and processed.\n",
    "#### 7. Any model which produce accuracy less than 0.95 can be consodired as a non-efficient model for this dataset from now on"
   ]
  },
  {
   "cell_type": "markdown",
   "metadata": {},
   "source": [
    "# Step-6: Core Model Building - Applying Different Kernals for SVM "
   ]
  },
  {
   "cell_type": "code",
   "execution_count": 111,
   "metadata": {
    "collapsed": true
   },
   "outputs": [],
   "source": [
    "def funct_svm(kernal_type,xTrain,yTrain,xTest,yTest):\n",
    "    svm_obj=SVC(kernel=kernal_type)\n",
    "    svm_obj.fit(xTrain,yTrain)\n",
    "    yPredicted=svm_obj.predict(xTest)\n",
    "    print('Accuracy Score of',kernal_type,'Kernal SVM is:',metrics.accuracy_score(yTest,yPredicted))\n",
    "    return metrics.accuracy_score(yTest,yPredicted)"
   ]
  },
  {
   "cell_type": "markdown",
   "metadata": {},
   "source": [
    "### <font color='green'>6.1. Linear Kernal SVM </font>"
   ]
  },
  {
   "cell_type": "code",
   "execution_count": 128,
   "metadata": {
    "collapsed": false
   },
   "outputs": [
    {
     "name": "stdout",
     "output_type": "stream",
     "text": [
      "100000000 loops, best of 3: 14.3 ns per loop\n",
      "Accuracy Score of linear Kernal SVM is: 0.947154471545\n"
     ]
    }
   ],
   "source": [
    "# Partially normlized dataset\n",
    "%timeit 10\n",
    "PN_linear_result = funct_svm('linear',data_x_train,data_y_train,data_x_test,data_y_test)"
   ]
  },
  {
   "cell_type": "code",
   "execution_count": 129,
   "metadata": {
    "collapsed": false
   },
   "outputs": [
    {
     "name": "stdout",
     "output_type": "stream",
     "text": [
      "100000000 loops, best of 3: 13.9 ns per loop\n",
      "Accuracy Score of linear Kernal SVM is: 0.941056910569\n"
     ]
    }
   ],
   "source": [
    "# Dimention reduced dataset\n",
    "%timeit 10\n",
    "DR_linear_result = funct_svm('linear',data_x2_train,data_y2_train,data_x2_test,data_y2_test)"
   ]
  },
  {
   "cell_type": "code",
   "execution_count": 130,
   "metadata": {
    "collapsed": false
   },
   "outputs": [
    {
     "name": "stdout",
     "output_type": "stream",
     "text": [
      "100000000 loops, best of 3: 13.9 ns per loop\n",
      "Accuracy Score of linear Kernal SVM is: 0.993902439024\n"
     ]
    }
   ],
   "source": [
    "# Completely normalized dataset\n",
    "%timeit 10\n",
    "CN_linear_result = funct_svm('linear',data_x3_train,data_y3_train,data_x3_test,data_y3_test)"
   ]
  },
  {
   "cell_type": "code",
   "execution_count": 131,
   "metadata": {
    "collapsed": false
   },
   "outputs": [
    {
     "data": {
      "text/html": [
       "<div>\n",
       "<table border=\"1\" class=\"dataframe\">\n",
       "  <thead>\n",
       "    <tr style=\"text-align: right;\">\n",
       "      <th></th>\n",
       "      <th>Dataset</th>\n",
       "      <th>Accuracy</th>\n",
       "    </tr>\n",
       "  </thead>\n",
       "  <tbody>\n",
       "    <tr>\n",
       "      <th>0</th>\n",
       "      <td>Partially Normalized</td>\n",
       "      <td>0.947154</td>\n",
       "    </tr>\n",
       "    <tr>\n",
       "      <th>1</th>\n",
       "      <td>Dimention Reduced</td>\n",
       "      <td>0.941057</td>\n",
       "    </tr>\n",
       "    <tr>\n",
       "      <th>2</th>\n",
       "      <td>Completely Normalized</td>\n",
       "      <td>0.993902</td>\n",
       "    </tr>\n",
       "  </tbody>\n",
       "</table>\n",
       "</div>"
      ],
      "text/plain": [
       "                 Dataset  Accuracy\n",
       "0   Partially Normalized  0.947154\n",
       "1      Dimention Reduced  0.941057\n",
       "2  Completely Normalized  0.993902"
      ]
     },
     "execution_count": 131,
     "metadata": {},
     "output_type": "execute_result"
    }
   ],
   "source": [
    "linear_kernal_result = pd.DataFrame([{'Dataset':'Partially Normalized', 'Accuracy':PN_linear_result},\n",
    "                                    {'Dataset':'Dimention Reduced', 'Accuracy':DR_linear_result},\n",
    "                                    {'Dataset':'Completely Normalized', 'Accuracy':CN_linear_result}], columns=['Dataset','Accuracy'])\n",
    "linear_kernal_result"
   ]
  },
  {
   "cell_type": "markdown",
   "metadata": {},
   "source": [
    "### <font color='red'> Inference: </font>\n",
    "#### 1. I subjected 3 different dataset as explained above to a linear SVM model and I can observe that dataset which is completely normalize is performing well.\n",
    "#### 2. As part of this kernal trick, we have our hyperplane to be linear in a 20-dimentional space\n",
    "#### 3. This model <font color='brown'> exhibit a classification accuracy of 0.993902 </font>\n",
    "#### 4. Since the data is 20-dimentional, we cannot visualize if the data pocesses a linear or curved relation in feature space, we can take a domain level expertise here. \n",
    "#### 5. However, since we have none for individual analysis purpose we will try to build a model with other kernal tricks types too and see how the model behaves in classifying the gender."
   ]
  },
  {
   "cell_type": "markdown",
   "metadata": {},
   "source": [
    "### <font color='green'>6.2. RBF Kernal SVM </font>"
   ]
  },
  {
   "cell_type": "code",
   "execution_count": 116,
   "metadata": {
    "collapsed": false
   },
   "outputs": [
    {
     "name": "stdout",
     "output_type": "stream",
     "text": [
      "100000000 loops, best of 3: 14.2 ns per loop\n",
      "Accuracy Score of rbf Kernal SVM is: 0.760162601626\n"
     ]
    }
   ],
   "source": [
    "# Partially normlized dataset\n",
    "%timeit 10\n",
    "PN_rbf_result = funct_svm('rbf',data_x_train,data_y_train,data_x_test,data_y_test)"
   ]
  },
  {
   "cell_type": "code",
   "execution_count": 117,
   "metadata": {
    "collapsed": false
   },
   "outputs": [
    {
     "name": "stdout",
     "output_type": "stream",
     "text": [
      "100000000 loops, best of 3: 14 ns per loop\n",
      "Accuracy Score of rbf Kernal SVM is: 0.955284552846\n"
     ]
    }
   ],
   "source": [
    "# Dimention reduced dataset\n",
    "%timeit 10\n",
    "DR_rbf_result = funct_svm('rbf',data_x2_train,data_y2_train,data_x2_test,data_y2_test)"
   ]
  },
  {
   "cell_type": "code",
   "execution_count": 118,
   "metadata": {
    "collapsed": false
   },
   "outputs": [
    {
     "name": "stdout",
     "output_type": "stream",
     "text": [
      "100000000 loops, best of 3: 14.1 ns per loop\n",
      "Accuracy Score of rbf Kernal SVM is: 0.993902439024\n"
     ]
    }
   ],
   "source": [
    "# Completely normalized dataset\n",
    "%timeit 10\n",
    "CN_rbf_result = funct_svm('rbf',data_x3_train,data_y3_train,data_x3_test,data_y3_test)"
   ]
  },
  {
   "cell_type": "code",
   "execution_count": 119,
   "metadata": {
    "collapsed": false
   },
   "outputs": [
    {
     "data": {
      "text/html": [
       "<div>\n",
       "<table border=\"1\" class=\"dataframe\">\n",
       "  <thead>\n",
       "    <tr style=\"text-align: right;\">\n",
       "      <th></th>\n",
       "      <th>Dataset</th>\n",
       "      <th>Accuracy</th>\n",
       "    </tr>\n",
       "  </thead>\n",
       "  <tbody>\n",
       "    <tr>\n",
       "      <th>0</th>\n",
       "      <td>Partially Normalized</td>\n",
       "      <td>0.760163</td>\n",
       "    </tr>\n",
       "    <tr>\n",
       "      <th>1</th>\n",
       "      <td>Dimention Reduced</td>\n",
       "      <td>0.955285</td>\n",
       "    </tr>\n",
       "    <tr>\n",
       "      <th>2</th>\n",
       "      <td>Completely Normalized</td>\n",
       "      <td>0.993902</td>\n",
       "    </tr>\n",
       "  </tbody>\n",
       "</table>\n",
       "</div>"
      ],
      "text/plain": [
       "                 Dataset  Accuracy\n",
       "0   Partially Normalized  0.760163\n",
       "1      Dimention Reduced  0.955285\n",
       "2  Completely Normalized  0.993902"
      ]
     },
     "execution_count": 119,
     "metadata": {},
     "output_type": "execute_result"
    }
   ],
   "source": [
    "gausian_kernal_result = pd.DataFrame([{'Dataset':'Partially Normalized', 'Accuracy':PN_rbf_result},\n",
    "                                    {'Dataset':'Dimention Reduced', 'Accuracy':DR_rbf_result},\n",
    "                                    {'Dataset':'Completely Normalized', 'Accuracy':CN_rbf_result}], columns=['Dataset','Accuracy'])\n",
    "gausian_kernal_result"
   ]
  },
  {
   "cell_type": "markdown",
   "metadata": {},
   "source": [
    "### <font color='red'> Inference: </font>\n",
    "#### 1. RBF or Gaussian is the default kernal which SVM uses in sklearn\n",
    "#### 2. Performance of RBF kernal trick is also same as linear kernal SVM\n",
    "#### 3. <font color='brown'> I obtained a accuracy of 0.993902 for RBF Kernal using SVM for normalized dataset</font>\n",
    "#### 4. This, shows that our voice dataset are both linearly and gaussian seperable"
   ]
  },
  {
   "cell_type": "markdown",
   "metadata": {},
   "source": [
    "### <font color='green'>6.3. Polynomial Kernal SVM </font>"
   ]
  },
  {
   "cell_type": "code",
   "execution_count": 120,
   "metadata": {
    "collapsed": false
   },
   "outputs": [
    {
     "name": "stdout",
     "output_type": "stream",
     "text": [
      "100000000 loops, best of 3: 14 ns per loop\n",
      "Accuracy Score of poly Kernal SVM is: 0.955284552846\n"
     ]
    }
   ],
   "source": [
    "# Partially normlized dataset\n",
    "%timeit 10\n",
    "PN_poly_result = funct_svm('poly',data_x_train,data_y_train,data_x_test,data_y_test)"
   ]
  },
  {
   "cell_type": "code",
   "execution_count": 121,
   "metadata": {
    "collapsed": false
   },
   "outputs": [
    {
     "name": "stdout",
     "output_type": "stream",
     "text": [
      "10000000 loops, best of 3: 14 ns per loop\n",
      "Accuracy Score of poly Kernal SVM is: 0.951219512195\n"
     ]
    }
   ],
   "source": [
    "# Dimentione reduced dataset\n",
    "%timeit 10\n",
    "DR_poly_result = funct_svm('poly',data_x2_train,data_y2_train,data_x2_test,data_y2_test)"
   ]
  },
  {
   "cell_type": "code",
   "execution_count": 122,
   "metadata": {
    "collapsed": false
   },
   "outputs": [
    {
     "name": "stdout",
     "output_type": "stream",
     "text": [
      "100000000 loops, best of 3: 14.3 ns per loop\n",
      "Accuracy Score of poly Kernal SVM is: 0.985772357724\n"
     ]
    }
   ],
   "source": [
    "# Completely normalized dataset\n",
    "%timeit 10\n",
    "CN_poly_result = funct_svm('poly',data_x3_train,data_y3_train,data_x3_test,data_y3_test)"
   ]
  },
  {
   "cell_type": "code",
   "execution_count": 123,
   "metadata": {
    "collapsed": false
   },
   "outputs": [
    {
     "data": {
      "text/html": [
       "<div>\n",
       "<table border=\"1\" class=\"dataframe\">\n",
       "  <thead>\n",
       "    <tr style=\"text-align: right;\">\n",
       "      <th></th>\n",
       "      <th>Dataset</th>\n",
       "      <th>Accuracy</th>\n",
       "    </tr>\n",
       "  </thead>\n",
       "  <tbody>\n",
       "    <tr>\n",
       "      <th>0</th>\n",
       "      <td>Partially Normalized</td>\n",
       "      <td>0.955285</td>\n",
       "    </tr>\n",
       "    <tr>\n",
       "      <th>1</th>\n",
       "      <td>Dimention Reduced</td>\n",
       "      <td>0.951220</td>\n",
       "    </tr>\n",
       "    <tr>\n",
       "      <th>2</th>\n",
       "      <td>Completely Normalized</td>\n",
       "      <td>0.985772</td>\n",
       "    </tr>\n",
       "  </tbody>\n",
       "</table>\n",
       "</div>"
      ],
      "text/plain": [
       "                 Dataset  Accuracy\n",
       "0   Partially Normalized  0.955285\n",
       "1      Dimention Reduced  0.951220\n",
       "2  Completely Normalized  0.985772"
      ]
     },
     "execution_count": 123,
     "metadata": {},
     "output_type": "execute_result"
    }
   ],
   "source": [
    "poly_kernal_result = pd.DataFrame([{'Dataset':'Partially Normalized', 'Accuracy': PN_poly_result},\n",
    "                                    {'Dataset':'Dimention Reduced', 'Accuracy':DR_poly_result},\n",
    "                                    {'Dataset':'Completely Normalized', 'Accuracy':CN_poly_result}], columns=['Dataset','Accuracy'])\n",
    "poly_kernal_result"
   ]
  },
  {
   "cell_type": "markdown",
   "metadata": {},
   "source": [
    "### <font color='red'> Inference: </font>\n",
    "#### 1. To acheive much more high accuracy, i tried using polynomial kernal too \n",
    "#### 2. <font color='brown'> I obtained an accuracy of 0.985 for polynomial kernal on normalized dataset </color>\n",
    "#### 3. This is comparitively much less than the linear and rbf kernals\n",
    "#### 4. However, we cannot conclude this result at this stage as, our training dataset is just one single sample on which we obtained this result."
   ]
  },
  {
   "cell_type": "markdown",
   "metadata": {},
   "source": [
    "### <font color='green'>6.4. Sigmoidal Kernal SVM </font>"
   ]
  },
  {
   "cell_type": "code",
   "execution_count": 124,
   "metadata": {
    "collapsed": false
   },
   "outputs": [
    {
     "name": "stdout",
     "output_type": "stream",
     "text": [
      "100000000 loops, best of 3: 13.9 ns per loop\n",
      "Accuracy Score of sigmoid Kernal SVM is: 0.64837398374\n"
     ]
    }
   ],
   "source": [
    "# Partially normlized dataset\n",
    "%timeit 10\n",
    "PN_sigmoid_result = funct_svm('sigmoid',data_x_train,data_y_train,data_x_test,data_y_test)"
   ]
  },
  {
   "cell_type": "code",
   "execution_count": 125,
   "metadata": {
    "collapsed": false
   },
   "outputs": [
    {
     "name": "stdout",
     "output_type": "stream",
     "text": [
      "The slowest run took 200.17 times longer than the fastest. This could mean that an intermediate result is being cached.\n",
      "100000000 loops, best of 3: 14 ns per loop\n",
      "Accuracy Score of sigmoid Kernal SVM is: 0.678861788618\n"
     ]
    }
   ],
   "source": [
    "# Dimentione reduced dataset\n",
    "%timeit 10\n",
    "DR_sigmoid_result = funct_svm('sigmoid',data_x2_train,data_y2_train,data_x2_test,data_y2_test)"
   ]
  },
  {
   "cell_type": "code",
   "execution_count": 126,
   "metadata": {
    "collapsed": false
   },
   "outputs": [
    {
     "name": "stdout",
     "output_type": "stream",
     "text": [
      "100000000 loops, best of 3: 14 ns per loop\n",
      "Accuracy Score of sigmoid Kernal SVM is: 0.831300813008\n"
     ]
    }
   ],
   "source": [
    "# Completely normalized dataset\n",
    "%timeit 10\n",
    "CN_sigmoid_result = funct_svm('sigmoid',data_x3_train,data_y3_train,data_x3_test,data_y3_test)"
   ]
  },
  {
   "cell_type": "code",
   "execution_count": 127,
   "metadata": {
    "collapsed": false
   },
   "outputs": [
    {
     "data": {
      "text/html": [
       "<div>\n",
       "<table border=\"1\" class=\"dataframe\">\n",
       "  <thead>\n",
       "    <tr style=\"text-align: right;\">\n",
       "      <th></th>\n",
       "      <th>Dataset</th>\n",
       "      <th>Accuracy</th>\n",
       "    </tr>\n",
       "  </thead>\n",
       "  <tbody>\n",
       "    <tr>\n",
       "      <th>0</th>\n",
       "      <td>Partially Normalized</td>\n",
       "      <td>0.648374</td>\n",
       "    </tr>\n",
       "    <tr>\n",
       "      <th>1</th>\n",
       "      <td>Dimention Reduced</td>\n",
       "      <td>0.678862</td>\n",
       "    </tr>\n",
       "    <tr>\n",
       "      <th>2</th>\n",
       "      <td>Completely Normalized</td>\n",
       "      <td>0.831301</td>\n",
       "    </tr>\n",
       "  </tbody>\n",
       "</table>\n",
       "</div>"
      ],
      "text/plain": [
       "                 Dataset  Accuracy\n",
       "0   Partially Normalized  0.648374\n",
       "1      Dimention Reduced  0.678862\n",
       "2  Completely Normalized  0.831301"
      ]
     },
     "execution_count": 127,
     "metadata": {},
     "output_type": "execute_result"
    }
   ],
   "source": [
    "sigmoid_kernal_result = pd.DataFrame([{'Dataset':'Partially Normalized', 'Accuracy':PN_sigmoid_result},\n",
    "                                    {'Dataset':'Dimention Reduced', 'Accuracy':DR_sigmoid_result},\n",
    "                                    {'Dataset':'Completely Normalized', 'Accuracy':CN_sigmoid_result}], columns=['Dataset','Accuracy'])\n",
    "sigmoid_kernal_result"
   ]
  },
  {
   "cell_type": "markdown",
   "metadata": {},
   "source": [
    "### <font color='red'> Inference: </font>\n",
    "#### 1. When a dataset is behaving well linearly, it is explicitly known that it doesn't work well in a sigmoidal space\n",
    "#### 2. Above result obtained is the evident for this\n",
    "#### 3. <font color='brown'> I obtained accuracy of just 0.831 with sigmoidal kernal </font>"
   ]
  },
  {
   "cell_type": "markdown",
   "metadata": {},
   "source": [
    "### <font color='green'>4.5. Consolidated model accuracy </font>"
   ]
  },
  {
   "cell_type": "code",
   "execution_count": 132,
   "metadata": {
    "collapsed": false
   },
   "outputs": [
    {
     "data": {
      "text/html": [
       "<div>\n",
       "<table border=\"1\" class=\"dataframe\">\n",
       "  <thead>\n",
       "    <tr style=\"text-align: right;\">\n",
       "      <th></th>\n",
       "      <th>Dataset</th>\n",
       "      <th>Kernal</th>\n",
       "      <th>Accuracy</th>\n",
       "    </tr>\n",
       "  </thead>\n",
       "  <tbody>\n",
       "    <tr>\n",
       "      <th>0</th>\n",
       "      <td>Completely Normalized</td>\n",
       "      <td>Linear</td>\n",
       "      <td>0.993902</td>\n",
       "    </tr>\n",
       "    <tr>\n",
       "      <th>1</th>\n",
       "      <td>Completely Normalized</td>\n",
       "      <td>Gaussian</td>\n",
       "      <td>0.993902</td>\n",
       "    </tr>\n",
       "    <tr>\n",
       "      <th>2</th>\n",
       "      <td>Completely Normalized</td>\n",
       "      <td>Polynomial</td>\n",
       "      <td>0.985772</td>\n",
       "    </tr>\n",
       "    <tr>\n",
       "      <th>3</th>\n",
       "      <td>Completely Normalized</td>\n",
       "      <td>Sigmoidal</td>\n",
       "      <td>0.831301</td>\n",
       "    </tr>\n",
       "  </tbody>\n",
       "</table>\n",
       "</div>"
      ],
      "text/plain": [
       "                 Dataset      Kernal  Accuracy\n",
       "0  Completely Normalized      Linear  0.993902\n",
       "1  Completely Normalized    Gaussian  0.993902\n",
       "2  Completely Normalized  Polynomial  0.985772\n",
       "3  Completely Normalized   Sigmoidal  0.831301"
      ]
     },
     "execution_count": 132,
     "metadata": {},
     "output_type": "execute_result"
    }
   ],
   "source": [
    "kernal_result = pd.DataFrame([{'Dataset':'Completely Normalized','Kernal':'Linear', 'Accuracy':CN_linear_result},\n",
    "                            {'Dataset':'Completely Normalized','Kernal':'Gaussian', 'Accuracy':CN_rbf_result},\n",
    "                            {'Dataset':'Completely Normalized','Kernal':'Polynomial', 'Accuracy':CN_poly_result}, \n",
    "                            {'Dataset':'Completely Normalized','Kernal':'Sigmoidal', 'Accuracy':CN_sigmoid_result}], \n",
    "                             columns=['Dataset','Kernal','Accuracy'])\n",
    "kernal_result"
   ]
  },
  {
   "cell_type": "markdown",
   "metadata": {},
   "source": [
    "### <font color='red'> Inference: </font>\n",
    "#### 1. From above table it is clear that a completely normalized dataset behaves well compare to un-normalized dataset\n",
    "#### 2. I obtain a maximum accuracy due to the data treatment done, that is treating the meanfun attribute based on biological fact\n",
    "#### 3. Maximum accuracy i could acheive is 0.9939 whcih is from Linear and Gaussian Kernal using SVM\n",
    "#### 4. While the polinomial and Sigmoidal kernal doesn't seems to classify the target variable accurately and giving a low accuracy of 0.95 and 0.83 for Polynomial and Sigmoidal keransl respectively.\n",
    "#### 5. <font color='brown'> However, I cannot blindly accept this accuracy result because this is derived from one sample of training set and validated with a sample test set. In order to evaluate this model to be more robust and to ensure data doesnt overfit, I wanted to subject these model and dataset to a 10-fold cross validation and observe its result as part of next session</font>"
   ]
  },
  {
   "cell_type": "markdown",
   "metadata": {},
   "source": [
    "# Step-7: Perfomance Evaluation on Different Kernals for SVM with 10-fold cross validation"
   ]
  },
  {
   "cell_type": "code",
   "execution_count": 138,
   "metadata": {
    "collapsed": true
   },
   "outputs": [],
   "source": [
    "def funct_svm_cv(kernal_type,xData,yData,k,eval_param):\n",
    "    svm_obj=SVC(kernel=kernal_type)\n",
    "    eval_result = cross_val_score(svm_obj, xData, yData, cv=k, scoring=eval_param)\n",
    "    print(eval_param,'of each fold is:',eval_result)\n",
    "    print('Mean accuracy with 10 fold cross validation for',kernal_type,' kernal SVM is: ',eval_result.mean())\n",
    "    return eval_result.mean()"
   ]
  },
  {
   "cell_type": "markdown",
   "metadata": {},
   "source": [
    "### <font color='green'>7.1. Evaluation on Linear Kernal SVM  </font>"
   ]
  },
  {
   "cell_type": "code",
   "execution_count": 139,
   "metadata": {
    "collapsed": false
   },
   "outputs": [
    {
     "name": "stdout",
     "output_type": "stream",
     "text": [
      "100000000 loops, best of 3: 14.6 ns per loop\n",
      "accuracy of each fold is: [ 0.75708502  0.94331984  0.87449393  0.97165992  0.97959184  0.9877551   1.\n",
      "  0.99591837  0.99591837  0.88571429]\n",
      "Mean accuracy with 10 fold cross validation for linear  kernal SVM is:  0.939145666364\n"
     ]
    }
   ],
   "source": [
    "# Partially normlized dataset\n",
    "%timeit 10\n",
    "PN_CV_linear_result = funct_svm_cv('linear',data_x,data_y,10,'accuracy')"
   ]
  },
  {
   "cell_type": "code",
   "execution_count": 140,
   "metadata": {
    "collapsed": false
   },
   "outputs": [
    {
     "name": "stdout",
     "output_type": "stream",
     "text": [
      "100000000 loops, best of 3: 14.1 ns per loop\n",
      "accuracy of each fold is: [ 0.74089069  0.91093117  0.87044534  0.951417    0.9755102   0.9877551\n",
      "  0.99591837  0.99183673  0.99591837  0.88571429]\n",
      "Mean accuracy with 10 fold cross validation for linear  kernal SVM is:  0.930633727175\n"
     ]
    }
   ],
   "source": [
    "# Dimentione reduced dataset\n",
    "%timeit 10\n",
    "DR_CV_linear_result = funct_svm_cv('linear',data_x2,data_y,10,'accuracy')"
   ]
  },
  {
   "cell_type": "code",
   "execution_count": 141,
   "metadata": {
    "collapsed": false
   },
   "outputs": [
    {
     "name": "stdout",
     "output_type": "stream",
     "text": [
      "100000000 loops, best of 3: 14.1 ns per loop\n",
      "accuracy of each fold is: [ 0.98785425  0.99595142  1.          0.95546559  1.          1.          1.\n",
      "  1.          1.          1.        ]\n",
      "Mean accuracy with 10 fold cross validation for linear  kernal SVM is:  0.993927125506\n"
     ]
    }
   ],
   "source": [
    "# Completely normalized dataset\n",
    "%timeit 10\n",
    "CN_CV_linear_result = funct_svm_cv('linear',data_x3,data_y,10,'accuracy')"
   ]
  },
  {
   "cell_type": "code",
   "execution_count": 142,
   "metadata": {
    "collapsed": false
   },
   "outputs": [
    {
     "data": {
      "text/html": [
       "<div>\n",
       "<table border=\"1\" class=\"dataframe\">\n",
       "  <thead>\n",
       "    <tr style=\"text-align: right;\">\n",
       "      <th></th>\n",
       "      <th>Dataset</th>\n",
       "      <th>Accuracy</th>\n",
       "    </tr>\n",
       "  </thead>\n",
       "  <tbody>\n",
       "    <tr>\n",
       "      <th>0</th>\n",
       "      <td>Partially Normalized</td>\n",
       "      <td>0.939146</td>\n",
       "    </tr>\n",
       "    <tr>\n",
       "      <th>1</th>\n",
       "      <td>Dimention Reduced</td>\n",
       "      <td>0.930634</td>\n",
       "    </tr>\n",
       "    <tr>\n",
       "      <th>2</th>\n",
       "      <td>Completely Normalized</td>\n",
       "      <td>0.993927</td>\n",
       "    </tr>\n",
       "  </tbody>\n",
       "</table>\n",
       "</div>"
      ],
      "text/plain": [
       "                 Dataset  Accuracy\n",
       "0   Partially Normalized  0.939146\n",
       "1      Dimention Reduced  0.930634\n",
       "2  Completely Normalized  0.993927"
      ]
     },
     "execution_count": 142,
     "metadata": {},
     "output_type": "execute_result"
    }
   ],
   "source": [
    "cv_linear_kernal_result = pd.DataFrame([{'Dataset':'Partially Normalized', 'Accuracy':PN_CV_linear_result},\n",
    "                                    {'Dataset':'Dimention Reduced', 'Accuracy':DR_CV_linear_result},\n",
    "                                    {'Dataset':'Completely Normalized', 'Accuracy':CN_CV_linear_result}], columns=['Dataset','Accuracy'])\n",
    "cv_linear_kernal_result"
   ]
  },
  {
   "cell_type": "markdown",
   "metadata": {},
   "source": [
    "### <font color='red'> Inference: </font>\n",
    "#### 1. I see even with 10 fold cross validation, our linear kernal SVM is providing a high accuracy of 0.9939\n",
    "#### 2. Thus, I can consider linear Kernal SVM as one of the serious model to subject for further tuning and see if it increases the accuracy\n",
    "#### 3. From abov table it is still evident that the completely normalized dataset behaves well comparitively"
   ]
  },
  {
   "cell_type": "markdown",
   "metadata": {},
   "source": [
    "### <font color='green'>7.2. Evaluation on RBF Kernal SVM  </font>"
   ]
  },
  {
   "cell_type": "code",
   "execution_count": 143,
   "metadata": {
    "collapsed": false
   },
   "outputs": [
    {
     "name": "stdout",
     "output_type": "stream",
     "text": [
      "100000000 loops, best of 3: 14 ns per loop\n",
      "accuracy of each fold is: [ 0.61538462  0.74089069  0.65991903  0.79352227  0.85306122  0.8\n",
      "  0.80816327  0.68571429  0.84897959  0.62040816]\n",
      "Mean accuracy with 10 fold cross validation for rbf  kernal SVM is:  0.74260431298\n"
     ]
    }
   ],
   "source": [
    "# Partially normlized dataset\n",
    "%timeit 10\n",
    "PN_CV_rbf_result = funct_svm_cv('rbf',data_x,data_y,10,'accuracy')"
   ]
  },
  {
   "cell_type": "code",
   "execution_count": 144,
   "metadata": {
    "collapsed": false
   },
   "outputs": [
    {
     "name": "stdout",
     "output_type": "stream",
     "text": [
      "100000000 loops, best of 3: 16 ns per loop\n",
      "accuracy of each fold is: [ 0.7854251   0.90688259  0.91497976  0.92307692  0.99591837  0.96734694\n",
      "  0.9877551   0.98367347  0.99183673  0.89795918]\n",
      "Mean accuracy with 10 fold cross validation for rbf  kernal SVM is:  0.935485416839\n"
     ]
    }
   ],
   "source": [
    "# Dimentione reduced dataset\n",
    "%timeit 10\n",
    "DR_CV_rbf_result = funct_svm_cv('rbf',data_x2,data_y,10,'accuracy')"
   ]
  },
  {
   "cell_type": "code",
   "execution_count": 145,
   "metadata": {
    "collapsed": false
   },
   "outputs": [
    {
     "name": "stdout",
     "output_type": "stream",
     "text": [
      "10000000 loops, best of 3: 14.5 ns per loop\n",
      "accuracy of each fold is: [ 0.96761134  0.97165992  0.99190283  0.95546559  1.          0.97959184\n",
      "  1.          1.          1.          1.        ]\n",
      "Mean accuracy with 10 fold cross validation for rbf  kernal SVM is:  0.986623151285\n"
     ]
    }
   ],
   "source": [
    "# Completely normalized dataset\n",
    "%timeit 10\n",
    "CN_CV_rbf_result = funct_svm_cv('rbf',data_x3,data_y,10,'accuracy')"
   ]
  },
  {
   "cell_type": "code",
   "execution_count": 146,
   "metadata": {
    "collapsed": false
   },
   "outputs": [
    {
     "data": {
      "text/html": [
       "<div>\n",
       "<table border=\"1\" class=\"dataframe\">\n",
       "  <thead>\n",
       "    <tr style=\"text-align: right;\">\n",
       "      <th></th>\n",
       "      <th>Dataset</th>\n",
       "      <th>Accuracy</th>\n",
       "    </tr>\n",
       "  </thead>\n",
       "  <tbody>\n",
       "    <tr>\n",
       "      <th>0</th>\n",
       "      <td>Partially Normalized</td>\n",
       "      <td>0.742604</td>\n",
       "    </tr>\n",
       "    <tr>\n",
       "      <th>1</th>\n",
       "      <td>Dimention Reduced</td>\n",
       "      <td>0.935485</td>\n",
       "    </tr>\n",
       "    <tr>\n",
       "      <th>2</th>\n",
       "      <td>Completely Normalized</td>\n",
       "      <td>0.986623</td>\n",
       "    </tr>\n",
       "  </tbody>\n",
       "</table>\n",
       "</div>"
      ],
      "text/plain": [
       "                 Dataset  Accuracy\n",
       "0   Partially Normalized  0.742604\n",
       "1      Dimention Reduced  0.935485\n",
       "2  Completely Normalized  0.986623"
      ]
     },
     "execution_count": 146,
     "metadata": {},
     "output_type": "execute_result"
    }
   ],
   "source": [
    "cv_rbf_kernal_result = pd.DataFrame([{'Dataset':'Partially Normalized', 'Accuracy':PN_CV_rbf_result},\n",
    "                                    {'Dataset':'Dimention Reduced', 'Accuracy':DR_CV_rbf_result},\n",
    "                                    {'Dataset':'Completely Normalized', 'Accuracy':CN_CV_rbf_result}], columns=['Dataset','Accuracy'])\n",
    "cv_rbf_kernal_result"
   ]
  },
  {
   "cell_type": "markdown",
   "metadata": {},
   "source": [
    "### <font color='red'> Inference: </font>\n",
    "#### 1. From above table, I see a slight decrease in accuracy when I subject Gaussian kernal to 10-fold cross validation\n",
    "#### 2. <font color='brown'> With out 80-20 split test set we saw an accuracy of 0.9939 however, with 10-fold CV we obtain accuracy of 0.986</font>\n",
    "#### 3. Thus, so far we see linear kernal is behaving well consistently and there is a slight decrese with gaussian kernal"
   ]
  },
  {
   "cell_type": "markdown",
   "metadata": {},
   "source": [
    "### <font color='green'>7.4. Evaluation on Sigmoidal Kernal SVM </font>"
   ]
  },
  {
   "cell_type": "code",
   "execution_count": 147,
   "metadata": {
    "collapsed": false
   },
   "outputs": [
    {
     "name": "stdout",
     "output_type": "stream",
     "text": [
      "100000000 loops, best of 3: 14.1 ns per loop\n",
      "accuracy of each fold is: [ 0.6194332   0.44129555  0.71255061  0.61538462  0.65306122  0.72653061\n",
      "  0.80816327  0.60408163  0.84081633  0.46938776]\n",
      "Mean accuracy with 10 fold cross validation for sigmoid  kernal SVM is:  0.649070478394\n"
     ]
    }
   ],
   "source": [
    "# Partially normlized dataset\n",
    "%timeit 10\n",
    "PN_CV_sigmoid_result = funct_svm_cv('sigmoid',data_x,data_y,10,'accuracy')"
   ]
  },
  {
   "cell_type": "code",
   "execution_count": 148,
   "metadata": {
    "collapsed": false
   },
   "outputs": [
    {
     "name": "stdout",
     "output_type": "stream",
     "text": [
      "100000000 loops, best of 3: 13.9 ns per loop\n",
      "accuracy of each fold is: [ 0.51417004  0.69635628  0.68825911  0.8097166   0.88571429  0.71020408\n",
      "  0.66530612  0.62040816  0.73469388  0.51836735]\n",
      "Mean accuracy with 10 fold cross validation for sigmoid  kernal SVM is:  0.684319590184\n"
     ]
    }
   ],
   "source": [
    "# Dimentione reduced dataset\n",
    "%timeit 10\n",
    "DR_CV_sigmoid_result = funct_svm_cv('sigmoid',data_x2,data_y,10,'accuracy')"
   ]
  },
  {
   "cell_type": "code",
   "execution_count": 149,
   "metadata": {
    "collapsed": false
   },
   "outputs": [
    {
     "name": "stdout",
     "output_type": "stream",
     "text": [
      "100000000 loops, best of 3: 14.1 ns per loop\n",
      "accuracy of each fold is: [ 0.68825911  0.78137652  0.82995951  0.94736842  0.86122449  0.7877551\n",
      "  0.75918367  0.70612245  0.76734694  0.86938776]\n",
      "Mean accuracy with 10 fold cross validation for sigmoid  kernal SVM is:  0.799798397092\n"
     ]
    }
   ],
   "source": [
    "# Completely normalized dataset\n",
    "%timeit 10\n",
    "CN_CV_sigmoid_result = funct_svm_cv('sigmoid',data_x3,data_y,10,'accuracy')"
   ]
  },
  {
   "cell_type": "code",
   "execution_count": 150,
   "metadata": {
    "collapsed": false
   },
   "outputs": [
    {
     "data": {
      "text/html": [
       "<div>\n",
       "<table border=\"1\" class=\"dataframe\">\n",
       "  <thead>\n",
       "    <tr style=\"text-align: right;\">\n",
       "      <th></th>\n",
       "      <th>Dataset</th>\n",
       "      <th>Accuracy</th>\n",
       "    </tr>\n",
       "  </thead>\n",
       "  <tbody>\n",
       "    <tr>\n",
       "      <th>0</th>\n",
       "      <td>Partially Normalized</td>\n",
       "      <td>0.649070</td>\n",
       "    </tr>\n",
       "    <tr>\n",
       "      <th>1</th>\n",
       "      <td>Dimention Reduced</td>\n",
       "      <td>0.684320</td>\n",
       "    </tr>\n",
       "    <tr>\n",
       "      <th>2</th>\n",
       "      <td>Completely Normalized</td>\n",
       "      <td>0.799798</td>\n",
       "    </tr>\n",
       "  </tbody>\n",
       "</table>\n",
       "</div>"
      ],
      "text/plain": [
       "                 Dataset  Accuracy\n",
       "0   Partially Normalized  0.649070\n",
       "1      Dimention Reduced  0.684320\n",
       "2  Completely Normalized  0.799798"
      ]
     },
     "execution_count": 150,
     "metadata": {},
     "output_type": "execute_result"
    }
   ],
   "source": [
    "cv_sigmoid_kernal_result = pd.DataFrame([{'Dataset':'Partially Normalized', 'Accuracy':PN_CV_sigmoid_result},\n",
    "                                    {'Dataset':'Dimention Reduced', 'Accuracy':DR_CV_sigmoid_result},\n",
    "                                    {'Dataset':'Completely Normalized', 'Accuracy':CN_CV_sigmoid_result}], columns=['Dataset','Accuracy'])\n",
    "cv_sigmoid_kernal_result"
   ]
  },
  {
   "cell_type": "markdown",
   "metadata": {},
   "source": [
    "## <font color='red'> Inference: </font>\n",
    "#### 1. Like Gaussian kernal, even polynomial and sigmoidal kernals yeald less accuracy with 10 fold CV\n",
    "#### 2. I did not include the results of polynomial kernal subjected to 10 fold CV because it was consuming more time to compute\n",
    "#### 3. <font color='brown'>However, results of sigmoidal kernal is shown above and we see accuracy is dropped from 0.81 to 0.79</font>"
   ]
  },
  {
   "cell_type": "markdown",
   "metadata": {},
   "source": [
    "### <font color='green'>7.5. Consolidated SVM Kernal Model's Evaluation Result </font>"
   ]
  },
  {
   "cell_type": "code",
   "execution_count": 152,
   "metadata": {
    "collapsed": false
   },
   "outputs": [
    {
     "data": {
      "text/html": [
       "<div>\n",
       "<table border=\"1\" class=\"dataframe\">\n",
       "  <thead>\n",
       "    <tr style=\"text-align: right;\">\n",
       "      <th></th>\n",
       "      <th>Dataset</th>\n",
       "      <th>Kernal</th>\n",
       "      <th>Accuracy</th>\n",
       "    </tr>\n",
       "  </thead>\n",
       "  <tbody>\n",
       "    <tr>\n",
       "      <th>0</th>\n",
       "      <td>Completely Normalized</td>\n",
       "      <td>Linear</td>\n",
       "      <td>0.993927</td>\n",
       "    </tr>\n",
       "    <tr>\n",
       "      <th>1</th>\n",
       "      <td>Completely Normalized</td>\n",
       "      <td>Gaussian</td>\n",
       "      <td>0.986623</td>\n",
       "    </tr>\n",
       "    <tr>\n",
       "      <th>2</th>\n",
       "      <td>Completely Normalized</td>\n",
       "      <td>Polynomial</td>\n",
       "      <td>0.985772</td>\n",
       "    </tr>\n",
       "    <tr>\n",
       "      <th>3</th>\n",
       "      <td>Completely Normalized</td>\n",
       "      <td>Sigmoidal</td>\n",
       "      <td>0.799798</td>\n",
       "    </tr>\n",
       "  </tbody>\n",
       "</table>\n",
       "</div>"
      ],
      "text/plain": [
       "                 Dataset      Kernal  Accuracy\n",
       "0  Completely Normalized      Linear  0.993927\n",
       "1  Completely Normalized    Gaussian  0.986623\n",
       "2  Completely Normalized  Polynomial  0.985772\n",
       "3  Completely Normalized   Sigmoidal  0.799798"
      ]
     },
     "execution_count": 152,
     "metadata": {},
     "output_type": "execute_result"
    }
   ],
   "source": [
    "cv_kernal_result = pd.DataFrame([{'Dataset':'Completely Normalized','Kernal':'Linear', 'Accuracy':CN_CV_linear_result},\n",
    "                            {'Dataset':'Completely Normalized','Kernal':'Gaussian', 'Accuracy':CN_CV_rbf_result},\n",
    "                            {'Dataset':'Completely Normalized','Kernal':'Polynomial', 'Accuracy':CN_poly_result}, \n",
    "                            {'Dataset':'Completely Normalized','Kernal':'Sigmoidal', 'Accuracy':CN_CV_sigmoid_result}], \n",
    "                             columns=['Dataset','Kernal','Accuracy'])\n",
    "cv_kernal_result"
   ]
  },
  {
   "cell_type": "markdown",
   "metadata": {},
   "source": [
    "### <font color='red'> Inference: </font>\n",
    "#### 1.<font color='brown'> From above table it is clearly evident that Linear SVM Kernal on a completely normalized datset behaves really well</font>\n",
    "#### 2. Even with 10-fold cross validation, I obtaned an accuracy of 0.9933927 which seems consistent when compare to other kernals.\n",
    "#### 3. After linear kernal it is the Gaussian and Polynomial kernal which gives high accuracy\n",
    "#### 4. <font color='brown'>So as part of next session, we will drop Sigmoidal kernal from our further analyis as it doens't even satisfy the bench mark accuracy. </font>\n",
    "#### 5. I will take up other 3 SVM models for performance tuning and see how the accuracychanges when we tradeoff between kernal parameters like penalty (C) and gamma in order to obtain a soft margin."
   ]
  },
  {
   "cell_type": "markdown",
   "metadata": {},
   "source": [
    "# Step-8: Parameter tuning on Different Kernals for SVM with 5-fold cross validation - experimenting with margins"
   ]
  },
  {
   "cell_type": "markdown",
   "metadata": {},
   "source": [
    "#### From above experimentation we see dataset which was normalized yeald a good result\n",
    "#### <font color='brown'>Thus, for further experimentation we will use the dataset whose independent variables are normalized i.e.</font>\n",
    "#### <font color='brown'> data_x3 and data_y3 </font>"
   ]
  },
  {
   "cell_type": "code",
   "execution_count": 153,
   "metadata": {
    "collapsed": false
   },
   "outputs": [],
   "source": [
    "# penality parameter C is 1.0 by default in sklearn\n",
    "# I would like to experiment it with multiple margins in range of c from 1 to 10\n",
    "def funct_tune_svm(kernal_type,margin_val,xData,yData,k,eval_param):\n",
    "    if(kernal_type=='linear'):\n",
    "        svm_obj=SVC(kernel=kernal_type,C=margin_val)\n",
    "    elif(kernal_type=='rbf'):\n",
    "        svm_obj=SVC(kernel=kernal_type,gamma=margin_val)\n",
    "    elif(kernal_type=='poly'):\n",
    "        svm_obj=SVC(kernel=kernal_type,degree=margin_val) \n",
    "    eval_result = cross_val_score(svm_obj, xData, yData, cv=k, scoring=eval_param)\n",
    "    return eval_result.mean()"
   ]
  },
  {
   "cell_type": "markdown",
   "metadata": {},
   "source": [
    "### <font color='green'>8.1. Tuning on Linear Kernal SVM  </font>"
   ]
  },
  {
   "cell_type": "code",
   "execution_count": 154,
   "metadata": {
    "collapsed": false
   },
   "outputs": [],
   "source": [
    "# Completely normlized dataset\n",
    "accu_list = list()\n",
    "for c in np.arange(0.1,10,0.5):\n",
    "    result = funct_tune_svm('linear',c,data_x3,data_y,5,'accuracy')\n",
    "    accu_list.append(result)"
   ]
  },
  {
   "cell_type": "code",
   "execution_count": 155,
   "metadata": {
    "collapsed": false
   },
   "outputs": [
    {
     "data": {
      "text/plain": [
       "<matplotlib.text.Text at 0x247b9e5d5f8>"
      ]
     },
     "execution_count": 155,
     "metadata": {},
     "output_type": "execute_result"
    },
    {
     "data": {
      "image/png": "[encoded data removed]",
      "text/plain": [
       "<matplotlib.figure.Figure at 0x247b9de6198>"
      ]
     },
     "metadata": {},
     "output_type": "display_data"
    }
   ],
   "source": [
    "C_values=np.arange(0.1,10,0.5)\n",
    "# plot the value of C for SVM (x-axis) versus the cross-validated accuracy (y-axis)\n",
    "plt.plot(C_values,accu_list)\n",
    "plt.xticks(np.arange(0.1,10,0.5))\n",
    "plt.xlabel('Value of C for SVC')\n",
    "plt.ylabel('Cross-Validated Accuracy')"
   ]
  },
  {
   "cell_type": "code",
   "execution_count": 156,
   "metadata": {
    "collapsed": false
   },
   "outputs": [
    {
     "data": {
      "text/html": [
       "<div>\n",
       "<table border=\"1\" class=\"dataframe\">\n",
       "  <thead>\n",
       "    <tr style=\"text-align: right;\">\n",
       "      <th></th>\n",
       "      <th>Penality Parameter C</th>\n",
       "      <th>Accuracy</th>\n",
       "    </tr>\n",
       "  </thead>\n",
       "  <tbody>\n",
       "    <tr>\n",
       "      <th>0</th>\n",
       "      <td>0.1</td>\n",
       "      <td>0.993089</td>\n",
       "    </tr>\n",
       "    <tr>\n",
       "      <th>1</th>\n",
       "      <td>0.6</td>\n",
       "      <td>0.993902</td>\n",
       "    </tr>\n",
       "    <tr>\n",
       "      <th>2</th>\n",
       "      <td>1.1</td>\n",
       "      <td>0.993496</td>\n",
       "    </tr>\n",
       "    <tr>\n",
       "      <th>3</th>\n",
       "      <td>1.6</td>\n",
       "      <td>0.993089</td>\n",
       "    </tr>\n",
       "    <tr>\n",
       "      <th>4</th>\n",
       "      <td>2.1</td>\n",
       "      <td>0.993089</td>\n",
       "    </tr>\n",
       "    <tr>\n",
       "      <th>5</th>\n",
       "      <td>2.6</td>\n",
       "      <td>0.993089</td>\n",
       "    </tr>\n",
       "    <tr>\n",
       "      <th>6</th>\n",
       "      <td>3.1</td>\n",
       "      <td>0.993089</td>\n",
       "    </tr>\n",
       "    <tr>\n",
       "      <th>7</th>\n",
       "      <td>3.6</td>\n",
       "      <td>0.992683</td>\n",
       "    </tr>\n",
       "    <tr>\n",
       "      <th>8</th>\n",
       "      <td>4.1</td>\n",
       "      <td>0.992276</td>\n",
       "    </tr>\n",
       "    <tr>\n",
       "      <th>9</th>\n",
       "      <td>4.6</td>\n",
       "      <td>0.991463</td>\n",
       "    </tr>\n",
       "    <tr>\n",
       "      <th>10</th>\n",
       "      <td>5.1</td>\n",
       "      <td>0.991463</td>\n",
       "    </tr>\n",
       "    <tr>\n",
       "      <th>11</th>\n",
       "      <td>5.6</td>\n",
       "      <td>0.991463</td>\n",
       "    </tr>\n",
       "    <tr>\n",
       "      <th>12</th>\n",
       "      <td>6.1</td>\n",
       "      <td>0.991870</td>\n",
       "    </tr>\n",
       "    <tr>\n",
       "      <th>13</th>\n",
       "      <td>6.6</td>\n",
       "      <td>0.991870</td>\n",
       "    </tr>\n",
       "    <tr>\n",
       "      <th>14</th>\n",
       "      <td>7.1</td>\n",
       "      <td>0.991870</td>\n",
       "    </tr>\n",
       "    <tr>\n",
       "      <th>15</th>\n",
       "      <td>7.6</td>\n",
       "      <td>0.991870</td>\n",
       "    </tr>\n",
       "    <tr>\n",
       "      <th>16</th>\n",
       "      <td>8.1</td>\n",
       "      <td>0.991870</td>\n",
       "    </tr>\n",
       "    <tr>\n",
       "      <th>17</th>\n",
       "      <td>8.6</td>\n",
       "      <td>0.991870</td>\n",
       "    </tr>\n",
       "    <tr>\n",
       "      <th>18</th>\n",
       "      <td>9.1</td>\n",
       "      <td>0.991870</td>\n",
       "    </tr>\n",
       "    <tr>\n",
       "      <th>19</th>\n",
       "      <td>9.6</td>\n",
       "      <td>0.991870</td>\n",
       "    </tr>\n",
       "  </tbody>\n",
       "</table>\n",
       "</div>"
      ],
      "text/plain": [
       "    Penality Parameter C  Accuracy\n",
       "0                    0.1  0.993089\n",
       "1                    0.6  0.993902\n",
       "2                    1.1  0.993496\n",
       "3                    1.6  0.993089\n",
       "4                    2.1  0.993089\n",
       "5                    2.6  0.993089\n",
       "6                    3.1  0.993089\n",
       "7                    3.6  0.992683\n",
       "8                    4.1  0.992276\n",
       "9                    4.6  0.991463\n",
       "10                   5.1  0.991463\n",
       "11                   5.6  0.991463\n",
       "12                   6.1  0.991870\n",
       "13                   6.6  0.991870\n",
       "14                   7.1  0.991870\n",
       "15                   7.6  0.991870\n",
       "16                   8.1  0.991870\n",
       "17                   8.6  0.991870\n",
       "18                   9.1  0.991870\n",
       "19                   9.6  0.991870"
      ]
     },
     "execution_count": 156,
     "metadata": {},
     "output_type": "execute_result"
    }
   ],
   "source": [
    "tuning_linear_svm = pd.DataFrame(columns=['Penality Parameter C', 'Accuracy'])\n",
    "tuning_linear_svm['Penality Parameter C'] = np.arange(0.1,10,0.5)\n",
    "tuning_linear_svm['Accuracy'] = accu_list\n",
    "tuning_linear_svm"
   ]
  },
  {
   "cell_type": "markdown",
   "metadata": {},
   "source": [
    "### <font color='red'> Inference: </font>\n",
    "#### 1. Ultimate aim in building a kernal is to find an optimum hyper plane in feature space which has maximum margin in classifying our target variable.\n",
    "#### 2. Kernal which I have built above so far in order to check the performance are those with hard margins, this is not good to be generalized as it may cause overfitting.\n",
    "#### 3. So, in this session, we will trade off between margin and Support vectors to choose an optimum boundry which will not overfit the model and at the same time deliver a high accuracy in classifying the target variable.\n",
    "#### 4. With linear kernal it is the penalty measure through which we can do some trade off\n",
    "#### 5. Above table shows the accuracy (model performance) for different values of C\n",
    "#### 6. <font color='brown'> Both from graph and above table we see 0.6 and 1.1 to be the optimum penalty measure or C value which we can treade off with in classifying the target variable.</font>\n",
    "#### 7. Even with such trade off , we obtain almost 0.9939 accuracy for linear kernal"
   ]
  },
  {
   "cell_type": "markdown",
   "metadata": {},
   "source": [
    "### <font color='green'>8.2. Tuning on RBF Kernal SVM </font>"
   ]
  },
  {
   "cell_type": "code",
   "execution_count": 157,
   "metadata": {
    "collapsed": false
   },
   "outputs": [],
   "source": [
    "# Completely normlized dataset\n",
    "accu_list = list()\n",
    "for c in np.arange(0.1,10,1):\n",
    "    result = funct_tune_svm('rbf',c,data_x3,data_y,5,'accuracy')\n",
    "    accu_list.append(result)"
   ]
  },
  {
   "cell_type": "code",
   "execution_count": 158,
   "metadata": {
    "collapsed": false
   },
   "outputs": [
    {
     "data": {
      "text/plain": [
       "<matplotlib.text.Text at 0x247bbe837b8>"
      ]
     },
     "execution_count": 158,
     "metadata": {},
     "output_type": "execute_result"
    },
    {
     "data": {
      "image/png": "[encoded data removed]",
      "text/plain": [
       "<matplotlib.figure.Figure at 0x247bbe3fb38>"
      ]
     },
     "metadata": {},
     "output_type": "display_data"
    }
   ],
   "source": [
    "C_values=list(range(0,10))\n",
    "# plot the value of C for SVM (x-axis) versus the cross-validated accuracy (y-axis)\n",
    "plt.plot(C_values,accu_list)\n",
    "plt.xticks(np.arange(0,10,1))\n",
    "plt.xlabel('Value of Gamma for SVC')\n",
    "plt.ylabel('Cross-Validated Accuracy')"
   ]
  },
  {
   "cell_type": "code",
   "execution_count": 159,
   "metadata": {
    "collapsed": true
   },
   "outputs": [],
   "source": [
    "tuning_rbf_svm = pd.DataFrame(columns=['Parameter Gamma', 'Accuracy'])\n",
    "tuning_rbf_svm['Parameter Gamma'] = np.arange(0.1,10,1)\n",
    "tuning_rbf_svm['Accuracy'] = accu_list"
   ]
  },
  {
   "cell_type": "code",
   "execution_count": 160,
   "metadata": {
    "collapsed": false
   },
   "outputs": [
    {
     "data": {
      "text/html": [
       "<div>\n",
       "<table border=\"1\" class=\"dataframe\">\n",
       "  <thead>\n",
       "    <tr style=\"text-align: right;\">\n",
       "      <th></th>\n",
       "      <th>Parameter Gamma</th>\n",
       "      <th>Accuracy</th>\n",
       "    </tr>\n",
       "  </thead>\n",
       "  <tbody>\n",
       "    <tr>\n",
       "      <th>0</th>\n",
       "      <td>0.1</td>\n",
       "      <td>0.981289</td>\n",
       "    </tr>\n",
       "    <tr>\n",
       "      <th>1</th>\n",
       "      <td>1.1</td>\n",
       "      <td>0.866114</td>\n",
       "    </tr>\n",
       "    <tr>\n",
       "      <th>2</th>\n",
       "      <td>2.1</td>\n",
       "      <td>0.739190</td>\n",
       "    </tr>\n",
       "    <tr>\n",
       "      <th>3</th>\n",
       "      <td>3.1</td>\n",
       "      <td>0.682660</td>\n",
       "    </tr>\n",
       "    <tr>\n",
       "      <th>4</th>\n",
       "      <td>4.1</td>\n",
       "      <td>0.644832</td>\n",
       "    </tr>\n",
       "    <tr>\n",
       "      <th>5</th>\n",
       "      <td>5.1</td>\n",
       "      <td>0.627340</td>\n",
       "    </tr>\n",
       "    <tr>\n",
       "      <th>6</th>\n",
       "      <td>6.1</td>\n",
       "      <td>0.621239</td>\n",
       "    </tr>\n",
       "    <tr>\n",
       "      <th>7</th>\n",
       "      <td>7.1</td>\n",
       "      <td>0.618392</td>\n",
       "    </tr>\n",
       "    <tr>\n",
       "      <th>8</th>\n",
       "      <td>8.1</td>\n",
       "      <td>0.617579</td>\n",
       "    </tr>\n",
       "    <tr>\n",
       "      <th>9</th>\n",
       "      <td>9.1</td>\n",
       "      <td>0.616765</td>\n",
       "    </tr>\n",
       "  </tbody>\n",
       "</table>\n",
       "</div>"
      ],
      "text/plain": [
       "   Parameter Gamma  Accuracy\n",
       "0              0.1  0.981289\n",
       "1              1.1  0.866114\n",
       "2              2.1  0.739190\n",
       "3              3.1  0.682660\n",
       "4              4.1  0.644832\n",
       "5              5.1  0.627340\n",
       "6              6.1  0.621239\n",
       "7              7.1  0.618392\n",
       "8              8.1  0.617579\n",
       "9              9.1  0.616765"
      ]
     },
     "execution_count": 160,
     "metadata": {},
     "output_type": "execute_result"
    }
   ],
   "source": [
    "tuning_rbf_svm"
   ]
  },
  {
   "cell_type": "code",
   "execution_count": 161,
   "metadata": {
    "collapsed": false
   },
   "outputs": [
    {
     "data": {
      "text/plain": [
       "<matplotlib.text.Text at 0x29dc9cf3a58>"
      ]
     },
     "execution_count": 161,
     "metadata": {},
     "output_type": "execute_result"
    },
    {
     "data": {
      "image/png": "[encoded data removed]",
      "text/plain": [
       "<matplotlib.figure.Figure at 0x29dc77272b0>"
      ]
     },
     "metadata": {},
     "output_type": "display_data"
    }
   ],
   "source": [
    "# Doing further tradeoff\n",
    "accu_list = list()\n",
    "for c in np.arange(0.001,0.01,0.001):\n",
    "    result = funct_tune_svm('rbf',c,data_x3,data_y,5,'accuracy')\n",
    "    accu_list.append(result)\n",
    "\n",
    "C_values=list(np.arange(0.001,0.01,0.001))\n",
    "# plot the value of C for SVM (x-axis) versus the cross-validated accuracy (y-axis)\n",
    "plt.plot(C_values,accu_list)\n",
    "plt.xticks(np.arange(0.001,0.01,0.001))\n",
    "plt.xlabel('Value of Gamma for SVC')\n",
    "plt.ylabel('Cross-Validated Accuracy')"
   ]
  },
  {
   "cell_type": "code",
   "execution_count": 162,
   "metadata": {
    "collapsed": false
   },
   "outputs": [
    {
     "data": {
      "text/html": [
       "<div>\n",
       "<table border=\"1\" class=\"dataframe\">\n",
       "  <thead>\n",
       "    <tr style=\"text-align: right;\">\n",
       "      <th></th>\n",
       "      <th>Parameter Gamma</th>\n",
       "      <th>Accuracy</th>\n",
       "    </tr>\n",
       "  </thead>\n",
       "  <tbody>\n",
       "    <tr>\n",
       "      <th>0</th>\n",
       "      <td>0.001</td>\n",
       "      <td>0.960562</td>\n",
       "    </tr>\n",
       "    <tr>\n",
       "      <th>1</th>\n",
       "      <td>0.002</td>\n",
       "      <td>0.989837</td>\n",
       "    </tr>\n",
       "    <tr>\n",
       "      <th>2</th>\n",
       "      <td>0.003</td>\n",
       "      <td>0.991057</td>\n",
       "    </tr>\n",
       "    <tr>\n",
       "      <th>3</th>\n",
       "      <td>0.004</td>\n",
       "      <td>0.990650</td>\n",
       "    </tr>\n",
       "    <tr>\n",
       "      <th>4</th>\n",
       "      <td>0.005</td>\n",
       "      <td>0.991057</td>\n",
       "    </tr>\n",
       "    <tr>\n",
       "      <th>5</th>\n",
       "      <td>0.006</td>\n",
       "      <td>0.990650</td>\n",
       "    </tr>\n",
       "    <tr>\n",
       "      <th>6</th>\n",
       "      <td>0.007</td>\n",
       "      <td>0.990650</td>\n",
       "    </tr>\n",
       "    <tr>\n",
       "      <th>7</th>\n",
       "      <td>0.008</td>\n",
       "      <td>0.990650</td>\n",
       "    </tr>\n",
       "    <tr>\n",
       "      <th>8</th>\n",
       "      <td>0.009</td>\n",
       "      <td>0.990650</td>\n",
       "    </tr>\n",
       "  </tbody>\n",
       "</table>\n",
       "</div>"
      ],
      "text/plain": [
       "   Parameter Gamma  Accuracy\n",
       "0            0.001  0.960562\n",
       "1            0.002  0.989837\n",
       "2            0.003  0.991057\n",
       "3            0.004  0.990650\n",
       "4            0.005  0.991057\n",
       "5            0.006  0.990650\n",
       "6            0.007  0.990650\n",
       "7            0.008  0.990650\n",
       "8            0.009  0.990650"
      ]
     },
     "execution_count": 162,
     "metadata": {},
     "output_type": "execute_result"
    }
   ],
   "source": [
    "tuning_rbf_svm = pd.DataFrame(columns=['Parameter Gamma', 'Accuracy'])\n",
    "tuning_rbf_svm['Parameter Gamma'] = np.arange(0.001,0.01,0.001)\n",
    "tuning_rbf_svm['Accuracy'] = accu_list\n",
    "tuning_rbf_svm"
   ]
  },
  {
   "cell_type": "markdown",
   "metadata": {},
   "source": [
    "### <font color='red'> Inference: </font>\n",
    "#### 1. In Gaussian kernal, tradeoff is done with penalty (C) along with gamma parameter\n",
    "#### 2. I first experimented with wider Gamma values ranging between 1 and 10 and obsevred Kernal started to behave bad with gamma greater than 1 \n",
    "#### 3.<font color='brown'> So, I tried to find the most optimum value with in 0 and 1 and as show in above table, i obtained a maximum accuracy of 0.991 when gammal was equal to 0.03 and 0.05 </font>\n",
    "#### 4. However when compare to Linear kernal, we see rbf produce an accuracy of 0.002 times less.\n",
    "#### 5. Thus, it is quite evident again that linear kernal acts well on this dataset in classification of target variable."
   ]
  },
  {
   "cell_type": "markdown",
   "metadata": {},
   "source": [
    "### <font color='green'>8.3. Tuning on Polynomial Kernal SVM  </font>"
   ]
  },
  {
   "cell_type": "code",
   "execution_count": 165,
   "metadata": {
    "collapsed": true
   },
   "outputs": [],
   "source": [
    "# Completely normlized dataset\n",
    "accu_list = list()\n",
    "for c in np.arange(0.1,10,1):\n",
    "    result = funct_tune_svm('poly',c,data_x3,data_y,5,'accuracy')\n",
    "    accu_list.append(result)"
   ]
  },
  {
   "cell_type": "code",
   "execution_count": 166,
   "metadata": {
    "collapsed": false
   },
   "outputs": [
    {
     "data": {
      "text/plain": [
       "array([ 0.1,  1.1,  2.1,  3.1,  4.1,  5.1,  6.1,  7.1,  8.1,  9.1])"
      ]
     },
     "execution_count": 166,
     "metadata": {},
     "output_type": "execute_result"
    }
   ],
   "source": [
    "np.arange(0.1,10,1)"
   ]
  },
  {
   "cell_type": "code",
   "execution_count": 168,
   "metadata": {
    "collapsed": false
   },
   "outputs": [
    {
     "data": {
      "text/plain": [
       "<matplotlib.text.Text at 0x29dc9ddd978>"
      ]
     },
     "execution_count": 168,
     "metadata": {},
     "output_type": "execute_result"
    },
    {
     "data": {
      "image/png": "[encoded data removed]",
      "text/plain": [
       "<matplotlib.figure.Figure at 0x29dc9d6ab38>"
      ]
     },
     "metadata": {},
     "output_type": "display_data"
    }
   ],
   "source": [
    "C_values=list(np.arange(0.1,10,1))\n",
    "# plot the value of C for SVM (x-axis) versus the cross-validated accuracy (y-axis)\n",
    "plt.plot(C_values,accu_list)\n",
    "plt.xticks(np.arange(0.1,10,1))\n",
    "plt.xlabel('Value of C for SVC')\n",
    "plt.ylabel('Cross-Validated Accuracy')"
   ]
  },
  {
   "cell_type": "code",
   "execution_count": 170,
   "metadata": {
    "collapsed": false
   },
   "outputs": [
    {
     "data": {
      "text/html": [
       "<div>\n",
       "<table border=\"1\" class=\"dataframe\">\n",
       "  <thead>\n",
       "    <tr style=\"text-align: right;\">\n",
       "      <th></th>\n",
       "      <th>Parameter Degree</th>\n",
       "      <th>Accuracy</th>\n",
       "    </tr>\n",
       "  </thead>\n",
       "  <tbody>\n",
       "    <tr>\n",
       "      <th>0</th>\n",
       "      <td>0.1</td>\n",
       "      <td>0.615948</td>\n",
       "    </tr>\n",
       "    <tr>\n",
       "      <th>1</th>\n",
       "      <td>1.1</td>\n",
       "      <td>0.993089</td>\n",
       "    </tr>\n",
       "    <tr>\n",
       "      <th>2</th>\n",
       "      <td>2.1</td>\n",
       "      <td>0.904793</td>\n",
       "    </tr>\n",
       "    <tr>\n",
       "      <th>3</th>\n",
       "      <td>3.1</td>\n",
       "      <td>0.974783</td>\n",
       "    </tr>\n",
       "    <tr>\n",
       "      <th>4</th>\n",
       "      <td>4.1</td>\n",
       "      <td>0.895480</td>\n",
       "    </tr>\n",
       "    <tr>\n",
       "      <th>5</th>\n",
       "      <td>5.1</td>\n",
       "      <td>0.916632</td>\n",
       "    </tr>\n",
       "    <tr>\n",
       "      <th>6</th>\n",
       "      <td>6.1</td>\n",
       "      <td>0.851958</td>\n",
       "    </tr>\n",
       "    <tr>\n",
       "      <th>7</th>\n",
       "      <td>7.1</td>\n",
       "      <td>0.864161</td>\n",
       "    </tr>\n",
       "    <tr>\n",
       "      <th>8</th>\n",
       "      <td>8.1</td>\n",
       "      <td>0.825925</td>\n",
       "    </tr>\n",
       "    <tr>\n",
       "      <th>9</th>\n",
       "      <td>9.1</td>\n",
       "      <td>0.834472</td>\n",
       "    </tr>\n",
       "  </tbody>\n",
       "</table>\n",
       "</div>"
      ],
      "text/plain": [
       "   Parameter Degree  Accuracy\n",
       "0               0.1  0.615948\n",
       "1               1.1  0.993089\n",
       "2               2.1  0.904793\n",
       "3               3.1  0.974783\n",
       "4               4.1  0.895480\n",
       "5               5.1  0.916632\n",
       "6               6.1  0.851958\n",
       "7               7.1  0.864161\n",
       "8               8.1  0.825925\n",
       "9               9.1  0.834472"
      ]
     },
     "execution_count": 170,
     "metadata": {},
     "output_type": "execute_result"
    }
   ],
   "source": [
    "tuning_poly_svm = pd.DataFrame(columns=['Parameter Degree', 'Accuracy'])\n",
    "tuning_poly_svm['Parameter Degree'] = np.arange(0.1,10,1)\n",
    "tuning_poly_svm['Accuracy'] = accu_list\n",
    "tuning_poly_svm"
   ]
  },
  {
   "cell_type": "markdown",
   "metadata": {},
   "source": [
    "### <font color='red'> Inference: </font>\n",
    "#### 1. Along with penalty and gamma parameter, with polynomial kernal we can trade off with degree \n",
    "#### 2. I experimented with various degree as shown above and obtained degree = 1.1 produce a high accuracy\n",
    "#### 3. <font color='brown'> Accuracy obtained by polynomial is almost same as Linear which is 0.993 </font>\n",
    "#### 4. So, to produce a final inference in choosing the best kernal we will apply a grid search in our next session and see which model and which parameter produce a high accuracy."
   ]
  },
  {
   "cell_type": "markdown",
   "metadata": {},
   "source": [
    "# Step-9: Choosing best Kernals Parameters with grid search"
   ]
  },
  {
   "cell_type": "code",
   "execution_count": 171,
   "metadata": {
    "collapsed": false
   },
   "outputs": [
    {
     "name": "stdout",
     "output_type": "stream",
     "text": [
      "0.993927125506\n"
     ]
    }
   ],
   "source": [
    "# Now performing SVM by taking hyperparameter C=0.1 and kernel as linear\n",
    "svc=SVC(kernel='linear',C=0.6)\n",
    "scores = cross_val_score(svc, data_x3, data_y, cv=10, scoring='accuracy')\n",
    "print(scores.mean())"
   ]
  },
  {
   "cell_type": "code",
   "execution_count": 172,
   "metadata": {
    "collapsed": false
   },
   "outputs": [
    {
     "data": {
      "text/plain": [
       "0.99390243902439024"
      ]
     },
     "execution_count": 172,
     "metadata": {},
     "output_type": "execute_result"
    }
   ],
   "source": [
    "# With rbf gamma value = 0.01\n",
    "svc= SVC(kernel='rbf',gamma=0.005)\n",
    "svc.fit(data_x3_train,data_y3_train)\n",
    "y_predict=svc.predict(data_x3_test)\n",
    "metrics.accuracy_score(data_y3_test,y_predict)"
   ]
  },
  {
   "cell_type": "code",
   "execution_count": 174,
   "metadata": {
    "collapsed": false
   },
   "outputs": [
    {
     "data": {
      "text/plain": [
       "array([ 0.001,  0.002,  0.003,  0.004,  0.005,  0.006,  0.007,  0.008,\n",
       "        0.009])"
      ]
     },
     "execution_count": 174,
     "metadata": {},
     "output_type": "execute_result"
    }
   ],
   "source": [
    "np.arange(0.001,0.0,0.001)"
   ]
  },
  {
   "cell_type": "markdown",
   "metadata": {},
   "source": [
    "### <font color='green'>9.1. Choosing the best parameter </font>"
   ]
  },
  {
   "cell_type": "code",
   "execution_count": 175,
   "metadata": {
    "collapsed": false
   },
   "outputs": [
    {
     "name": "stdout",
     "output_type": "stream",
     "text": [
      "0.992370295015\n",
      "{'gamma': 0.005, 'C': 1.6, 'kernel': 'poly', 'degree': 1}\n"
     ]
    }
   ],
   "source": [
    "# performing grid search with different tuning parameters\n",
    "svm_obj= SVC()\n",
    "grid_parameters = {\n",
    " 'C': [0.1,0.6,1.1,1.6] , 'kernel': ['linear'],\n",
    " 'C': [0.1,0.6,1.1,1.6] , 'gamma': [0.002,0.003,0.004,0.005], 'kernel': ['rbf'],\n",
    " 'degree': [1,2,3] ,'gamma':[0.002,0.003,0.004,0.005], 'C':[0.1,0.6,1.1,1.6] , 'kernel':['poly']\n",
    "                   }\n",
    "model_svm = GridSearchCV(svm_obj, grid_parameters,cv=10,scoring='accuracy')\n",
    "model_svm.fit(data_x3_train, data_y3_train)\n",
    "print(model_svm.best_score_)\n",
    "print(model_svm.best_params_)\n",
    "y_pred= model_svm.predict(data_x3_test)"
   ]
  },
  {
   "cell_type": "code",
   "execution_count": 176,
   "metadata": {
    "collapsed": false
   },
   "outputs": [
    {
     "data": {
      "text/plain": [
       "0.99390243902439024"
      ]
     },
     "execution_count": 176,
     "metadata": {},
     "output_type": "execute_result"
    }
   ],
   "source": [
    "svm_performance = metrics.accuracy_score(y_pred,data_y3_test)\n",
    "svm_performance"
   ]
  },
  {
   "cell_type": "code",
   "execution_count": 177,
   "metadata": {
    "collapsed": false
   },
   "outputs": [
    {
     "data": {
      "text/html": [
       "<div>\n",
       "<table border=\"1\" class=\"dataframe\">\n",
       "  <thead>\n",
       "    <tr style=\"text-align: right;\">\n",
       "      <th></th>\n",
       "      <th>kernel</th>\n",
       "      <th>C</th>\n",
       "      <th>gamma</th>\n",
       "      <th>degree</th>\n",
       "    </tr>\n",
       "  </thead>\n",
       "  <tbody>\n",
       "    <tr>\n",
       "      <th>0</th>\n",
       "      <td>poly</td>\n",
       "      <td>1.6</td>\n",
       "      <td>0.005</td>\n",
       "      <td>1</td>\n",
       "    </tr>\n",
       "  </tbody>\n",
       "</table>\n",
       "</div>"
      ],
      "text/plain": [
       "  kernel    C  gamma  degree\n",
       "0   poly  1.6  0.005       1"
      ]
     },
     "execution_count": 177,
     "metadata": {},
     "output_type": "execute_result"
    }
   ],
   "source": [
    "gridSearch_kernal_result = pd.DataFrame([{'kernel': 'poly', 'gamma': 0.005, 'degree': 1, 'C': 1.6}],\n",
    "                                       columns=['kernel','C','gamma','degree'])\n",
    "gridSearch_kernal_result"
   ]
  },
  {
   "cell_type": "markdown",
   "metadata": {},
   "source": [
    "### <font color='red'> Inference: </font>\n",
    "#### 1. I did a grid search, whcih is a structure way to obtain an optimized kernal and its parameter measures\n",
    "#### 2. <font color='brown'>  From above result, I see it is the polynomial kernal with penalty measure of C=1.6 and gamma = 0.005 and with degree=1 produce a high accuracy of 0.9939 in classifying the target variable.</font>\n",
    "#### 3. In this next session i have tried to visualize my margin and kernal behaviour by subjecting only 2 columns for analysis as it becomes a 2-dimentional space for visualization."
   ]
  },
  {
   "cell_type": "markdown",
   "metadata": {
    "collapsed": true
   },
   "source": [
    "# Step-10 Visualization of kernal Margin and boundries considereing only two columns meanfun & sp.ent to represent a 2D space"
   ]
  },
  {
   "cell_type": "markdown",
   "metadata": {},
   "source": [
    "### <font color='green'>10.1. Choosing the best attribute to represent dataset in 2D space </font>"
   ]
  },
  {
   "cell_type": "code",
   "execution_count": 178,
   "metadata": {
    "collapsed": false
   },
   "outputs": [
    {
     "data": {
      "text/plain": [
       "<matplotlib.collections.PathCollection at 0x29dcb0fe320>"
      ]
     },
     "execution_count": 178,
     "metadata": {},
     "output_type": "execute_result"
    },
    {
     "data": {
      "image/png": "[encoded data removed]",
      "text/plain": [
       "<matplotlib.figure.Figure at 0x29dc9cec390>"
      ]
     },
     "metadata": {},
     "output_type": "display_data"
    }
   ],
   "source": [
    "# Scatter plot with strong correlation - not useful much to represnt the distribution wrt kernal boundries\n",
    "plt.scatter(data_raw['meanfreq'],data_raw['centroid'])"
   ]
  },
  {
   "cell_type": "code",
   "execution_count": 179,
   "metadata": {
    "collapsed": false
   },
   "outputs": [
    {
     "data": {
      "text/plain": [
       "<matplotlib.collections.PathCollection at 0x29dcb2d5c50>"
      ]
     },
     "execution_count": 179,
     "metadata": {},
     "output_type": "execute_result"
    },
    {
     "data": {
      "image/png": "[encoded data removed]",
      "text/plain": [
       "<matplotlib.figure.Figure at 0x29dcb1cff98>"
      ]
     },
     "metadata": {},
     "output_type": "display_data"
    }
   ],
   "source": [
    "# Scatter plot with weak correlation - not useful much to represnt the distribution wrt kernal boundries\n",
    "plt.scatter(data_raw['modindx'],data_raw['minfun'])"
   ]
  },
  {
   "cell_type": "code",
   "execution_count": 181,
   "metadata": {
    "collapsed": false
   },
   "outputs": [
    {
     "data": {
      "text/plain": [
       "<matplotlib.collections.PathCollection at 0x29dc9db8048>"
      ]
     },
     "execution_count": 181,
     "metadata": {},
     "output_type": "execute_result"
    },
    {
     "data": {
      "image/png": "[encoded data removed]",
      "text/plain": [
       "<matplotlib.figure.Figure at 0x29dc9fc3208>"
      ]
     },
     "metadata": {},
     "output_type": "display_data"
    }
   ],
   "source": [
    "# Scatter plot with moderate correlation - useful much to represnt the distribution wrt kernal boundries\n",
    "plt.scatter(data_raw['dfrange'],data_raw['centroid'])"
   ]
  },
  {
   "cell_type": "code",
   "execution_count": 180,
   "metadata": {
    "collapsed": false
   },
   "outputs": [
    {
     "data": {
      "text/plain": [
       "<matplotlib.collections.PathCollection at 0x29dc9fa7f98>"
      ]
     },
     "execution_count": 180,
     "metadata": {},
     "output_type": "execute_result"
    },
    {
     "data": {
      "image/png": "[encoded data removed]",
      "text/plain": [
       "<matplotlib.figure.Figure at 0x29dc9f54e10>"
      ]
     },
     "metadata": {},
     "output_type": "display_data"
    }
   ],
   "source": [
    "# Scatter plot with moderate negative correlation - useful much to represnt the distribution wrt kernal boundries\n",
    "plt.scatter(data_raw['meanfun'],data_raw['sp.ent'])"
   ]
  },
  {
   "cell_type": "markdown",
   "metadata": {},
   "source": [
    "### <font color='red'> Inference: </font>\n",
    "#### 1. After doing necessary data cleanup and model building I was able to infer that a polinomial kernal SVM with parameters C=1.6, gamma=0.005 and degree=1 plots a perfect margin in a high dimentional space to classify gender label which is our target variable\n",
    "#### 2.However, vizualizing more than two dimention is complex to represnt\n",
    "#### 3. <font color='brown'> So, I would like to choose any 2 variables from dataset through which i can represnt my margin and kernal boundries in a 2-dimentional space </font>\n",
    "#### 4. <font color='brown'>  For this i used the correlation matrix and above scatter plot obtained above and choose two variable which is moderately correlated. As neither the strong nor the weak correlation variables might not be well represented in ourder to show the decision boundries.</font>\n",
    "#### 5. meanfun being the most important variable for the dataset, I decided to choose it and match it with another variable which has moderate correlation with it. with 0.52 as correlation value between i choose sp.ent and meanfun to be my choise of 2-dimentional feature space."
   ]
  },
  {
   "cell_type": "markdown",
   "metadata": {},
   "source": [
    "### <font color='green'>10.2. Visualizing the margin modeled </font>"
   ]
  },
  {
   "cell_type": "code",
   "execution_count": 185,
   "metadata": {
    "collapsed": false
   },
   "outputs": [
    {
     "data": {
      "image/png": "[encoded data removed]",
      "text/plain": [
       "<matplotlib.figure.Figure at 0x29dc99d1748>"
      ]
     },
     "metadata": {},
     "output_type": "display_data"
    }
   ],
   "source": [
    "# import some data to play with\n",
    "X = data_x3[['meanfun','sp.ent']].copy()\n",
    "X = np.array(X)\n",
    "y = np.array(data_y)\n",
    "\n",
    "# fit the model, don't regularize for illustration purposes\n",
    "clf = SVC(kernel='poly', degree=1.1, gamma = 0.05,C=1.6)\n",
    "clf.fit(X, y)\n",
    "\n",
    "# title for the plots\n",
    "title = ('SVC with poly kernel(with degree=1.1 & gamma=0.05 & C=1.6)')\n",
    "\n",
    "plt.scatter(X[:, 0], X[:, 1], c=y, s=30, cmap=plt.cm.Paired)\n",
    "\n",
    "# plot the decision function\n",
    "ax = plt.gca()\n",
    "xlim = ax.get_xlim()\n",
    "ylim = ax.get_ylim()\n",
    "\n",
    "# create grid to evaluate model\n",
    "xx = np.linspace(xlim[0], xlim[1], 30)\n",
    "yy = np.linspace(ylim[0], ylim[1], 30)\n",
    "YY, XX = np.meshgrid(yy, xx)\n",
    "xy = np.vstack([XX.ravel(), YY.ravel()]).T\n",
    "Z = clf.decision_function(xy).reshape(XX.shape)\n",
    "\n",
    "# plot decision boundary and margins\n",
    "ax.contour(XX, YY, Z, colors='k', levels=[-1, 0, 1], alpha=0.5,\n",
    "           linestyles=['--', '-', '--'])\n",
    "# plot support vectors\n",
    "ax.scatter(clf.support_vectors_[:, 0], clf.support_vectors_[:, 1], s=100,\n",
    "           linewidth=1, facecolors='none')\n",
    "ax.set_xlabel('meanfun')\n",
    "ax.set_ylabel('sp.ent')\n",
    "ax.set_title(title)\n",
    "plt.show()"
   ]
  },
  {
   "cell_type": "markdown",
   "metadata": {},
   "source": [
    "### <font color='red'> Inference: </font>\n",
    "#### 1. meanfun being the most important variable for the dataset, I decided to choose it and match it with another variable which has moderate correlation with it. with 0.52 as correlation value between i choose sp.ent and meanfun to be my choise of 2-dimentional feature space.\n",
    "#### 2. I modeled polynomial kernal with penalty measure of C=1.6, gamma = 0.05 and degree=1 to obtain the above scatter plot.\n",
    "#### 3. When did, SVM projected my data in a 2 dimentional space and obtained an optimal margin that classifies my gender being male and female. \n",
    "#### 4. <font color='brown'> From the above figure, we can infer: </font>\n",
    "####           1. <font color='brown'> Orage points = Instance which are Male </font>\n",
    "####           2. <font color='brown'> Blue Points = Instance which are Female </font>\n",
    "####           3. <font color='brown'> Circled Points = Support Vectors used to obtain margin </font>\n",
    "####           4. <font color='brown'> Straingh Line = Hard Margin </font>\n",
    "####           5. <font color='brown'> Dotted Lines = Soft Margin (with trade off being C=1.6, gamma=0.05 and degree=1) </font>\n",
    "#### 5. With respective to only these two variables, meanfun and sp.ent, It is so evident that our model is not being overfit as it gives a clear distinction between two classes 'Male' and ' Female' with no complications in margins. Thus, accuracy of 0.99 can be considered to be valid enough at this point. However, this is just the visualization about margins, we will not visualize how the SVM boundy is placed in a for all our parameters in a 2D space."
   ]
  },
  {
   "cell_type": "markdown",
   "metadata": {},
   "source": [
    "### <font color='green'>10.3. Visualizing the Kernal boundaries </font>"
   ]
  },
  {
   "cell_type": "code",
   "execution_count": 255,
   "metadata": {
    "collapsed": false
   },
   "outputs": [
    {
     "data": {
      "image/png": "[encoded data removed]",
      "text/plain": [
       "<matplotlib.figure.Figure at 0x29dcb83e780>"
      ]
     },
     "metadata": {},
     "output_type": "display_data"
    }
   ],
   "source": [
    "def make_meshgrid(x, y, h=.02):\n",
    "    \"\"\"Create a mesh of points to plot in\n",
    "\n",
    "    Parameters\n",
    "    ----------\n",
    "    x: data to base x-axis meshgrid on\n",
    "    y: data to base y-axis meshgrid on\n",
    "    h: stepsize for meshgrid, optional\n",
    "\n",
    "    Returns\n",
    "    -------\n",
    "    xx, yy : ndarray\n",
    "    \"\"\"\n",
    "    x_min, x_max = x.min() - 1, x.max() + 1\n",
    "    y_min, y_max = y.min() - 1, y.max() + 1\n",
    "    xx, yy = np.meshgrid(np.arange(x_min, x_max, h),\n",
    "                         np.arange(y_min, y_max, h))\n",
    "    return xx, yy\n",
    "\n",
    "\n",
    "def plot_contours(ax, clf, xx, yy, **params):\n",
    "    \"\"\"Plot the decision boundaries for a classifier.\n",
    "\n",
    "    Parameters\n",
    "    ----------\n",
    "    ax: matplotlib axes object\n",
    "    clf: a classifier\n",
    "    xx: meshgrid ndarray\n",
    "    yy: meshgrid ndarray\n",
    "    params: dictionary of params to pass to contourf, optional\n",
    "    \"\"\"\n",
    "    Z = clf.predict(np.c_[xx.ravel(), yy.ravel()])\n",
    "    Z = Z.reshape(xx.shape)\n",
    "    out = ax.contourf(xx, yy, Z, **params)\n",
    "    return out\n",
    "\n",
    "# import some data to play with\n",
    "X = data_x3[['meanfun','sp.ent']].copy()\n",
    "X = np.array(X)\n",
    "y = np.array(data_y)\n",
    "\n",
    "C = 1.6  # SVM regularization parameter\n",
    "models = (SVC(kernel='linear', C=C),\n",
    "          svm.LinearSVC(C=C),\n",
    "          SVC(kernel='rbf', gamma=0.005, C=C),\n",
    "          SVC(kernel='poly', degree=1, gamma=0.005, C=C))\n",
    "models = (clf.fit(X, y) for clf in models)\n",
    "\n",
    "# title for the plots\n",
    "titles = ('SVC with linear kernel (C=1.6)',\n",
    "          'LinearSVC (linear kernel)',\n",
    "          'RBF kernel(gamma=0.005)',\n",
    "          'Polynomial (degree 1)')\n",
    "\n",
    "# Set-up 2x2 grid for plotting.\n",
    "fig, sub = plt.subplots(2, 2)\n",
    "plt.subplots_adjust(wspace=0.4, hspace=0.4)\n",
    "\n",
    "X0, X1 = X[:, 0], X[:, 1]\n",
    "xx, yy = make_meshgrid(X0, X1)\n",
    "\n",
    "for clf, title, ax in zip(models, titles, sub.flatten()):\n",
    "    plot_contours(ax, clf, xx, yy,\n",
    "                  cmap=plt.cm.coolwarm, alpha=0.8)\n",
    "    ax.scatter(X0, X1, c=y, cmap=plt.cm.coolwarm, s=20, edgecolors='k')\n",
    "    ax.set_xlim(xx.min(), xx.max())\n",
    "    ax.set_ylim(yy.min(), yy.max())\n",
    "    ax.set_xlabel('meanfun')\n",
    "    ax.set_ylabel('sp.ent')\n",
    "    ax.set_xticks(())\n",
    "    ax.set_yticks(())\n",
    "    ax.set_title(title)\n",
    "\n",
    "plt.show()"
   ]
  },
  {
   "cell_type": "markdown",
   "metadata": {},
   "source": [
    "### <font color='red'> Inference: </font>\n",
    "#### 1.I still consider meanfun and sp.ent to be my favorite variables to visualize my kernal boundries in a 2D space.\n",
    "#### 2. I modeled polynomial kernal with same parameters penalty measure of C=1.6, gamma = 0.05 and degree=1 to obtain the above scatter plot.\n",
    "#### 3. When did, SVM projected my data in a 2 dimentional space and obtained above feature space with boundries that classifies  gender being male and female. \n",
    "#### 4. <font color='brown'> From the above figure, we can infer: </font>\n",
    "####           1. <font color='brown'> Linear kernal with c=1.6 have a strict boundry </font>\n",
    "####           2. <font color='brown'> While in RBF kernal, the boundry is strict and also have some points misclassified </font>\n",
    "####           3. <font color='brown'> Polynomial kernal have a lineant boundry which are discriminative </font>\n",
    "####           4. <font color='brown'> From above figure, we dont see any complex boundries for polynomial and hence we need not worry about the model being over fitting </font>\n",
    "#### 5. With respective to only these two variables, meanfun and sp.ent, It is so evident that our model is not being overfit as it gives a clear distinction between two classes 'Male' and ' Female' with no complications in margins in a feature space. \n",
    "#### 6. Thus, accuracy of 0.993 produced by Polynomial kernal can be considered to be valid enough, this means 7 out of 1000 times ther could be a misclassification. Let is see if we can minimize this error occurence by increasing the accuracy further using few ensemble learnings."
   ]
  },
  {
   "cell_type": "markdown",
   "metadata": {},
   "source": [
    "# Step-11: Building a Decision Tree Classifier with grid search"
   ]
  },
  {
   "cell_type": "code",
   "execution_count": 190,
   "metadata": {
    "collapsed": false
   },
   "outputs": [
    {
     "data": {
      "text/plain": [
       "({'criterion': 'entropy', 'max_depth': 1.0}, 0.99491353001017291)"
      ]
     },
     "execution_count": 190,
     "metadata": {},
     "output_type": "execute_result"
    }
   ],
   "source": [
    "dt = tree.DecisionTreeClassifier()\n",
    "parameters = {\n",
    "    'criterion': ['entropy','gini'],\n",
    "    'max_depth': np.linspace(1, 20, 10),\n",
    "    #'min_samples_leaf': np.linspace(1, 30, 15),\n",
    "    #'min_samples_split': np.linspace(2, 20, 10)\n",
    "}\n",
    "gs = GridSearchCV(dt, parameters, verbose=0, cv=5)\n",
    "gs.fit(data_x3_train, data_y3_train)\n",
    "gs.best_params_, gs.best_score_"
   ]
  },
  {
   "cell_type": "code",
   "execution_count": 191,
   "metadata": {
    "collapsed": false
   },
   "outputs": [],
   "source": [
    "def measure_performance(X, y, clf, show_accuracy=True, show_classification_report=True, show_confussion_matrix=True):\n",
    "    y_pred = clf.predict(X)   \n",
    "    if show_accuracy:\n",
    "         print(\"Accuracy:{0:.3f}\".format(metrics.accuracy_score(y, y_pred)),\"\\n\")\n",
    "    if show_classification_report:\n",
    "        print(\"Classification report\")\n",
    "        print(metrics.classification_report(y, y_pred),\"\\n\")\n",
    "      \n",
    "    if show_confussion_matrix:\n",
    "        print(\"Confussion matrix\")\n",
    "        print(metrics.confusion_matrix(y, y_pred),\"\\n\")"
   ]
  },
  {
   "cell_type": "code",
   "execution_count": 192,
   "metadata": {
    "collapsed": false
   },
   "outputs": [
    {
     "name": "stdout",
     "output_type": "stream",
     "text": [
      "Accuracy:0.996 \n",
      "\n",
      "Classification report\n",
      "             precision    recall  f1-score   support\n",
      "\n",
      "          0       0.99      0.99      0.99       187\n",
      "          1       1.00      1.00      1.00       305\n",
      "\n",
      "avg / total       1.00      1.00      1.00       492\n",
      " \n",
      "\n"
     ]
    }
   ],
   "source": [
    "dt = tree.DecisionTreeClassifier(criterion='entropy', max_depth=7)\n",
    "dt.fit(data_x3_train, data_y3_train)\n",
    "measure_performance(data_x3_test, data_y3_test, dt, show_confussion_matrix=False, show_classification_report=True)"
   ]
  },
  {
   "cell_type": "code",
   "execution_count": 193,
   "metadata": {
    "collapsed": false
   },
   "outputs": [
    {
     "data": {
      "text/plain": [
       "0.99593495934959353"
      ]
     },
     "execution_count": 193,
     "metadata": {},
     "output_type": "execute_result"
    }
   ],
   "source": [
    "dt_performance = dt.score(data_x3_test, data_y3_test)\n",
    "dt_performance"
   ]
  },
  {
   "cell_type": "code",
   "execution_count": 261,
   "metadata": {
    "collapsed": false
   },
   "outputs": [
    {
     "name": "stdout",
     "output_type": "stream",
     "text": [
      "Mean accuracy with 10 fold cross validation for Decision tree is:  0.989450549451\n"
     ]
    }
   ],
   "source": [
    "# lets do a 10 fold Cross validation to make sure the accuracy obtained above\n",
    "dt_eval_result = cross_val_score(dt, data_x3, data_y, cv=10, scoring='accuracy')\n",
    "print('Mean accuracy with 10 fold cross validation for Decision tree is: ',dt_eval_result.mean())"
   ]
  },
  {
   "cell_type": "markdown",
   "metadata": {},
   "source": [
    "### <font color='red'> Inference: </font>\n",
    "#### 1. <font color='brown'>I see accuracy yealded by decision tree is 0.9894 which is less when compare to SVM classifier which was 0.993</font>\n",
    "#### 2. We can say compare to decision tree SVM model seems more efficient\n",
    "#### 3. So, if scrutability is the requirement based on which a model needs to be built we can go ahead with decision tree model."
   ]
  },
  {
   "cell_type": "markdown",
   "metadata": {},
   "source": [
    "# Step-12: Building a KNN with 5 nearest neighbors"
   ]
  },
  {
   "cell_type": "code",
   "execution_count": 198,
   "metadata": {
    "collapsed": false
   },
   "outputs": [
    {
     "data": {
      "text/plain": [
       "KNeighborsClassifier(algorithm='auto', leaf_size=30, metric='minkowski',\n",
       "           metric_params=None, n_jobs=1, n_neighbors=5, p=2,\n",
       "           weights='distance')"
      ]
     },
     "execution_count": 198,
     "metadata": {},
     "output_type": "execute_result"
    }
   ],
   "source": [
    "n_neighbors = 5\n",
    "knnclf = neighbors.KNeighborsClassifier(n_neighbors, weights='distance')\n",
    "knnclf.fit(data_x3_train, data_y3_train)"
   ]
  },
  {
   "cell_type": "code",
   "execution_count": 199,
   "metadata": {
    "collapsed": false
   },
   "outputs": [],
   "source": [
    "knnpreds_test = knnclf.predict(data_x3_test)"
   ]
  },
  {
   "cell_type": "code",
   "execution_count": 202,
   "metadata": {
    "collapsed": false
   },
   "outputs": [
    {
     "name": "stdout",
     "output_type": "stream",
     "text": [
      "0.99593495935\n"
     ]
    }
   ],
   "source": [
    "print(knnclf.score(data_x3_test, data_y3_test))"
   ]
  },
  {
   "cell_type": "code",
   "execution_count": 200,
   "metadata": {
    "collapsed": false
   },
   "outputs": [
    {
     "name": "stdout",
     "output_type": "stream",
     "text": [
      "             precision    recall  f1-score   support\n",
      "\n",
      "          0       0.99      1.00      0.99       187\n",
      "          1       1.00      0.99      1.00       305\n",
      "\n",
      "avg / total       1.00      1.00      1.00       492\n",
      "\n"
     ]
    }
   ],
   "source": [
    "print(classification_report(data_y3_test, knnpreds_test))"
   ]
  },
  {
   "cell_type": "code",
   "execution_count": 203,
   "metadata": {
    "collapsed": true
   },
   "outputs": [],
   "source": [
    "knn_performance = knnclf.score(data_x3_test, data_y3_test)"
   ]
  },
  {
   "cell_type": "code",
   "execution_count": 264,
   "metadata": {
    "collapsed": false
   },
   "outputs": [
    {
     "name": "stdout",
     "output_type": "stream",
     "text": [
      "Mean accuracy with 10 fold cross validation for KNN is:  0.977271750806\n"
     ]
    }
   ],
   "source": [
    "# lets do a 10 fold Cross validation to make sure the accuracy obtained above\n",
    "knn_eval_result = cross_val_score(knnclf, data_x3, data_y, cv=10, scoring='accuracy')\n",
    "print('Mean accuracy with 10 fold cross validation for KNN is: ',knn_eval_result.mean())"
   ]
  },
  {
   "cell_type": "markdown",
   "metadata": {},
   "source": [
    "### <font color='red'> Inference: </font>\n",
    "#### 1. KNN yealds an accuracy of 0.977 which is comparitive less to SVM\n",
    "#### 2. However, its accuracy touches the benchmark of 0.95 which we decided based on Naive Bayes, we can have this model for any ensemble building, etc., and it not advisable to just discard it.\n",
    "#### 2. Though KNN perform better than Naive Bayes, its accuracy is less compare to SVM"
   ]
  },
  {
   "cell_type": "markdown",
   "metadata": {},
   "source": [
    "# 13. Comparing individual classifier results"
   ]
  },
  {
   "cell_type": "code",
   "execution_count": 204,
   "metadata": {
    "collapsed": true
   },
   "outputs": [],
   "source": [
    "final_resutls = pd.DataFrame(columns=['Classifier Name', 'Performance in terms of Accuracy'])"
   ]
  },
  {
   "cell_type": "code",
   "execution_count": 267,
   "metadata": {
    "collapsed": false
   },
   "outputs": [],
   "source": [
    "final_resutls['Classifier Name'] = ['SVM','Decision Tree','KNN','Naive Bayes']\n",
    "final_resutls['Performance in terms of Accuracy'] = [svm_performance, dt_eval_result.mean(), \n",
    "                                                     knn_eval_result.mean(),nb_eval_result.mean()]"
   ]
  },
  {
   "cell_type": "code",
   "execution_count": 268,
   "metadata": {
    "collapsed": false,
    "scrolled": false
   },
   "outputs": [
    {
     "data": {
      "text/html": [
       "<div>\n",
       "<table border=\"1\" class=\"dataframe\">\n",
       "  <thead>\n",
       "    <tr style=\"text-align: right;\">\n",
       "      <th></th>\n",
       "      <th>Classifier Name</th>\n",
       "      <th>Performance in terms of Accuracy</th>\n",
       "    </tr>\n",
       "  </thead>\n",
       "  <tbody>\n",
       "    <tr>\n",
       "      <th>0</th>\n",
       "      <td>SVM</td>\n",
       "      <td>0.993902</td>\n",
       "    </tr>\n",
       "    <tr>\n",
       "      <th>1</th>\n",
       "      <td>Decision Tree</td>\n",
       "      <td>0.989451</td>\n",
       "    </tr>\n",
       "    <tr>\n",
       "      <th>2</th>\n",
       "      <td>KNN</td>\n",
       "      <td>0.977272</td>\n",
       "    </tr>\n",
       "    <tr>\n",
       "      <th>3</th>\n",
       "      <td>Naive Bayes</td>\n",
       "      <td>0.952901</td>\n",
       "    </tr>\n",
       "  </tbody>\n",
       "</table>\n",
       "</div>"
      ],
      "text/plain": [
       "  Classifier Name  Performance in terms of Accuracy\n",
       "0             SVM                          0.993902\n",
       "1   Decision Tree                          0.989451\n",
       "2             KNN                          0.977272\n",
       "3     Naive Bayes                          0.952901"
      ]
     },
     "execution_count": 268,
     "metadata": {},
     "output_type": "execute_result"
    }
   ],
   "source": [
    "final_resutls"
   ]
  },
  {
   "cell_type": "code",
   "execution_count": 269,
   "metadata": {
    "collapsed": false
   },
   "outputs": [
    {
     "data": {
      "text/plain": [
       "<matplotlib.axes._subplots.AxesSubplot at 0x29dcb83e860>"
      ]
     },
     "execution_count": 269,
     "metadata": {},
     "output_type": "execute_result"
    },
    {
     "data": {
      "image/png": "[encoded data removed]",
      "text/plain": [
       "<matplotlib.figure.Figure at 0x29dcb848400>"
      ]
     },
     "metadata": {},
     "output_type": "display_data"
    }
   ],
   "source": [
    "final_resutls.plot.line(x=final_resutls['Classifier Name'])"
   ]
  },
  {
   "cell_type": "markdown",
   "metadata": {},
   "source": [
    "### <font color='red'> Inference: </font>\n",
    "#### 1. From above table and graph it seems very clear that, SVM with polynomial kernal behaves best.\n",
    "#### 2. Accuracy produces by Polynomial kernal equal to 0.993 is the highest of all cross validation results obtained from other classifiers.\n",
    "#### 3. Thus, with individual classifiers we can infer that as a individual classifier, SVM with Polynomial Kernal does a best classification wrt his voice dataset in classifying an instance as Male or Female\n",
    "#### 4. This SVM polynomial kernal tend to miss classify only 7 out of 1000 times when subjected to such dataset which is pretty good.\n",
    "#### 5. However, we will yet try to improve the accuracy further using some ensemble techniques."
   ]
  },
  {
   "cell_type": "markdown",
   "metadata": {},
   "source": [
    "# 14. Ensemble Learning"
   ]
  },
  {
   "cell_type": "markdown",
   "metadata": {},
   "source": [
    "### <font color='green'>14.1. Bagging with Random Forest </font>"
   ]
  },
  {
   "cell_type": "code",
   "execution_count": 237,
   "metadata": {
    "collapsed": true
   },
   "outputs": [],
   "source": [
    "# Applying Random forest to improve the decision tree model\n",
    "from sklearn.ensemble import RandomForestClassifier\n",
    "rf = RandomForestClassifier(criterion='entropy',max_depth=7)\n",
    "rf_model = rf.fit(data_x3_train, data_y3_train)"
   ]
  },
  {
   "cell_type": "code",
   "execution_count": 241,
   "metadata": {
    "collapsed": true
   },
   "outputs": [],
   "source": [
    "rfpreds_test = rf_model.predict(data_x3_test)\n",
    "rf_performance = rf_model.score(data_x3_test, data_y3_test)"
   ]
  },
  {
   "cell_type": "code",
   "execution_count": 242,
   "metadata": {
    "collapsed": false
   },
   "outputs": [
    {
     "name": "stdout",
     "output_type": "stream",
     "text": [
      "0.997967479675\n"
     ]
    }
   ],
   "source": [
    "print(rf_performance)"
   ]
  },
  {
   "cell_type": "code",
   "execution_count": 270,
   "metadata": {
    "collapsed": false
   },
   "outputs": [
    {
     "name": "stdout",
     "output_type": "stream",
     "text": [
      "Mean accuracy with 10 fold cross validation for KNN is:  0.989865322647\n"
     ]
    }
   ],
   "source": [
    "# lets do a 10 fold Cross validation to make sure the accuracy obtained above\n",
    "rf_eval_result = cross_val_score(rf_model, data_x3, data_y, cv=10, scoring='accuracy')\n",
    "print('Mean accuracy with 10 fold cross validation for KNN is: ',rf_eval_result.mean())"
   ]
  },
  {
   "cell_type": "markdown",
   "metadata": {},
   "source": [
    "### <font color='green'>14.2. Boosting with Random Forest </font>"
   ]
  },
  {
   "cell_type": "code",
   "execution_count": 233,
   "metadata": {
    "collapsed": true
   },
   "outputs": [],
   "source": [
    "# adaboost\n",
    "adaBoost = AdaBoostClassifier()\n",
    "adaboost_model = adaBoost.fit(data_x3_train, data_y3_train)"
   ]
  },
  {
   "cell_type": "code",
   "execution_count": 243,
   "metadata": {
    "collapsed": true
   },
   "outputs": [],
   "source": [
    "adboostpreds_test = adaboost_model.predict(data_x3_test)\n",
    "adaboost_performance = adaboost_model.score(data_x3_test, data_y3_test)"
   ]
  },
  {
   "cell_type": "code",
   "execution_count": 244,
   "metadata": {
    "collapsed": false
   },
   "outputs": [
    {
     "name": "stdout",
     "output_type": "stream",
     "text": [
      "0.997967479675\n"
     ]
    }
   ],
   "source": [
    "print(adaboost_performance)"
   ]
  },
  {
   "cell_type": "code",
   "execution_count": 271,
   "metadata": {
    "collapsed": false
   },
   "outputs": [
    {
     "name": "stdout",
     "output_type": "stream",
     "text": [
      "Mean accuracy with 10 fold cross validation for KNN is:  0.993114103941\n"
     ]
    }
   ],
   "source": [
    "# lets do a 10 fold Cross validation to make sure the accuracy obtained above\n",
    "adaboost_eval_result = cross_val_score(adaboost_model, data_x3, data_y, cv=10, scoring='accuracy')\n",
    "print('Mean accuracy with 10 fold cross validation for KNN is: ',adaboost_eval_result.mean())"
   ]
  },
  {
   "cell_type": "markdown",
   "metadata": {},
   "source": [
    "# 15. Reporting and Discussing the final results"
   ]
  },
  {
   "cell_type": "code",
   "execution_count": 273,
   "metadata": {
    "collapsed": false
   },
   "outputs": [
    {
     "data": {
      "text/html": [
       "<div>\n",
       "<table border=\"1\" class=\"dataframe\">\n",
       "  <thead>\n",
       "    <tr style=\"text-align: right;\">\n",
       "      <th></th>\n",
       "      <th>Classifier Name</th>\n",
       "      <th>Performance in terms of Accuracy</th>\n",
       "    </tr>\n",
       "  </thead>\n",
       "  <tbody>\n",
       "    <tr>\n",
       "      <th>0</th>\n",
       "      <td>SVM</td>\n",
       "      <td>0.993902</td>\n",
       "    </tr>\n",
       "    <tr>\n",
       "      <th>1</th>\n",
       "      <td>AdaBoost</td>\n",
       "      <td>0.993114</td>\n",
       "    </tr>\n",
       "    <tr>\n",
       "      <th>2</th>\n",
       "      <td>Random Forest</td>\n",
       "      <td>0.989865</td>\n",
       "    </tr>\n",
       "    <tr>\n",
       "      <th>3</th>\n",
       "      <td>Decision Tree</td>\n",
       "      <td>0.989451</td>\n",
       "    </tr>\n",
       "    <tr>\n",
       "      <th>4</th>\n",
       "      <td>KNN</td>\n",
       "      <td>0.977272</td>\n",
       "    </tr>\n",
       "    <tr>\n",
       "      <th>5</th>\n",
       "      <td>Naive Bayes</td>\n",
       "      <td>0.952901</td>\n",
       "    </tr>\n",
       "  </tbody>\n",
       "</table>\n",
       "</div>"
      ],
      "text/plain": [
       "  Classifier Name  Performance in terms of Accuracy\n",
       "0             SVM                          0.993902\n",
       "1        AdaBoost                          0.993114\n",
       "2   Random Forest                          0.989865\n",
       "3   Decision Tree                          0.989451\n",
       "4             KNN                          0.977272\n",
       "5     Naive Bayes                          0.952901"
      ]
     },
     "execution_count": 273,
     "metadata": {},
     "output_type": "execute_result"
    }
   ],
   "source": [
    "final_report = pd.DataFrame(columns=['Classifier Name', 'Performance in terms of Accuracy'])\n",
    "final_report['Classifier Name'] = ['SVM','AdaBoost','Random Forest','Decision Tree','KNN','Naive Bayes']\n",
    "final_report['Performance in terms of Accuracy'] = [svm_performance, adaboost_eval_result.mean(),rf_eval_result.mean(),\n",
    "                                                    dt_eval_result.mean(),\n",
    "                                                    knn_eval_result.mean(),nb_eval_result.mean()]\n",
    "final_report"
   ]
  },
  {
   "cell_type": "code",
   "execution_count": 274,
   "metadata": {
    "collapsed": false
   },
   "outputs": [
    {
     "data": {
      "text/plain": [
       "<matplotlib.axes._subplots.AxesSubplot at 0x29dcb2690b8>"
      ]
     },
     "execution_count": 274,
     "metadata": {},
     "output_type": "execute_result"
    },
    {
     "data": {
      "image/png": "[encoded data removed]",
      "text/plain": [
       "<matplotlib.figure.Figure at 0x29dc9fffd68>"
      ]
     },
     "metadata": {},
     "output_type": "display_data"
    }
   ],
   "source": [
    "final_report.plot.line(x=final_report['Classifier Name'])"
   ]
  },
  {
   "cell_type": "markdown",
   "metadata": {},
   "source": [
    "# 16. Final Model"
   ]
  },
  {
   "cell_type": "code",
   "execution_count": 204,
   "metadata": {
    "collapsed": false
   },
   "outputs": [
    {
     "name": "stdout",
     "output_type": "stream",
     "text": [
      "Final Model Detail:\n",
      " SVC(C=1.6, cache_size=200, class_weight=None, coef0=0.0,\n",
      "  decision_function_shape='ovr', degree=1, gamma=0.005, kernel='poly',\n",
      "  max_iter=-1, probability=False, random_state=None, shrinking=True,\n",
      "  tol=0.001, verbose=False)\n",
      "\n",
      "Accuracy obtained from final model with 10 fold CV:\n",
      " 0.991902834008\n",
      "\n",
      "ROC Computed Area Under Curve:\n",
      " 0.998720084159\n"
     ]
    }
   ],
   "source": [
    "# Building the ROC Curve for the final SVM Kernal model\n",
    "final_model = SVC(kernel='poly', C=1.6, gamma=0.005, degree=1)\n",
    "print('Final Model Detail:\\n',final_model)\n",
    "final_model_score = svm_classifier.fit(data_x3_train, data_y3_train).decision_function(data_x3_test)\n",
    "# CV Accuracy \n",
    "final_eval_result = cross_val_score(final_model, data_x3, data_y, cv=10, scoring='accuracy')\n",
    "print('\\nAccuracy obtained from final model with 10 fold CV:\\n',final_eval_result.mean())\n",
    "# ROC measure\n",
    "fpr, tpr, _ = roc_curve(data_y3_test,final_model_score)\n",
    "roc_auc= auc(fpr, tpr)\n",
    "print('\\nROC Computed Area Under Curve:\\n',roc_auc)"
   ]
  },
  {
   "cell_type": "code",
   "execution_count": 205,
   "metadata": {
    "collapsed": false
   },
   "outputs": [
    {
     "data": {
      "image/png": "[encoded data removed]",
      "text/plain": [
       "<matplotlib.figure.Figure at 0x247bbfb5588>"
      ]
     },
     "metadata": {},
     "output_type": "display_data"
    }
   ],
   "source": [
    "plt.figure()\n",
    "lw = 2\n",
    "plt.plot(fpr, tpr, color='darkorange',lw=lw, label='ROC curve (area = %0.2f)' % roc_auc)\n",
    "plt.plot([0, 1], [0, 1], color='navy', lw=lw, linestyle='--')\n",
    "plt.xlim([0.0, 1.0])\n",
    "plt.ylim([0.0, 1.05])\n",
    "plt.xlabel('False Positive Rate')\n",
    "plt.ylabel('True Positive Rate')\n",
    "plt.title('Receiver operating characteristic for Best SVM model')\n",
    "plt.legend(loc=\"lower right\")\n",
    "plt.show()"
   ]
  },
  {
   "cell_type": "markdown",
   "metadata": {},
   "source": [
    "### <font color='red'> Inference: </font>\n",
    "#### 1. From above table and graph it seems very clear that, SVM with polynomial kernal behaves best.\n",
    "#### 2. Accuracy produces by Polynomial kernal equal to 0.993 is the highest of all cross validation results obtained from other classifiers.\n",
    "#### 3. Thus, with individual classifiers we can infer that as a individual classifier, SVM with Polynomial Kernal does a best classification wrt his voice dataset in classifying an instance as Male or Female\n",
    "#### 4. This SVM polynomial kernal tend to miss classify only 7 out of 1000 times when subjected to such dataset which is pretty good.\n",
    "#### 5. However, we will yet try to improve the accuracy further using some ensemble techniques."
   ]
  },
  {
   "cell_type": "markdown",
   "metadata": {
    "collapsed": true
   },
   "source": [
    "##                    -------------------------------- End of the Book -------------------------------------------"
   ]
  }
 ],
 "metadata": {
  "kernelspec": {
   "display_name": "Python 3",
   "language": "python",
   "name": "python3"
  },
  "language_info": {
   "codemirror_mode": {
    "name": "ipython",
    "version": 3
   },
   "file_extension": ".py",
   "mimetype": "text/x-python",
   "name": "python",
   "nbconvert_exporter": "python",
   "pygments_lexer": "ipython3",
   "version": "3.5.4"
  }
 },
 "nbformat": 4,
 "nbformat_minor": 0
}
