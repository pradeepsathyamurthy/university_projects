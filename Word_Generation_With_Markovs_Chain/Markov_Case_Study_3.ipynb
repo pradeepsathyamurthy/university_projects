{
 "cells": [
  {
   "cell_type": "markdown",
   "metadata": {},
   "source": [
    "# Case Study-3"
   ]
  },
  {
   "cell_type": "markdown",
   "metadata": {},
   "source": [
    "## <font color='red'> 1. Building a Markov Model </font>"
   ]
  },
  {
   "cell_type": "code",
   "execution_count": 36,
   "metadata": {
    "collapsed": true
   },
   "outputs": [],
   "source": [
    "import re # used to handle regular expression in extracted file for data clean up\n",
    "import random # used in building markov model\n",
    "from collections import defaultdict, deque # used to build collections in markovs model\n",
    "import requests # for extracting data through API"
   ]
  },
  {
   "cell_type": "code",
   "execution_count": 37,
   "metadata": {
    "collapsed": true
   },
   "outputs": [],
   "source": [
    "# Markov Chain generator\n",
    "# This is a text generator that uses Markov Chains to generate text using a uniform distribution.\n",
    "# num_key_words is the number of words that compose a key (suggested: 2 or 3)\n",
    "\n",
    "class MarkovChain:\n",
    "\n",
    "  def __init__(self, num_key_words=3):\n",
    "    self.num_key_words = num_key_words\n",
    "    self.lookup_dict = defaultdict(list)\n",
    "    self._punctuation_regex = re.compile('[,.!;\\?\\:\\-\\[\\]\\n]+')\n",
    "    self._seeded = False\n",
    "    self.__seed_me()\n",
    "\n",
    "  def __seed_me(self, rand_seed=None):\n",
    "    if self._seeded is not True:\n",
    "      try:\n",
    "        if rand_seed is not None:\n",
    "          random.seed(rand_seed)\n",
    "        else:\n",
    "          random.seed()\n",
    "        self._seeded = True\n",
    "      except NotImplementedError:\n",
    "        self._seeded = False"
   ]
  },
  {
   "cell_type": "code",
   "execution_count": 38,
   "metadata": {
    "collapsed": true
   },
   "outputs": [],
   "source": [
    "# Build Markov Chain from data source.\n",
    "# Use add_file() or add_string() to add the appropriate format source\n",
    "\n",
    "  def add_file(self, file_path):\n",
    "    content = ''\n",
    "    with open(file_path, 'r') as fh:\n",
    "      self.__add_source_data(fh.read())\n",
    "\n",
    "  def add_string(self, str):\n",
    "    self.__add_source_data(str)\n",
    "\n",
    "  def __add_source_data(self, str):\n",
    "    clean_str = self._punctuation_regex.sub(' ', str).lower()\n",
    "    tuples = self.__generate_tuple_keys(clean_str.split())\n",
    "    for t in tuples:\n",
    "      self.lookup_dict[t[0]].append(t[1])\n",
    "\n",
    "  def __generate_tuple_keys(self, data):\n",
    "    if len(data) < self.num_key_words:\n",
    "      return\n",
    "\n",
    "    for i in range(len(data) - self.num_key_words):\n",
    "      yield [ tuple(data[i:i+self.num_key_words]), data[i+self.num_key_words] ]"
   ]
  },
  {
   "cell_type": "code",
   "execution_count": 39,
   "metadata": {
    "collapsed": true
   },
   "outputs": [],
   "source": [
    "# Generates text based on the data the Markov Chain contains\n",
    "# max_length is the maximum number of words to generate\n",
    "\n",
    "  def generate_text(self, max_length=20):\n",
    "    context = deque()\n",
    "    output = []\n",
    "    if len(self.lookup_dict) > 0:\n",
    "      self.__seed_me(rand_seed=len(self.lookup_dict))\n",
    "      idx = random.randint(0, len(self.lookup_dict)-1)\n",
    "      chain_head = list(self.lookup_dict.keys())\n",
    "      context.extend(chain_head)\n",
    "\n",
    "      while len(output) < (max_length - self.num_key_words):\n",
    "        next_choices = self.lookup_dict[tuple(context)]\n",
    "        if len(next_choices) > 0:\n",
    "          next_word = random.choice(next_choices)\n",
    "          context.append(next_word)\n",
    "          output.append(context.popleft())\n",
    "        else:\n",
    "          break\n",
    "      output.extend(list(context))\n",
    "    return output"
   ]
  },
  {
   "cell_type": "markdown",
   "metadata": {},
   "source": [
    "## <font color='red'> 2. Data Extraction from MusicMatch API </font>"
   ]
  },
  {
   "cell_type": "code",
   "execution_count": 41,
   "metadata": {
    "collapsed": true
   },
   "outputs": [],
   "source": [
    "apikey = \"b35f687575517500787c7703ed7e6ac7\""
   ]
  },
  {
   "cell_type": "code",
   "execution_count": 42,
   "metadata": {
    "collapsed": false
   },
   "outputs": [
    {
     "name": "stdout",
     "output_type": "stream",
     "text": [
      "<Response [200]>\n",
      "64\n"
     ]
    }
   ],
   "source": [
    "# Getting the artist_id from band name search\n",
    "url_artist = \"http://api.musixmatch.com/ws/1.1/artist.search\"\n",
    "payload_artist = {'q_artist': 'Metallica', 'apikey': apikey, 'format':'json'}\n",
    "response_artist = requests.get(url_artist, params=payload_artist)\n",
    "print(response_artist)\n",
    "response_artist = response_artist.json()\n",
    "artist_id = response_artist['message']['body']['artist_list'][0]['artist']['artist_id']\n",
    "print(artist_id)"
   ]
  },
  {
   "cell_type": "code",
   "execution_count": 43,
   "metadata": {
    "collapsed": false
   },
   "outputs": [
    {
     "name": "stdout",
     "output_type": "stream",
     "text": [
      "<Response [200]>\n",
      "138286528\n",
      "134555313\n",
      "136356206\n",
      "134555312\n",
      "134555269\n",
      "134555290\n",
      "6\n"
     ]
    }
   ],
   "source": [
    "# Getting all track_ids available for the artist\n",
    "tracks = []\n",
    "url_tracks = \"http://api.musixmatch.com/ws/1.1/track.search?\"\n",
    "payload_tracks = {'q_track':'Battery', 'f_artist_id': artist_id,'page':1,'page_size': 10, 'page': 3, 'apikey': apikey}\n",
    "response_tracks = requests.get(url_tracks, params=payload_tracks)\n",
    "print(response_tracks)\n",
    "response_tracks = response_tracks.json()\n",
    "for item in response_tracks['message']['body']['track_list']:\n",
    "    for i in item:\n",
    "        track_id = item[i][\"track_id\"]\n",
    "        print(track_id)\n",
    "        tracks.append(track_id)\n",
    "print(len(tracks))"
   ]
  },
  {
   "cell_type": "code",
   "execution_count": 44,
   "metadata": {
    "collapsed": false
   },
   "outputs": [
    {
     "name": "stdout",
     "output_type": "stream",
     "text": [
      "138286528\n",
      "404\n",
      "134555313\n",
      "404\n",
      "136356206\n",
      "404\n",
      "134555312\n",
      "404\n",
      "134555269\n",
      "200\n",
      "1\n",
      "134555290\n",
      "200\n",
      "1\n",
      "Saved a total of 1 track\n"
     ]
    }
   ],
   "source": [
    "# Getting lyrics from track_ids\n",
    "data = []\n",
    "url_lyrics = \"http://api.musixmatch.com/ws/1.1/track.lyrics.get?\"\n",
    "track_count=1\n",
    "for track_id in tracks:\n",
    "    print(track_id)\n",
    "    payload_lyrics = {'track_id' : int(track_id), 'apikey': apikey}\n",
    "    response_lyric = requests.get(url_lyrics, params=payload_lyrics)\n",
    "    response_lyric = response_lyric.json()\n",
    "    print(response_lyric['message']['header']['status_code'])\n",
    "    if (response_lyric['message']['header']['status_code'] == 200):\n",
    "        response_lyric = response_lyric['message']['body']['lyrics']\n",
    "        lyric_text = response_lyric['lyrics_body']\n",
    "        # Cleaning the Data\n",
    "        bad_string = '''******* This Lyrics is NOT for Commercial use *******'''\n",
    "        lyric_text = lyric_text.replace(bad_string, '')\n",
    "        another_bad_string = '''...'''\n",
    "        lyric_text = lyric_text.replace(another_bad_string, '')\n",
    "        data.append(lyric_text)\n",
    "        track_count+1\n",
    "        print(track_count)\n",
    "        \n",
    "print('Saved a total of %s track' %(track_count))"
   ]
  },
  {
   "cell_type": "markdown",
   "metadata": {},
   "source": [
    "<img src='music_Match_hits.JPG'>\n"
   ]
  },
  {
   "cell_type": "code",
   "execution_count": 45,
   "metadata": {
    "collapsed": false
   },
   "outputs": [],
   "source": [
    "# Save data in a file\n",
    "\n",
    "# Open a file\n",
    "f = open(\"prady_lyrics.txt\", \"wb\")\n",
    "for lyric in data:\n",
    "    lyric = lyric.encode('ascii', 'ignore')\n",
    "    f.write(lyric)\n",
    "\n",
    "# Close opend file\n",
    "f.close()\n"
   ]
  },
  {
   "cell_type": "markdown",
   "metadata": {
    "collapsed": true
   },
   "source": [
    "## <font color='red'> 3. Generating words from Markovs Model Trained </font>"
   ]
  },
  {
   "cell_type": "code",
   "execution_count": 50,
   "metadata": {
    "collapsed": false
   },
   "outputs": [
    {
     "name": "stdout",
     "output_type": "stream",
     "text": [
      "through the boundaries\n",
      "me battery battery\n",
      "found me cannot\n",
      "to stay smashing\n",
      "cower battery is\n",
      "battery is here\n",
      "the action returning\n",
      "lunacy has found\n",
      "weak are ripped\n",
      "the battery cannot\n",
      "a reaction weak\n",
      "battery is found\n",
      "lashing out the\n",
      "that cower battery\n",
      "kill the battery\n",
      "me cannot stop\n",
      "stay smashing through\n",
      "all that cower\n",
      "into obsession cannot\n",
      "family battery is\n",
      "hypnotizing power crushing\n",
      "aggression turns into\n",
      "here to stay\n",
      "are ripped and\n",
      "the boundaries lunacy\n",
      "is found in\n",
      "the battery pounding\n",
      "out the action\n",
      "and torn away\n",
      "smashing through the\n",
      "battery lashing out\n",
      "battery cannot kill\n",
      "boundaries lunacy has\n",
      "cannot stop the\n",
      "the family battery\n",
      "obsession cannot kill\n",
      "ripped and torn\n",
      "battery pounding out\n",
      "stop the battery\n",
      "found in me\n",
      "crushing all that\n",
      "away hypnotizing power\n",
      "pounding out aggression\n",
      "turns into obsession\n",
      "in me battery\n",
      "reaction weak are\n",
      "power crushing all\n",
      "torn away hypnotizing\n",
      "returning a reaction\n",
      "cannot kill the\n",
      "action returning a\n",
      "is here to\n",
      "has found me\n",
      "battery battery lashing\n",
      "out aggression turns\n",
      "kill the family\n"
     ]
    }
   ],
   "source": [
    "if __name__ == '__main__':\n",
    "    mc = MarkovChain()\n",
    "    mc.add_file('prady_lyrics.txt')\n",
    "    lyrics = mc.generate_text()\n",
    "    str1 = ' '\n",
    "    for lyric in lyrics:\n",
    "        lyric = str1.join(lyric)\n",
    "        print(lyric)"
   ]
  },
  {
   "cell_type": "code",
   "execution_count": null,
   "metadata": {
    "collapsed": true
   },
   "outputs": [],
   "source": []
  }
 ],
 "metadata": {
  "kernelspec": {
   "display_name": "Python 3",
   "language": "python",
   "name": "python3"
  },
  "language_info": {
   "codemirror_mode": {
    "name": "ipython",
    "version": 3
   },
   "file_extension": ".py",
   "mimetype": "text/x-python",
   "name": "python",
   "nbconvert_exporter": "python",
   "pygments_lexer": "ipython3",
   "version": "3.5.4"
  }
 },
 "nbformat": 4,
 "nbformat_minor": 0
}
